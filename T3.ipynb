{
 "cells": [
  {
   "cell_type": "markdown",
   "metadata": {},
   "source": [
    "David Felipe Mora Ramirez - Ciencias de la computación\n",
    "\n",
    "# Tarea 3 "
   ]
  },
  {
   "cell_type": "markdown",
   "metadata": {
    "id": "xpYVGLKCEsoc"
   },
   "source": [
    "## Prerequisitos"
   ]
  },
  {
   "cell_type": "code",
   "execution_count": 2,
   "metadata": {
    "id": "96Iru7rGEgfh"
   },
   "outputs": [],
   "source": [
    "import matplotlib.pyplot as plt\n",
    "import numpy as np\n",
    "from math import log10, floor\n",
    "\n",
    "import scipy.linalg as la\n",
    "import scipy.io as io\n",
    "import scipy.sparse.linalg as sprs\n",
    "from scipy.special import comb\n",
    "\n",
    "import pandas as pd\n",
    "\n",
    "from time import time\n",
    "\n",
    "import requests\n",
    "\n",
    "\n",
    "np.set_printoptions(formatter={'float': '{: 0.4f}'.format})"
   ]
  },
  {
   "cell_type": "markdown",
   "metadata": {
    "id": "z5Ed1f6RWMkV"
   },
   "source": [
    "# Problemas\n"
   ]
  },
  {
   "cell_type": "markdown",
   "metadata": {
    "id": "aXXXQKtHbVAw"
   },
   "source": [
    "## Problema 1\n",
    "\n",
    "Considere la matriz de segundas diferencias $A$ definida por \n",
    "$$a_{ij}=\\left\\{\\begin{array}{cl}\n",
    "-2, & i=j,\\\\\n",
    "1, & |j-i|=1,\\\\\n",
    "0, & |j-i|>1.\n",
    "\\end{array} \\right.$$\n",
    "Considere tambien la matriz de Frank de dimension $n\\times n$, \n",
    "$$\n",
    "A=\\left(\\begin{array}{cccccccccc}\n",
    "n & n-1 & n-2 & n-3 & n-4& \\dots 1\\\\\n",
    "n-1 & n-1 &n-2 &n-3 & n-4 &\\dots 1\\\\\n",
    "0 & n-2 & n-2 & n-3 & n-4 & \\dots 1\\\\\n",
    "0&0&n-3 &n-3 & n-4&\\dots 1 \\\\\n",
    "\\vdots& \\ddots&\\ddots &\\ddots &\\ddots &\\dots\n",
    "\\end{array}\\right)\n",
    "$$\n",
    "\n",
    "Note que en la diagonal principal, es decir, la diagonal 0 tenemos los números $n,n-1,\\dots,1$, en la diagonal $1$ y $-1$ tenemos $n-1,n-2,\\dots,1$. En la diagonal $k>1$ tenemos $n-k,n-k-1,\\dots,1$ y en la diagonal $-k$ con $k>1$ tenemos entradas nulas. Esta matriz es un ejemplo de matriz de Hessenberg. \n",
    "\n",
    "\n",
    "\n",
    "1.   Que propiedades puede listar de las matrices de segundas diferencias y de Frank\n",
    "2.   Investigue como medir el tiempo de ejecución de un comando en python o MatLab y \n",
    "calcule el tiempo de resolver un sistema  $Ax=b$ con $A$ una matriz de \n",
    " segundas diferencias de segundo orden de dimension $n=2,4,8,1,32,64,128,\\dots$. Tome  $b=(1,1,\\dots,1)^T.$\n",
    "3. Repita con la matriz de Frank.\n",
    "4. Repita con la matriz de Hilbert.\n",
    "\n"
   ]
  },
  {
   "cell_type": "markdown",
   "metadata": {},
   "source": [
    "**SOLUCIÓN**"
   ]
  },
  {
   "cell_type": "markdown",
   "metadata": {},
   "source": [
    "**Matriz de segundas diferencias**\n",
    "- Simetrica.\n",
    "- Definida Positiva.\n",
    "- Diagonal dominante.\n",
    "- $Det(T_n)$ = $n+1$ donde $T_n$ es la matriz de segundas diferencias de orden $n$.\n",
    "- $Cond_2(T_n) \\approx \\frac{4n^2}{\\pi^2}$.\n",
    "- Valores propios: $\\mu_k = 4 \\sin^2{\\frac{k\\theta}{2}}$, donde $\\theta = \\frac{\\pi}{n+1}$ y $1 \\leq k \\leq n$.\n",
    "\n",
    "Para mas información consultar [What Is the Second Difference Matrix?](https://nhigham.com/2022/01/31/what-is-the-second-difference-matrix/)\n",
    "\n",
    "**Matriz de Frank**\n",
    "- $Det(F_n) = 1$ donde $F_n$ es la matriz de Frank de orden $n$.\n",
    "- $Cond(F_n) \\geq (n-1)!||F_n||$ para cualquier norma subordinada.\n",
    "\n",
    "Para mas información consultar [What Is the Frank Matrix?](https://nhigham.com/2022/01/25/what-is-the-frank-matrix/)"
   ]
  },
  {
   "cell_type": "markdown",
   "metadata": {},
   "source": [
    "-----"
   ]
  },
  {
   "cell_type": "markdown",
   "metadata": {},
   "source": [
    "Para realizar las pruebas de tiempo, vamos a usar la siguiente función, la cual recibe como argumento el tipo de matriz en forma de función."
   ]
  },
  {
   "cell_type": "code",
   "execution_count": 2,
   "metadata": {},
   "outputs": [],
   "source": [
    "def time_solve(matrix_type):\n",
    "    print(f\"{matrix_type.__name__} matrix\")\n",
    "    for n in [2, 4, 8, 16, 32, 64, 128]:\n",
    "        A = matrix_type(n)\n",
    "        b = np.array([1 for i in range(n)])\n",
    "        start = time()\n",
    "        la.solve(A, b) \n",
    "        print(f\"Tiempo orden {n}: {time() - start} segundos.\")"
   ]
  },
  {
   "cell_type": "markdown",
   "metadata": {},
   "source": [
    "**Tiempo en resolver matriz de segundas diferencias**"
   ]
  },
  {
   "cell_type": "code",
   "execution_count": 3,
   "metadata": {},
   "outputs": [
    {
     "name": "stdout",
     "output_type": "stream",
     "text": [
      "second_differences matrix\n",
      "Tiempo orden 2: 0.0008111000061035156 segundos.\n",
      "Tiempo orden 4: 0.0002319812774658203 segundos.\n",
      "Tiempo orden 8: 0.0002593994140625 segundos.\n",
      "Tiempo orden 16: 0.0021588802337646484 segundos.\n",
      "Tiempo orden 32: 0.00040650367736816406 segundos.\n",
      "Tiempo orden 64: 0.00013065338134765625 segundos.\n",
      "Tiempo orden 128: 0.00048089027404785156 segundos.\n"
     ]
    }
   ],
   "source": [
    "def second_differences(n):\n",
    "    return np.diag([1 for i in range(n - 1)], -1) + \\\n",
    "           np.diag([-2 for i in range(n)], 0)  + \\\n",
    "           np.diag([1 for i in range(n - 1)], 1)\n",
    "\n",
    "time_solve(second_differences) "
   ]
  },
  {
   "cell_type": "markdown",
   "metadata": {},
   "source": [
    "**Tiempo en resolver matriz de Hilbert**"
   ]
  },
  {
   "cell_type": "code",
   "execution_count": 4,
   "metadata": {},
   "outputs": [
    {
     "name": "stdout",
     "output_type": "stream",
     "text": [
      "hilbert matrix\n",
      "Tiempo orden 2: 0.00017714500427246094 segundos.\n",
      "Tiempo orden 4: 0.00028204917907714844 segundos.\n",
      "Tiempo orden 8: 0.0002033710479736328 segundos.\n",
      "Tiempo orden 16: 0.0002887248992919922 segundos.\n",
      "Tiempo orden 32: 0.0004703998565673828 segundos.\n",
      "Tiempo orden 64: 0.0005009174346923828 segundos.\n",
      "Tiempo orden 128: 0.00054168701171875 segundos.\n"
     ]
    },
    {
     "name": "stderr",
     "output_type": "stream",
     "text": [
      "<ipython-input-2-d0e03666c536>:7: LinAlgWarning: Ill-conditioned matrix (rcond=7.09847e-19): result may not be accurate.\n",
      "  la.solve(A, b)\n",
      "<ipython-input-2-d0e03666c536>:7: LinAlgWarning: Ill-conditioned matrix (rcond=4.41451e-20): result may not be accurate.\n",
      "  la.solve(A, b)\n",
      "<ipython-input-2-d0e03666c536>:7: LinAlgWarning: Ill-conditioned matrix (rcond=2.88149e-21): result may not be accurate.\n",
      "  la.solve(A, b)\n",
      "<ipython-input-2-d0e03666c536>:7: LinAlgWarning: Ill-conditioned matrix (rcond=8.96855e-21): result may not be accurate.\n",
      "  la.solve(A, b)\n"
     ]
    }
   ],
   "source": [
    "time_solve(la.hilbert)"
   ]
  },
  {
   "cell_type": "markdown",
   "metadata": {},
   "source": [
    "**Tiempo en resolver matriz de Frank**"
   ]
  },
  {
   "cell_type": "code",
   "execution_count": 5,
   "metadata": {},
   "outputs": [
    {
     "name": "stdout",
     "output_type": "stream",
     "text": [
      "frank matrix\n",
      "Tiempo orden 2: 0.0003628730773925781 segundos.\n",
      "Tiempo orden 4: 0.000362396240234375 segundos.\n",
      "Tiempo orden 8: 7.200241088867188e-05 segundos.\n",
      "Tiempo orden 16: 9.775161743164062e-05 segundos.\n",
      "Tiempo orden 32: 0.0004787445068359375 segundos.\n",
      "Tiempo orden 64: 0.0002052783966064453 segundos.\n",
      "Tiempo orden 128: 0.0004665851593017578 segundos.\n"
     ]
    },
    {
     "name": "stderr",
     "output_type": "stream",
     "text": [
      "<ipython-input-2-d0e03666c536>:7: LinAlgWarning: Ill-conditioned matrix (rcond=1.39114e-19): result may not be accurate.\n",
      "  la.solve(A, b)\n",
      "<ipython-input-2-d0e03666c536>:7: LinAlgWarning: Ill-conditioned matrix (rcond=4.01479e-20): result may not be accurate.\n",
      "  la.solve(A, b)\n",
      "<ipython-input-2-d0e03666c536>:7: LinAlgWarning: Ill-conditioned matrix (rcond=2.57087e-20): result may not be accurate.\n",
      "  la.solve(A, b)\n"
     ]
    }
   ],
   "source": [
    "def frank(n):\n",
    "    frank = np.diag([i for i in range(n-1, 0, -1)], -1) # -1 diag\n",
    "    for i in range(n, 0, -1):\n",
    "        frank = frank + np.diag([j for j in range(i, 0, -1)], n-i)\n",
    "    return frank\n",
    "\n",
    "time_solve(frank)"
   ]
  },
  {
   "cell_type": "markdown",
   "metadata": {},
   "source": [
    "Para las matrices de Hilbert y de Frank los ultimos resultados posiblemente estan bastante errados ya que el número de condición de estas matrices es muy grande."
   ]
  },
  {
   "cell_type": "markdown",
   "metadata": {
    "id": "FpZtQD27WS3q"
   },
   "source": [
    "## Problema 2\n",
    "Considere la matriz de Hilbert $H(n)$ con $n=4,5,6,\\dots$.\n",
    "\n",
    "\n",
    "1.   Para $n=5,6,7,\\dots$ calcule $\\lambda(n)$ el menor valor propio de $H(n)$. Grafique este vector.\n",
    "2.   Al intentar hacer a factorización de Cholesky de $H(20)$ en Octave/Matlab/Python la factorización no se calcula llevando a la conclución de que la representación numérica de $H(20)$ no es definida positiva. En Octave parece el error \n",
    "```\n",
    "# error: chol : imput matrix must be positive definite\n",
    "```\n",
    "Verifique teoricamente  $H(n)$ es en realidad positiva definida (no necesita mostrar detalles aqui). Con ayuda del gráfico anterior y de lo estudiado sobre artimética de punto flotante explique esta situación.\n",
    "3. Calcule $R(n)$ de la factorización de Cholesky de $H(n)=R(n)^TR(n)$ con $n=14,15,\\dots,20$. Presente un gráfico de $t(n)=tr(R(n))$ como evidencia del cálculo.\n",
    "\n",
    "\n"
   ]
  },
  {
   "cell_type": "markdown",
   "metadata": {},
   "source": [
    "**SOLUCIÓN**"
   ]
  },
  {
   "cell_type": "markdown",
   "metadata": {},
   "source": [
    "Calculemos $\\lambda(n)$ de la matriz de Hilbert $H(n)$:"
   ]
  },
  {
   "cell_type": "code",
   "execution_count": 6,
   "metadata": {},
   "outputs": [
    {
     "data": {
      "text/html": [
       "<div>\n",
       "<style scoped>\n",
       "    .dataframe tbody tr th:only-of-type {\n",
       "        vertical-align: middle;\n",
       "    }\n",
       "\n",
       "    .dataframe tbody tr th {\n",
       "        vertical-align: top;\n",
       "    }\n",
       "\n",
       "    .dataframe thead th {\n",
       "        text-align: right;\n",
       "    }\n",
       "</style>\n",
       "<table border=\"1\" class=\"dataframe\">\n",
       "  <thead>\n",
       "    <tr style=\"text-align: right;\">\n",
       "      <th></th>\n",
       "      <th>Min eigenvalues</th>\n",
       "    </tr>\n",
       "  </thead>\n",
       "  <tbody>\n",
       "    <tr>\n",
       "      <th>5</th>\n",
       "      <td>3.287929e-06</td>\n",
       "    </tr>\n",
       "    <tr>\n",
       "      <th>6</th>\n",
       "      <td>1.082799e-07</td>\n",
       "    </tr>\n",
       "    <tr>\n",
       "      <th>7</th>\n",
       "      <td>3.493899e-09</td>\n",
       "    </tr>\n",
       "    <tr>\n",
       "      <th>8</th>\n",
       "      <td>1.111539e-10</td>\n",
       "    </tr>\n",
       "    <tr>\n",
       "      <th>9</th>\n",
       "      <td>3.499686e-12</td>\n",
       "    </tr>\n",
       "    <tr>\n",
       "      <th>10</th>\n",
       "      <td>1.093228e-13</td>\n",
       "    </tr>\n",
       "    <tr>\n",
       "      <th>11</th>\n",
       "      <td>3.402117e-15</td>\n",
       "    </tr>\n",
       "    <tr>\n",
       "      <th>12</th>\n",
       "      <td>1.083040e-16</td>\n",
       "    </tr>\n",
       "    <tr>\n",
       "      <th>13</th>\n",
       "      <td>4.868852e-19</td>\n",
       "    </tr>\n",
       "    <tr>\n",
       "      <th>14</th>\n",
       "      <td>-6.020253e-18</td>\n",
       "    </tr>\n",
       "    <tr>\n",
       "      <th>15</th>\n",
       "      <td>-4.550028e-18</td>\n",
       "    </tr>\n",
       "    <tr>\n",
       "      <th>16</th>\n",
       "      <td>-8.639238e-18</td>\n",
       "    </tr>\n",
       "    <tr>\n",
       "      <th>17</th>\n",
       "      <td>-8.509469e-18</td>\n",
       "    </tr>\n",
       "    <tr>\n",
       "      <th>18</th>\n",
       "      <td>-8.671410e-18</td>\n",
       "    </tr>\n",
       "    <tr>\n",
       "      <th>19</th>\n",
       "      <td>-7.194342e-18</td>\n",
       "    </tr>\n",
       "    <tr>\n",
       "      <th>20</th>\n",
       "      <td>-8.719819e-18</td>\n",
       "    </tr>\n",
       "  </tbody>\n",
       "</table>\n",
       "</div>"
      ],
      "text/plain": [
       "    Min eigenvalues\n",
       "5      3.287929e-06\n",
       "6      1.082799e-07\n",
       "7      3.493899e-09\n",
       "8      1.111539e-10\n",
       "9      3.499686e-12\n",
       "10     1.093228e-13\n",
       "11     3.402117e-15\n",
       "12     1.083040e-16\n",
       "13     4.868852e-19\n",
       "14    -6.020253e-18\n",
       "15    -4.550028e-18\n",
       "16    -8.639238e-18\n",
       "17    -8.509469e-18\n",
       "18    -8.671410e-18\n",
       "19    -7.194342e-18\n",
       "20    -8.719819e-18"
      ]
     },
     "metadata": {},
     "output_type": "display_data"
    },
    {
     "data": {
      "image/png": "[encoded data removed]",
      "text/plain": [
       "<Figure size 432x288 with 1 Axes>"
      ]
     },
     "metadata": {},
     "output_type": "display_data"
    }
   ],
   "source": [
    "lambdas = []\n",
    "\n",
    "for n in range(5, 21):\n",
    "    A = la.hilbert(n)\n",
    "    min_eig = min(la.eigvals(A)).real\n",
    "    lambdas.append(min_eig)\n",
    "\n",
    "plt.style.use('ggplot')\n",
    "plt.plot(range(5, 21), lambdas, \"bo\", markersize=3)\n",
    "plt.ylabel(\"Minimo valor propio\")\n",
    "plt.xlabel(\"Orden de la matriz\")\n",
    "\n",
    "display(pd.DataFrame(lambdas, index=range(5, 21), columns=[\"Min eigenvalues\"]))\n",
    "plt.show()"
   ]
  },
  {
   "cell_type": "markdown",
   "metadata": {},
   "source": [
    "La grafica no le hace mucha justicia a la escala de los valores, por lo tanto vamos a graficar los exponentes de los valores para tener una mejor idea de sus magnitudes."
   ]
  },
  {
   "cell_type": "code",
   "execution_count": 7,
   "metadata": {},
   "outputs": [
    {
     "data": {
      "image/png": "[encoded data removed]",
      "text/plain": [
       "<Figure size 432x288 with 1 Axes>"
      ]
     },
     "metadata": {},
     "output_type": "display_data"
    }
   ],
   "source": [
    "def find_exp(number) -> int:\n",
    "    base10 = log10(abs(number))\n",
    "    return abs(floor(base10))\n",
    "ord_mag = [-find_exp(l) for l in lambdas]\n",
    "\n",
    "plt.style.use('ggplot')\n",
    "plt.plot(range(5,21), ord_mag, \"bo\")\n",
    "plt.ylabel(\"Exponente de lambda_n\")\n",
    "plt.xlabel(\"Orden de la matriz\")\n",
    "\n",
    "plt.show()"
   ]
  },
  {
   "cell_type": "markdown",
   "metadata": {},
   "source": [
    "----"
   ]
  },
  {
   "cell_type": "markdown",
   "metadata": {},
   "source": [
    "Como la matriz de Hilbert es simetrica y valores propios son todos positivos, entonces es definida positiva."
   ]
  },
  {
   "cell_type": "markdown",
   "metadata": {},
   "source": [
    "El calculo de los valores propios muy probablemente involucra un número considerable de operaciones aritmeticas de punto flotante, el cual muy posiblemente aumenta con el orden de la matriz. Por esta razón es bastante probable que los errores asociados al redondeo de operaciones sean grandes a medida que el tamaño de la matriz aumenta. Dicho esto y como los menores autovalores de la matriz de Hilbert son particularmente cercanos a 0(posiblemente tienden a 0), produce que el valor final sea negativo y por lo tanto la matriz no sea definida positiva. Adicionalmente, es posible que el número de condición de la matriz de Hilbert, el cual es muy grande, afecte en la precision de estos calculos."
   ]
  },
  {
   "cell_type": "markdown",
   "metadata": {},
   "source": [
    "----"
   ]
  },
  {
   "cell_type": "markdown",
   "metadata": {},
   "source": [
    "Ahora calculamos la factorización de Cholesky de la matriz de hilbert, sumando un epsilon a la diagonal para que esta sea definida positiva en punto flotante:"
   ]
  },
  {
   "cell_type": "code",
   "execution_count": 8,
   "metadata": {},
   "outputs": [
    {
     "name": "stdout",
     "output_type": "stream",
     "text": [
      "Traza de la R(n) = 1.3884684089646913\n",
      "Traza de la R(n) = 1.388468570687234\n",
      "Traza de la R(n) = 1.3884687043265003\n",
      "Traza de la R(n) = 1.388468831404336\n",
      "Traza de la R(n) = 1.3884689244614477\n",
      "Traza de la R(n) = 1.3884690100109052\n",
      "Traza de la R(n) = 1.388469086993479\n"
     ]
    },
    {
     "data": {
      "image/png": "[encoded data removed]",
      "text/plain": [
       "<Figure size 432x288 with 1 Axes>"
      ]
     },
     "metadata": {},
     "output_type": "display_data"
    }
   ],
   "source": [
    "trs = []\n",
    "for n in range(14, 21):\n",
    "    A = la.hilbert(n) + np.diag([1e-16 for i in range(n)])\n",
    "    tr = np.trace(la.cholesky(A))\n",
    "    trs.append(tr)\n",
    "    print(f\"Traza de la R(n) = {tr}\")\n",
    "    \n",
    "plt.plot(range(14,21), trs, \"bo\", markersize=3)\n",
    "plt.ylabel(\"Tr(R(n))\")\n",
    "plt.xlabel(\"Orden de la matriz\")\n",
    "plt.show()"
   ]
  },
  {
   "cell_type": "markdown",
   "metadata": {
    "id": "sp1uFPlHY6Hz"
   },
   "source": [
    "## Problema 3\n",
    "Considere la matriz de Hilbert $H(n)$ con $n=4,5,\\dots,20$. Existe una fórmula exacta para la inversa de $H(n)$, implemente esta fórmula. Con el comando de MatLab o Python para calcular la inversa calcule $G=inv(H(n))$. Compare y comente los resultados."
   ]
  },
  {
   "cell_type": "markdown",
   "metadata": {},
   "source": [
    "La implementación de la formula exacta para la inversa de la matriz de Hilbert es la siguiente:"
   ]
  },
  {
   "cell_type": "code",
   "execution_count": 9,
   "metadata": {},
   "outputs": [],
   "source": [
    "def invhilbert(n):\n",
    "    invh = np.empty((n, n))\n",
    "    for i in range(n):\n",
    "        for j in range(0, i + 1):\n",
    "            s = i + j\n",
    "            invh[i, j] = ((-1) ** s * (s + 1) *\n",
    "                          comb(n + i, n - j - 1, True) *\n",
    "                          comb(n + j, n - i - 1, True) *\n",
    "                          comb(s, i, True) ** 2)\n",
    "            if i != j:\n",
    "                invh[j, i] = invh[i, j]\n",
    "    return invh"
   ]
  },
  {
   "cell_type": "markdown",
   "metadata": {},
   "source": [
    "Para comparar mejor los resultados, se tomó la norma subornidada de la diferenceia de las dos matrices, aqui podemos notar lo siguiente: "
   ]
  },
  {
   "cell_type": "code",
   "execution_count": 10,
   "metadata": {},
   "outputs": [
    {
     "name": "stdout",
     "output_type": "stream",
     "text": [
      "norm difference hilbert(4) = 9.90517413756832e-10\n",
      "norm difference hilbert(5) = 2.426432425357094e-07\n",
      "norm difference hilbert(6) = 0.00036692335987427297\n",
      "norm difference hilbert(7) = 0.22004619865135133\n",
      "norm difference hilbert(8) = 527.4679444583969\n",
      "norm difference hilbert(9) = 1205399.999284159\n",
      "norm difference hilbert(10) = 1160824727.9715245\n",
      "norm difference hilbert(11) = 763638579710.3049\n",
      "norm difference hilbert(12) = 452933788108745.6\n",
      "norm difference hilbert(13) = 1.108451289111141e+17\n",
      "norm difference hilbert(14) = 1.0497002681909414e+19\n",
      "norm difference hilbert(15) = 3.315854117357593e+20\n",
      "norm difference hilbert(16) = 1.0872852144025739e+22\n",
      "norm difference hilbert(17) = 3.575617941447342e+23\n",
      "norm difference hilbert(18) = 1.1782153119711746e+25\n",
      "norm difference hilbert(19) = 3.8891745420053576e+26\n",
      "norm difference hilbert(20) = 1.2857804745883246e+28\n"
     ]
    }
   ],
   "source": [
    "for n in range(4, 21):\n",
    "    A = invhilbert(n)\n",
    "    B = la.inv(la.hilbert(n))\n",
    "    print(f\"norm difference hilbert({n}) = {la.norm(A-B, 2)}\")"
   ]
  },
  {
   "cell_type": "markdown",
   "metadata": {},
   "source": [
    "\n",
    "\n",
    "- A medida que el $n$ aumenta,la diferencia aumenta rapidamente, alcanzando 1e28 en tan solo $n = 20$.\n",
    "- El calculo de la inversa mediante la función `inv()` se realiza mediante una factorización LU y resolviendo un sistema lineal, en clase vimos que este procedimiento incurre en aproximandamente $O(n^3)$ operaciones de punto flotante. Por otro lado, el algoritmo de la formula directa de la inversa usa aproximadamente $O(n^2)$ operaciones. Dicho esto  es claro que el primer metodo acarrera errores mas grandes. \n",
    "- Por otro lado, se sabe que la matriz de hilbert tiene un número de condición grande, lo que significa que es posible que en la solución de los sistemas que se hacen para hallar la inversa se tengan errores grandes."
   ]
  },
  {
   "cell_type": "markdown",
   "metadata": {
    "id": "k53Ch1rsYKLa"
   },
   "source": [
    "## Problema 4\n",
    "Considere la matriz en https://suitesparse-collection-website.herokuapp.com/Sandia/oscil_dcop_21. El archivo .mat puede ser recuperado de \n",
    "https://suitesparse-collection-website.herokuapp.com/mat/Sandia/oscil_dcop_21.mat .\n",
    "Gráfique el patrón de dispersión de esta matriz. Liste (con justificación numérica) las propiedades de esta matriz. "
   ]
  },
  {
   "cell_type": "markdown",
   "metadata": {},
   "source": [
    "Primero descargamos la matriz:"
   ]
  },
  {
   "cell_type": "code",
   "execution_count": 4,
   "metadata": {},
   "outputs": [
    {
     "data": {
      "image/png": "[encoded data removed]",
      "text/plain": [
       "<Figure size 360x360 with 1 Axes>"
      ]
     },
     "metadata": {
      "needs_background": "light"
     },
     "output_type": "display_data"
    }
   ],
   "source": [
    "url = \"https://suitesparse-collection-website.herokuapp.com/mat/Sandia/oscil_dcop_21.mat\"\n",
    "res = requests.get(url, allow_redirects=True)\n",
    "\n",
    "\n",
    "with open('oscil_dcop_21.mat', 'wb') as f:\n",
    "    f.write(res.content)\n",
    "    \n",
    "A = io.loadmat('oscil_dcop_21')[\"Problem\"][\"A\"][0][0]\n",
    "b = np.ones(A.shape[1])\n",
    "\n",
    "plt.figure(figsize=(5, 5))\n",
    "plt.spy(A.toarray())\n",
    "plt.show()"
   ]
  },
  {
   "cell_type": "markdown",
   "metadata": {},
   "source": [
    "-----"
   ]
  },
  {
   "cell_type": "markdown",
   "metadata": {},
   "source": [
    "**Propiedades**"
   ]
  },
  {
   "cell_type": "markdown",
   "metadata": {},
   "source": [
    "Para verificar las propiedades vamos a pasar la matriz a un arreglo de numpy."
   ]
  },
  {
   "cell_type": "code",
   "execution_count": 5,
   "metadata": {},
   "outputs": [],
   "source": [
    "D = A.toarray()"
   ]
  },
  {
   "cell_type": "markdown",
   "metadata": {},
   "source": [
    "No es simetrica"
   ]
  },
  {
   "cell_type": "code",
   "execution_count": 13,
   "metadata": {},
   "outputs": [
    {
     "data": {
      "text/plain": [
       "False"
      ]
     },
     "execution_count": 13,
     "metadata": {},
     "output_type": "execute_result"
    }
   ],
   "source": [
    "(D == np.transpose(D)).all()"
   ]
  },
  {
   "cell_type": "markdown",
   "metadata": {},
   "source": [
    "No es definida positiva ya que la factorización de cholesky falla.  "
   ]
  },
  {
   "cell_type": "code",
   "execution_count": 8,
   "metadata": {},
   "outputs": [
    {
     "name": "stdout",
     "output_type": "stream",
     "text": [
      "7-th leading minor of the array is not positive definite\n"
     ]
    }
   ],
   "source": [
    "try:\n",
    "    la.cholesky(D)\n",
    "except Exception as e: \n",
    "    print(e)"
   ]
  },
  {
   "cell_type": "markdown",
   "metadata": {},
   "source": [
    "Tiene una norma 2 de:"
   ]
  },
  {
   "cell_type": "code",
   "execution_count": 15,
   "metadata": {},
   "outputs": [
    {
     "data": {
      "text/plain": [
       "2001004.2911866505"
      ]
     },
     "execution_count": 15,
     "metadata": {},
     "output_type": "execute_result"
    }
   ],
   "source": [
    "la.norm(D, 2)"
   ]
  },
  {
   "cell_type": "markdown",
   "metadata": {},
   "source": [
    "Su número de condición es:"
   ]
  },
  {
   "cell_type": "code",
   "execution_count": 16,
   "metadata": {},
   "outputs": [
    {
     "data": {
      "text/plain": [
       "228387375975163.12"
      ]
     },
     "execution_count": 16,
     "metadata": {},
     "output_type": "execute_result"
    }
   ],
   "source": [
    "np.linalg.cond(D)"
   ]
  },
  {
   "cell_type": "markdown",
   "metadata": {
    "id": "blxFOwK_Ye_Z"
   },
   "source": [
    "# Problema 5\n",
    "Considere la matriz en https://suitesparse-collection-website.herokuapp.com/Sandia/oscil_dcop_21. Use un método iterativo (diferente de Jacobi) para resolver el sistema $Ax=b$\n",
    "con $b=(1,1,\\dots,1)$. "
   ]
  },
  {
   "cell_type": "markdown",
   "metadata": {},
   "source": [
    "El modulo `sparce.linalg` de `scipy` tiene varios metodos especialmente diseñados para matrices en formartos esparsos(COO, CRC), entre los que se encuentran metodos directos e iterativos para resolver sistemas lineales:"
   ]
  },
  {
   "cell_type": "markdown",
   "metadata": {},
   "source": [
    "Vamos a probar los siguientes metodos(iterativos) respectivamente:\n",
    "- `bicg()` Metodo del gradiente biconjugado.\n",
    "- `cg()` Metodo del gradiente conjugado.\n",
    "- `gmres()` Generalized Minimal RESidual. "
   ]
  },
  {
   "cell_type": "markdown",
   "metadata": {},
   "source": [
    "Estos metodos retornan una tupla:\n",
    "- x: la solución que da la iteración.\n",
    "- info:\n",
    " - info = 0 si el metodo fue exitoso.\n",
    " - info > 0, si el metodo no alcanzo la toleracia(1e-05), info = número de iteraciones.\n",
    " - info < 0, input incorrecto o fallo."
   ]
  },
  {
   "cell_type": "markdown",
   "metadata": {},
   "source": [
    "Desafortudamente ninguno de los metodos logró converger:"
   ]
  },
  {
   "cell_type": "code",
   "execution_count": 17,
   "metadata": {},
   "outputs": [
    {
     "name": "stdout",
     "output_type": "stream",
     "text": [
      "4300\n",
      "Residuo: 259667.1869760995\n"
     ]
    }
   ],
   "source": [
    "x = sprs.bicg(A, b)\n",
    "print(x[1])\n",
    "print(f\"Residuo: {la.norm(x[0] - A@b)}\")"
   ]
  },
  {
   "cell_type": "code",
   "execution_count": 18,
   "metadata": {},
   "outputs": [
    {
     "name": "stdout",
     "output_type": "stream",
     "text": [
      "4300\n",
      "Residuo: 43433.880610220505\n"
     ]
    }
   ],
   "source": [
    "x = sprs.cg(A, b)\n",
    "print(x[1])\n",
    "print(f\"Residuo: {la.norm(x[0] - A@b)}\")"
   ]
  },
  {
   "cell_type": "code",
   "execution_count": 19,
   "metadata": {},
   "outputs": [
    {
     "name": "stdout",
     "output_type": "stream",
     "text": [
      "4300\n",
      "Residuo: 43401.18839575955\n"
     ]
    }
   ],
   "source": [
    "x = sprs.gmres(A, b)\n",
    "print(x[1])\n",
    "print(f\"Residuo: {la.norm(x[0] - A@b)}\")"
   ]
  },
  {
   "cell_type": "markdown",
   "metadata": {},
   "source": [
    "Todos los metodos hicieron 4300 iteraciones y el que obtuvó el mejor residuo ~43401 fue Generalized Minimal RESidual, aunque aun asi es un residuo bastante grande."
   ]
  },
  {
   "cell_type": "markdown",
   "metadata": {
    "id": "XEz_YOFtYuA-"
   },
   "source": [
    "# Problema 6\n",
    "Considere la matriz https://suitesparse-collection-website.herokuapp.com/Sybrandt/AGATHA_2015.  Que puede decir del problema asociado a esta matriz? "
   ]
  },
  {
   "cell_type": "markdown",
   "metadata": {},
   "source": [
    "El problema asociado a esta matriz se encuentra en el contexto de la investigación academica, en especifico del area de la biomedicina. El problema especifico, que intenta atacar es el de reducir costos y tiempo para la producción cientifica, esto debido a que al momento de incurrir en esta practica se deben explorar de forma exhaustiva posiblemente miles de direcciones de investigacion solo para seleccionar unas pocas que puedan ser estudiadas a mayor profundidad y sin garantia de producir resultados hasta este punto. \n",
    "\n",
    "A traves de los sistemas de generación de hipotesis, pero espeficiamente en el caso de AGATHA se pretende usar un enfoque basado en datos para sugerir de forma educada posibles direcciones de invesigación, reduciendo asi costos y tiempo. Este sistema ayudaria a los investigadores a descubir relaciones implicitas a traves de tecnicas de deep learning, que de otra forma tomarian posiblemente mucho mas tiempo debido al aumento de la produccion cientifica. \n",
    "\n",
    "El sistema tiene dos fases principalmente:\n",
    " - Primero construye un grafo semantico multicapa a partir del amplio rango de dominios de investigación de la base de datos de MEDLINE. Este grafo corresponde a la matriz que se encuentra en la pagina de suite sparse collection.\n",
    " - Despues se usa un _tranformer encoder_ para aprender un criterio de evaluacion  entre las regiones del grafo semantico y las posibles nuevas direcciones de investigación para poder generar hipotesis de investigación."
   ]
  },
  {
   "cell_type": "markdown",
   "metadata": {},
   "source": [
    "El paper [AGATHA: Automatic Graph-mining And Transformer based\n",
    "Hypothesis generation Approach](https://arxiv.org/pdf/2002.05635.pdf)."
   ]
  }
 ],
 "metadata": {
  "colab": {
   "collapsed_sections": [],
   "name": "David Felipe Mora Ramirez - AN_LinealesAN2022I.ipynb",
   "provenance": []
  },
  "kernelspec": {
   "display_name": "sci-comp",
   "language": "python",
   "name": "sci-comp"
  },
  "language_info": {
   "codemirror_mode": {
    "name": "ipython",
    "version": 3
   },
   "file_extension": ".py",
   "mimetype": "text/x-python",
   "name": "python",
   "nbconvert_exporter": "python",
   "pygments_lexer": "ipython3",
   "version": "3.8.8"
  }
 },
 "nbformat": 4,
 "nbformat_minor": 1
}
