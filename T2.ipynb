{
 "cells": [
  {
   "cell_type": "markdown",
   "id": "81af3ecd",
   "metadata": {},
   "source": [
    "# Tarea 2: Ecuaciones no lineales\n",
    "### David Felipe Mora - Ciencias de la computación\n",
    "---"
   ]
  },
  {
   "cell_type": "markdown",
   "id": "1ae7735d",
   "metadata": {},
   "source": [
    "Algunas librerias que vamos a usar:"
   ]
  },
  {
   "cell_type": "code",
   "execution_count": 1,
   "id": "c66479d8",
   "metadata": {},
   "outputs": [],
   "source": [
    "import numpy as np\n",
    "import pandas as pd\n",
    "import matplotlib.pyplot as plt\n",
    "from IPython.display import display\n"
   ]
  },
  {
   "cell_type": "markdown",
   "id": "ad709b5a",
   "metadata": {},
   "source": [
    "## Problemas"
   ]
  },
  {
   "cell_type": "markdown",
   "id": "757209af",
   "metadata": {},
   "source": [
    "### Problema 1. (Kelley)\n",
    "Considere el método de Shamanskii de orden $m$ definido de la siguiente manera. Dado $x_n$ calcule $x_{n+1}$ usando $m$ pasos del método de la cuerda, esto es, \n",
    "\n",
    "$z_1=x_n-f(x_n)/f'(x_n)$\n",
    "\n",
    "$z_{j+1}=z_{j}-f(z_j)/f'(x_n)$, $1\\leq j\\leq m-1$\n",
    "\n",
    "$x_{n+1}=z_{m}$.\n",
    "\n",
    "Observe que se avanza m pasos sin actualizar la derivada en el punto. Implemente el método para un order $m$ definido por el usuario y verifique su código con una ecuación escalar. "
   ]
  },
  {
   "cell_type": "code",
   "execution_count": 2,
   "id": "9dcb6825",
   "metadata": {},
   "outputs": [],
   "source": [
    "def shamanskii(f, fp, x0, epsilon, delta, max_iter, order):\n",
    "    \"\"\"\n",
    "    f(x)=0 usando el metodo de shamanskii\n",
    "    ----------\n",
    "    f : funnción\n",
    "    fp : Derivada\n",
    "    x0 : Aproximación inicial\n",
    "    epsilon : Tolerancia residuo.\n",
    "    delta : Tolerancia incremento.\n",
    "    max_iter : Número maximo de iteraciones\n",
    "    order : orden del metodo de Shamanskii\n",
    "    ----------\n",
    "    \"\"\"\n",
    "    approximations = [x0]\n",
    "    for n in range(max_iter):\n",
    "        fx = f(x0)\n",
    "\n",
    "        if abs(fx) < epsilon:\n",
    "            print(\"Reached epsilon limit.\")\n",
    "            return approximations\n",
    "\n",
    "        fpx = fp(x0)\n",
    "        if fpx == 0:\n",
    "            print(\"Null derivative. Error!\")\n",
    "            return approximations\n",
    "\n",
    "        z0 = x0 - fx / fpx\n",
    "        for i in range(order - 1):  # m iteraciones intermedias\n",
    "            z1 = z0 - f(z0) / fpx\n",
    "            z0 = z1\n",
    "        x1 = z0\n",
    "        approximations.append(x1)\n",
    "\n",
    "        if abs(x0 - x1) < delta:\n",
    "            print(\"Reached delta limit\")\n",
    "            return approximations\n",
    "        x0 = x1\n",
    "\n",
    "    print(\"Maximum iteration reached.\")\n",
    "    return approximations\n"
   ]
  },
  {
   "cell_type": "markdown",
   "id": "504442f3",
   "metadata": {},
   "source": [
    "Vamos a resolver la ecuación escalar: $$e^x - \\sin x = 0$$"
   ]
  },
  {
   "cell_type": "code",
   "execution_count": 3,
   "id": "d252e414",
   "metadata": {},
   "outputs": [
    {
     "name": "stdout",
     "output_type": "stream",
     "text": [
      "Reached epsilon limit.\n"
     ]
    },
    {
     "data": {
      "text/plain": [
       "-3.1830630119333634"
      ]
     },
     "execution_count": 3,
     "metadata": {},
     "output_type": "execute_result"
    }
   ],
   "source": [
    "f = lambda x: np.exp(x) - np.sin(x)\n",
    "f_prime = lambda x: np.exp(x) - np.cos(x)\n",
    "\n",
    "root = shamanskii(f, f_prime, 1, 10e-15, 10e-15, 5, 5)[-1]\n",
    "root\n"
   ]
  },
  {
   "cell_type": "code",
   "execution_count": 4,
   "id": "6275ba28",
   "metadata": {},
   "outputs": [
    {
     "data": {
      "image/png": "[encoded data removed]",
      "text/plain": [
       "<Figure size 504x360 with 1 Axes>"
      ]
     },
     "metadata": {
      "needs_background": "light"
     },
     "output_type": "display_data"
    }
   ],
   "source": [
    "x_val = np.linspace(root - 4, root + 4, 1000)\n",
    "f_val = f(x_val)\n",
    "\n",
    "plt.figure(figsize=(7, 5))\n",
    "plt.grid(color=\"b\", linestyle=\"--\", linewidth=0.5)\n",
    "plt.plot(x_val, 0 * x_val, \"k\")\n",
    "plt.plot(x_val, f_val)\n",
    "plt.xlim([root - 4, root + 4])\n",
    "plt.ylim(-5, 5)\n",
    "\n",
    "plt.show()\n"
   ]
  },
  {
   "cell_type": "markdown",
   "id": "6ae74a1c",
   "metadata": {},
   "source": [
    "Mediante la grafica podemos comprobar que el metodo converge correctamente a una raiz en $x \\approx -3.18$"
   ]
  },
  {
   "cell_type": "markdown",
   "id": "15301e3d",
   "metadata": {},
   "source": [
    "### Problema 2. (Kelley, Iterative methodos for linear and non linear equations)\n",
    "Resuelva las siguientes ecuaiones $f(x)=0$ usando el Método de newton, el método de la secante (para este inicie la iteración en $x_{-1}$ con $x_{-1}=0.99x_0$) y el método de Shamanskii con $m=2,3,4$. Comente los resultados. Puede hacer tablas o plots con las iteraciones.\n",
    "\n",
    "\n",
    "1.   $f(x)=\\cos(x)-x$,  $\\quad x_0=.5$.\n",
    "2.   $f(x)=\\arctan(x)$,  $\\quad x_0=1$.\n",
    "3.   $f(x)=\\sin(x)$, $\\quad  x_0=3$.\n",
    "4.   $f(x)=x^2$,  $\\quad  x_0=.5$.\n",
    "5.   $f(x)=x^2+1$,  $\\quad  x_0=10$."
   ]
  },
  {
   "cell_type": "markdown",
   "id": "5b2bbec3",
   "metadata": {},
   "source": [
    "Para visualizar mejor los resultados de los metodos, vamos a mostrar las tablas de las iteraciones y tambien vamos a graficarlas, para ello vamos a usar la siguiente función:"
   ]
  },
  {
   "cell_type": "code",
   "execution_count": 5,
   "id": "786ffce4",
   "metadata": {},
   "outputs": [],
   "source": [
    "def plot_fun(f, approximations):\n",
    "    root = approximations[-1]\n",
    "    x_val = np.linspace(root - 4, root + 4, 1000)\n",
    "    f_val = f(x_val)\n",
    "\n",
    "    plt.figure(figsize=(7, 5))\n",
    "    plt.grid(color=\"b\", linestyle=\"--\", linewidth=0.5)\n",
    "    plt.plot(approximations, f(approximations), \"ro\", markersize=4)\n",
    "    plt.plot(x_val, 0 * x_val, \"k\")\n",
    "\n",
    "    plt.plot(x_val, f_val)\n",
    "    plt.xlim([root - 4, root + 4])\n",
    "    plt.ylim(-5, 5)\n",
    "    plt.show()\n"
   ]
  },
  {
   "cell_type": "markdown",
   "id": "5013f179",
   "metadata": {},
   "source": [
    "Antes que nada vamos a definir los algoritmos para el metodo de Newton y el metodo de la secante. Estos algoritmos han sido escritos de tal forma que retornen todas las aproximaciones."
   ]
  },
  {
   "cell_type": "code",
   "execution_count": 6,
   "id": "3062db65",
   "metadata": {},
   "outputs": [],
   "source": [
    "def newton(f, fp, x0, epsilon, delta, max_iter):\n",
    "    \"\"\"\n",
    "    f(x)=0 usando el metodo de newton\n",
    "    ----------\n",
    "    f : función\n",
    "    fp : Derivada\n",
    "    x0 : Aproximación inicial\n",
    "    epsilon : Tolerancia residuo.\n",
    "    delta : Tolerancia incremento.\n",
    "    max_iter : Número maximo de iteraciones\n",
    "    ----------\n",
    "    \"\"\"\n",
    "    approximations = [x0]\n",
    "    for n in range(max_iter):\n",
    "        fx = f(x0)\n",
    "\n",
    "        if abs(fx) < epsilon:\n",
    "            print(\"Reached epsilon limit.\")\n",
    "            return approximations\n",
    "\n",
    "        fpx = fp(x0)\n",
    "        if fpx == 0:\n",
    "            print(\"Null derivative. Error!\")\n",
    "            return approximations\n",
    "\n",
    "        x1 = x0 - fx / fpx\n",
    "        approximations.append(x1)\n",
    "\n",
    "        if abs(x0 - x1) < delta:\n",
    "            print(\"Reached delta limit\")\n",
    "            return approximations\n",
    "        x0 = x1\n",
    "\n",
    "    print(\"Maximum iteration reached.\")\n",
    "    return approximations\n"
   ]
  },
  {
   "cell_type": "code",
   "execution_count": 7,
   "id": "6e98bc30",
   "metadata": {},
   "outputs": [],
   "source": [
    "def secante(f, x0, epsilon, delta, max_iter):\n",
    "    \"\"\"\n",
    "    f(x)=0 usando el metodo de la secante\n",
    "    ----------\n",
    "    f : función\n",
    "    x0 : Aproximación inicial\n",
    "    epsilon : Tolerancia residuo.\n",
    "    delta : Tolerancia incremento.\n",
    "    max_iter : Número maximo de iteraciones\n",
    "    ----------\n",
    "    \"\"\"\n",
    "    x0, x1 = x0 * 0.99, x0\n",
    "    approximations = [x0, x1]\n",
    "    for n in range(max_iter):\n",
    "        fx0 = f(x0)\n",
    "        fx1 = f(x1)\n",
    "\n",
    "        if abs(fx1) < epsilon:\n",
    "            print(\"Reached epsilon limit.\")\n",
    "            return approximations\n",
    "\n",
    "        if fx1 == fx0:\n",
    "            print(\"Error. Division por cero.\")\n",
    "\n",
    "        s = (x1 - x0) / (fx1 - fx0)\n",
    "        x0, x1 = x1, x1 - fx1 * s\n",
    "        approximations.append(x1)\n",
    "\n",
    "        if abs(x0 - x1) < delta:\n",
    "            print(\"Reached delta limit.\")\n",
    "            return approximations\n",
    "\n",
    "    print(\"Maximum iteration reached.\")\n",
    "    return approximations\n"
   ]
  },
  {
   "cell_type": "markdown",
   "id": "6b934a4b",
   "metadata": {},
   "source": [
    "Ahora bien, definimos las funciones, sus derivadas y los valores de x0. Tambien definimos los valores de epsilon y delta:"
   ]
  },
  {
   "cell_type": "code",
   "execution_count": 8,
   "id": "66ba50df",
   "metadata": {},
   "outputs": [],
   "source": [
    "fs = [\n",
    "    lambda x: np.cos(x) - x,\n",
    "    lambda x: np.arctan(x),\n",
    "    lambda x: np.sin(x),\n",
    "    lambda x: np.power(x, 2),\n",
    "    lambda x: np.power(x, 2) + 1,\n",
    "]\n",
    "fps = [\n",
    "    lambda x: -np.sin(x) - 1,\n",
    "    lambda x: 1 / (np.power(x, 2) + 1),\n",
    "    lambda x: np.cos(x),\n",
    "    lambda x: 2 * x,\n",
    "    lambda x: 2 * x,\n",
    "]\n",
    "x0s = [0.5, 1, 3, 0.5, 10]\n",
    "\n",
    "epsilon, delta = 10e-15, 10e-15\n"
   ]
  },
  {
   "cell_type": "markdown",
   "id": "c2e4a401",
   "metadata": {},
   "source": [
    "Usando el metodo de Newton obtenemos:"
   ]
  },
  {
   "cell_type": "code",
   "execution_count": 9,
   "id": "26ad6dab",
   "metadata": {},
   "outputs": [
    {
     "name": "stdout",
     "output_type": "stream",
     "text": [
      "f1 = 0 usando Newton\n",
      "Reached epsilon limit.\n"
     ]
    },
    {
     "data": {
      "text/html": [
       "<div>\n",
       "<style scoped>\n",
       "    .dataframe tbody tr th:only-of-type {\n",
       "        vertical-align: middle;\n",
       "    }\n",
       "\n",
       "    .dataframe tbody tr th {\n",
       "        vertical-align: top;\n",
       "    }\n",
       "\n",
       "    .dataframe thead th {\n",
       "        text-align: right;\n",
       "    }\n",
       "</style>\n",
       "<table border=\"1\" class=\"dataframe\">\n",
       "  <thead>\n",
       "    <tr style=\"text-align: right;\">\n",
       "      <th></th>\n",
       "      <th>x_n</th>\n",
       "      <th>f(x_n)</th>\n",
       "    </tr>\n",
       "    <tr>\n",
       "      <th>n</th>\n",
       "      <th></th>\n",
       "      <th></th>\n",
       "    </tr>\n",
       "  </thead>\n",
       "  <tbody>\n",
       "    <tr>\n",
       "      <th>0</th>\n",
       "      <td>0.500000</td>\n",
       "      <td>3.775826e-01</td>\n",
       "    </tr>\n",
       "    <tr>\n",
       "      <th>1</th>\n",
       "      <td>0.755222</td>\n",
       "      <td>-2.710331e-02</td>\n",
       "    </tr>\n",
       "    <tr>\n",
       "      <th>2</th>\n",
       "      <td>0.739142</td>\n",
       "      <td>-9.461538e-05</td>\n",
       "    </tr>\n",
       "    <tr>\n",
       "      <th>3</th>\n",
       "      <td>0.739085</td>\n",
       "      <td>-1.180978e-09</td>\n",
       "    </tr>\n",
       "    <tr>\n",
       "      <th>4</th>\n",
       "      <td>0.739085</td>\n",
       "      <td>0.000000e+00</td>\n",
       "    </tr>\n",
       "  </tbody>\n",
       "</table>\n",
       "</div>"
      ],
      "text/plain": [
       "        x_n        f(x_n)\n",
       "n                        \n",
       "0  0.500000  3.775826e-01\n",
       "1  0.755222 -2.710331e-02\n",
       "2  0.739142 -9.461538e-05\n",
       "3  0.739085 -1.180978e-09\n",
       "4  0.739085  0.000000e+00"
      ]
     },
     "metadata": {},
     "output_type": "display_data"
    },
    {
     "data": {
      "image/png": "[encoded data removed]",
      "text/plain": [
       "<Figure size 504x360 with 1 Axes>"
      ]
     },
     "metadata": {
      "needs_background": "light"
     },
     "output_type": "display_data"
    },
    {
     "name": "stdout",
     "output_type": "stream",
     "text": [
      "f2 = 0 usando Newton\n",
      "Reached epsilon limit.\n"
     ]
    },
    {
     "data": {
      "text/html": [
       "<div>\n",
       "<style scoped>\n",
       "    .dataframe tbody tr th:only-of-type {\n",
       "        vertical-align: middle;\n",
       "    }\n",
       "\n",
       "    .dataframe tbody tr th {\n",
       "        vertical-align: top;\n",
       "    }\n",
       "\n",
       "    .dataframe thead th {\n",
       "        text-align: right;\n",
       "    }\n",
       "</style>\n",
       "<table border=\"1\" class=\"dataframe\">\n",
       "  <thead>\n",
       "    <tr style=\"text-align: right;\">\n",
       "      <th></th>\n",
       "      <th>x_n</th>\n",
       "      <th>f(x_n)</th>\n",
       "    </tr>\n",
       "    <tr>\n",
       "      <th>n</th>\n",
       "      <th></th>\n",
       "      <th></th>\n",
       "    </tr>\n",
       "  </thead>\n",
       "  <tbody>\n",
       "    <tr>\n",
       "      <th>0</th>\n",
       "      <td>1.000000e+00</td>\n",
       "      <td>7.853982e-01</td>\n",
       "    </tr>\n",
       "    <tr>\n",
       "      <th>1</th>\n",
       "      <td>-5.707963e-01</td>\n",
       "      <td>-5.186694e-01</td>\n",
       "    </tr>\n",
       "    <tr>\n",
       "      <th>2</th>\n",
       "      <td>1.168599e-01</td>\n",
       "      <td>1.163323e-01</td>\n",
       "    </tr>\n",
       "    <tr>\n",
       "      <th>3</th>\n",
       "      <td>-1.061022e-03</td>\n",
       "      <td>-1.061022e-03</td>\n",
       "    </tr>\n",
       "    <tr>\n",
       "      <th>4</th>\n",
       "      <td>7.963096e-10</td>\n",
       "      <td>7.963096e-10</td>\n",
       "    </tr>\n",
       "    <tr>\n",
       "      <th>5</th>\n",
       "      <td>0.000000e+00</td>\n",
       "      <td>0.000000e+00</td>\n",
       "    </tr>\n",
       "  </tbody>\n",
       "</table>\n",
       "</div>"
      ],
      "text/plain": [
       "            x_n        f(x_n)\n",
       "n                            \n",
       "0  1.000000e+00  7.853982e-01\n",
       "1 -5.707963e-01 -5.186694e-01\n",
       "2  1.168599e-01  1.163323e-01\n",
       "3 -1.061022e-03 -1.061022e-03\n",
       "4  7.963096e-10  7.963096e-10\n",
       "5  0.000000e+00  0.000000e+00"
      ]
     },
     "metadata": {},
     "output_type": "display_data"
    },
    {
     "data": {
      "image/png": "[encoded data removed]",
      "text/plain": [
       "<Figure size 504x360 with 1 Axes>"
      ]
     },
     "metadata": {
      "needs_background": "light"
     },
     "output_type": "display_data"
    },
    {
     "name": "stdout",
     "output_type": "stream",
     "text": [
      "f3 = 0 usando Newton\n",
      "Reached epsilon limit.\n"
     ]
    },
    {
     "data": {
      "text/html": [
       "<div>\n",
       "<style scoped>\n",
       "    .dataframe tbody tr th:only-of-type {\n",
       "        vertical-align: middle;\n",
       "    }\n",
       "\n",
       "    .dataframe tbody tr th {\n",
       "        vertical-align: top;\n",
       "    }\n",
       "\n",
       "    .dataframe thead th {\n",
       "        text-align: right;\n",
       "    }\n",
       "</style>\n",
       "<table border=\"1\" class=\"dataframe\">\n",
       "  <thead>\n",
       "    <tr style=\"text-align: right;\">\n",
       "      <th></th>\n",
       "      <th>x_n</th>\n",
       "      <th>f(x_n)</th>\n",
       "    </tr>\n",
       "    <tr>\n",
       "      <th>n</th>\n",
       "      <th></th>\n",
       "      <th></th>\n",
       "    </tr>\n",
       "  </thead>\n",
       "  <tbody>\n",
       "    <tr>\n",
       "      <th>0</th>\n",
       "      <td>3.000000</td>\n",
       "      <td>1.411200e-01</td>\n",
       "    </tr>\n",
       "    <tr>\n",
       "      <th>1</th>\n",
       "      <td>3.142547</td>\n",
       "      <td>-9.538893e-04</td>\n",
       "    </tr>\n",
       "    <tr>\n",
       "      <th>2</th>\n",
       "      <td>3.141593</td>\n",
       "      <td>2.893162e-10</td>\n",
       "    </tr>\n",
       "    <tr>\n",
       "      <th>3</th>\n",
       "      <td>3.141593</td>\n",
       "      <td>1.224647e-16</td>\n",
       "    </tr>\n",
       "  </tbody>\n",
       "</table>\n",
       "</div>"
      ],
      "text/plain": [
       "        x_n        f(x_n)\n",
       "n                        \n",
       "0  3.000000  1.411200e-01\n",
       "1  3.142547 -9.538893e-04\n",
       "2  3.141593  2.893162e-10\n",
       "3  3.141593  1.224647e-16"
      ]
     },
     "metadata": {},
     "output_type": "display_data"
    },
    {
     "data": {
      "image/png": "[encoded data removed]",
      "text/plain": [
       "<Figure size 504x360 with 1 Axes>"
      ]
     },
     "metadata": {
      "needs_background": "light"
     },
     "output_type": "display_data"
    },
    {
     "name": "stdout",
     "output_type": "stream",
     "text": [
      "f4 = 0 usando Newton\n",
      "Maximum iteration reached.\n"
     ]
    },
    {
     "data": {
      "text/html": [
       "<div>\n",
       "<style scoped>\n",
       "    .dataframe tbody tr th:only-of-type {\n",
       "        vertical-align: middle;\n",
       "    }\n",
       "\n",
       "    .dataframe tbody tr th {\n",
       "        vertical-align: top;\n",
       "    }\n",
       "\n",
       "    .dataframe thead th {\n",
       "        text-align: right;\n",
       "    }\n",
       "</style>\n",
       "<table border=\"1\" class=\"dataframe\">\n",
       "  <thead>\n",
       "    <tr style=\"text-align: right;\">\n",
       "      <th></th>\n",
       "      <th>x_n</th>\n",
       "      <th>f(x_n)</th>\n",
       "    </tr>\n",
       "    <tr>\n",
       "      <th>n</th>\n",
       "      <th></th>\n",
       "      <th></th>\n",
       "    </tr>\n",
       "  </thead>\n",
       "  <tbody>\n",
       "    <tr>\n",
       "      <th>0</th>\n",
       "      <td>0.500000</td>\n",
       "      <td>2.500000e-01</td>\n",
       "    </tr>\n",
       "    <tr>\n",
       "      <th>1</th>\n",
       "      <td>0.250000</td>\n",
       "      <td>6.250000e-02</td>\n",
       "    </tr>\n",
       "    <tr>\n",
       "      <th>2</th>\n",
       "      <td>0.125000</td>\n",
       "      <td>1.562500e-02</td>\n",
       "    </tr>\n",
       "    <tr>\n",
       "      <th>3</th>\n",
       "      <td>0.062500</td>\n",
       "      <td>3.906250e-03</td>\n",
       "    </tr>\n",
       "    <tr>\n",
       "      <th>4</th>\n",
       "      <td>0.031250</td>\n",
       "      <td>9.765625e-04</td>\n",
       "    </tr>\n",
       "    <tr>\n",
       "      <th>5</th>\n",
       "      <td>0.015625</td>\n",
       "      <td>2.441406e-04</td>\n",
       "    </tr>\n",
       "    <tr>\n",
       "      <th>6</th>\n",
       "      <td>0.007812</td>\n",
       "      <td>6.103516e-05</td>\n",
       "    </tr>\n",
       "    <tr>\n",
       "      <th>7</th>\n",
       "      <td>0.003906</td>\n",
       "      <td>1.525879e-05</td>\n",
       "    </tr>\n",
       "    <tr>\n",
       "      <th>8</th>\n",
       "      <td>0.001953</td>\n",
       "      <td>3.814697e-06</td>\n",
       "    </tr>\n",
       "    <tr>\n",
       "      <th>9</th>\n",
       "      <td>0.000977</td>\n",
       "      <td>9.536743e-07</td>\n",
       "    </tr>\n",
       "    <tr>\n",
       "      <th>10</th>\n",
       "      <td>0.000488</td>\n",
       "      <td>2.384186e-07</td>\n",
       "    </tr>\n",
       "  </tbody>\n",
       "</table>\n",
       "</div>"
      ],
      "text/plain": [
       "         x_n        f(x_n)\n",
       "n                         \n",
       "0   0.500000  2.500000e-01\n",
       "1   0.250000  6.250000e-02\n",
       "2   0.125000  1.562500e-02\n",
       "3   0.062500  3.906250e-03\n",
       "4   0.031250  9.765625e-04\n",
       "5   0.015625  2.441406e-04\n",
       "6   0.007812  6.103516e-05\n",
       "7   0.003906  1.525879e-05\n",
       "8   0.001953  3.814697e-06\n",
       "9   0.000977  9.536743e-07\n",
       "10  0.000488  2.384186e-07"
      ]
     },
     "metadata": {},
     "output_type": "display_data"
    },
    {
     "data": {
      "image/png": "[encoded data removed]",
      "text/plain": [
       "<Figure size 504x360 with 1 Axes>"
      ]
     },
     "metadata": {
      "needs_background": "light"
     },
     "output_type": "display_data"
    },
    {
     "name": "stdout",
     "output_type": "stream",
     "text": [
      "f5 = 0 usando Newton\n",
      "Maximum iteration reached.\n"
     ]
    },
    {
     "data": {
      "text/html": [
       "<div>\n",
       "<style scoped>\n",
       "    .dataframe tbody tr th:only-of-type {\n",
       "        vertical-align: middle;\n",
       "    }\n",
       "\n",
       "    .dataframe tbody tr th {\n",
       "        vertical-align: top;\n",
       "    }\n",
       "\n",
       "    .dataframe thead th {\n",
       "        text-align: right;\n",
       "    }\n",
       "</style>\n",
       "<table border=\"1\" class=\"dataframe\">\n",
       "  <thead>\n",
       "    <tr style=\"text-align: right;\">\n",
       "      <th></th>\n",
       "      <th>x_n</th>\n",
       "      <th>f(x_n)</th>\n",
       "    </tr>\n",
       "    <tr>\n",
       "      <th>n</th>\n",
       "      <th></th>\n",
       "      <th></th>\n",
       "    </tr>\n",
       "  </thead>\n",
       "  <tbody>\n",
       "    <tr>\n",
       "      <th>0</th>\n",
       "      <td>10.000000</td>\n",
       "      <td>101.000000</td>\n",
       "    </tr>\n",
       "    <tr>\n",
       "      <th>1</th>\n",
       "      <td>4.950000</td>\n",
       "      <td>25.502500</td>\n",
       "    </tr>\n",
       "    <tr>\n",
       "      <th>2</th>\n",
       "      <td>2.373990</td>\n",
       "      <td>6.635828</td>\n",
       "    </tr>\n",
       "    <tr>\n",
       "      <th>3</th>\n",
       "      <td>0.976379</td>\n",
       "      <td>1.953316</td>\n",
       "    </tr>\n",
       "    <tr>\n",
       "      <th>4</th>\n",
       "      <td>-0.023907</td>\n",
       "      <td>1.000572</td>\n",
       "    </tr>\n",
       "    <tr>\n",
       "      <th>5</th>\n",
       "      <td>20.902715</td>\n",
       "      <td>437.923513</td>\n",
       "    </tr>\n",
       "    <tr>\n",
       "      <th>6</th>\n",
       "      <td>10.427437</td>\n",
       "      <td>109.731450</td>\n",
       "    </tr>\n",
       "    <tr>\n",
       "      <th>7</th>\n",
       "      <td>5.165768</td>\n",
       "      <td>27.685162</td>\n",
       "    </tr>\n",
       "    <tr>\n",
       "      <th>8</th>\n",
       "      <td>2.486093</td>\n",
       "      <td>7.180659</td>\n",
       "    </tr>\n",
       "    <tr>\n",
       "      <th>9</th>\n",
       "      <td>1.041928</td>\n",
       "      <td>2.085614</td>\n",
       "    </tr>\n",
       "    <tr>\n",
       "      <th>10</th>\n",
       "      <td>0.041084</td>\n",
       "      <td>1.001688</td>\n",
       "    </tr>\n",
       "  </tbody>\n",
       "</table>\n",
       "</div>"
      ],
      "text/plain": [
       "          x_n      f(x_n)\n",
       "n                        \n",
       "0   10.000000  101.000000\n",
       "1    4.950000   25.502500\n",
       "2    2.373990    6.635828\n",
       "3    0.976379    1.953316\n",
       "4   -0.023907    1.000572\n",
       "5   20.902715  437.923513\n",
       "6   10.427437  109.731450\n",
       "7    5.165768   27.685162\n",
       "8    2.486093    7.180659\n",
       "9    1.041928    2.085614\n",
       "10   0.041084    1.001688"
      ]
     },
     "metadata": {},
     "output_type": "display_data"
    },
    {
     "data": {
      "image/png": "[encoded data removed]",
      "text/plain": [
       "<Figure size 504x360 with 1 Axes>"
      ]
     },
     "metadata": {
      "needs_background": "light"
     },
     "output_type": "display_data"
    }
   ],
   "source": [
    "for idx, (f, fp, x0) in enumerate(zip(fs, fps, x0s)):\n",
    "    print(f\"f{idx+1} = 0 usando Newton\")\n",
    "    newton_values = newton(f, fp, x0, epsilon, delta, 10)\n",
    "    display(\n",
    "        pd.DataFrame({\"x_n\": newton_values, \"f(x_n)\": f(newton_values)}).rename_axis(\n",
    "            \"n\"\n",
    "        )\n",
    "    )\n",
    "    plot_fun(f, newton_values)\n"
   ]
  },
  {
   "cell_type": "markdown",
   "id": "6b8df10b",
   "metadata": {},
   "source": [
    "En general podemos observar que para las primeras tres funciones el metodo converge rapidamente, sin embargo para $f(x) = x^2$ no llega a alcanzar ninguno de los criterios de parada y termina por exceder el numero máximo de iteraciones. Para $f(x) = x^2 + 1$ claramente diverge y se detiene al exceder el numero máximo de iteraciones, no obstante las aproximaciones se acercan al minimo de la función."
   ]
  },
  {
   "cell_type": "markdown",
   "id": "5a517588",
   "metadata": {},
   "source": [
    "Usando el metodo de Shamanskii con $m = 2$:"
   ]
  },
  {
   "cell_type": "code",
   "execution_count": 10,
   "id": "ffa313d8",
   "metadata": {},
   "outputs": [
    {
     "name": "stdout",
     "output_type": "stream",
     "text": [
      "f1 = 0 usando shamanskii con m = 2\n",
      "Reached epsilon limit.\n"
     ]
    },
    {
     "data": {
      "text/html": [
       "<div>\n",
       "<style scoped>\n",
       "    .dataframe tbody tr th:only-of-type {\n",
       "        vertical-align: middle;\n",
       "    }\n",
       "\n",
       "    .dataframe tbody tr th {\n",
       "        vertical-align: top;\n",
       "    }\n",
       "\n",
       "    .dataframe thead th {\n",
       "        text-align: right;\n",
       "    }\n",
       "</style>\n",
       "<table border=\"1\" class=\"dataframe\">\n",
       "  <thead>\n",
       "    <tr style=\"text-align: right;\">\n",
       "      <th></th>\n",
       "      <th>x_n</th>\n",
       "      <th>f(x_n)</th>\n",
       "    </tr>\n",
       "    <tr>\n",
       "      <th>n</th>\n",
       "      <th></th>\n",
       "      <th></th>\n",
       "    </tr>\n",
       "  </thead>\n",
       "  <tbody>\n",
       "    <tr>\n",
       "      <th>0</th>\n",
       "      <td>0.500000</td>\n",
       "      <td>3.775826e-01</td>\n",
       "    </tr>\n",
       "    <tr>\n",
       "      <th>1</th>\n",
       "      <td>0.736902</td>\n",
       "      <td>3.651525e-03</td>\n",
       "    </tr>\n",
       "    <tr>\n",
       "      <th>2</th>\n",
       "      <td>0.739085</td>\n",
       "      <td>1.705065e-09</td>\n",
       "    </tr>\n",
       "    <tr>\n",
       "      <th>3</th>\n",
       "      <td>0.739085</td>\n",
       "      <td>0.000000e+00</td>\n",
       "    </tr>\n",
       "  </tbody>\n",
       "</table>\n",
       "</div>"
      ],
      "text/plain": [
       "        x_n        f(x_n)\n",
       "n                        \n",
       "0  0.500000  3.775826e-01\n",
       "1  0.736902  3.651525e-03\n",
       "2  0.739085  1.705065e-09\n",
       "3  0.739085  0.000000e+00"
      ]
     },
     "metadata": {},
     "output_type": "display_data"
    },
    {
     "data": {
      "image/png": "[encoded data removed]",
      "text/plain": [
       "<Figure size 504x360 with 1 Axes>"
      ]
     },
     "metadata": {
      "needs_background": "light"
     },
     "output_type": "display_data"
    },
    {
     "name": "stdout",
     "output_type": "stream",
     "text": [
      "f2 = 0 usando shamanskii con m = 2\n",
      "Reached epsilon limit.\n"
     ]
    },
    {
     "data": {
      "text/html": [
       "<div>\n",
       "<style scoped>\n",
       "    .dataframe tbody tr th:only-of-type {\n",
       "        vertical-align: middle;\n",
       "    }\n",
       "\n",
       "    .dataframe tbody tr th {\n",
       "        vertical-align: top;\n",
       "    }\n",
       "\n",
       "    .dataframe thead th {\n",
       "        text-align: right;\n",
       "    }\n",
       "</style>\n",
       "<table border=\"1\" class=\"dataframe\">\n",
       "  <thead>\n",
       "    <tr style=\"text-align: right;\">\n",
       "      <th></th>\n",
       "      <th>x_n</th>\n",
       "      <th>f(x_n)</th>\n",
       "    </tr>\n",
       "    <tr>\n",
       "      <th>n</th>\n",
       "      <th></th>\n",
       "      <th></th>\n",
       "    </tr>\n",
       "  </thead>\n",
       "  <tbody>\n",
       "    <tr>\n",
       "      <th>0</th>\n",
       "      <td>1.000000e+00</td>\n",
       "      <td>7.853982e-01</td>\n",
       "    </tr>\n",
       "    <tr>\n",
       "      <th>1</th>\n",
       "      <td>4.665424e-01</td>\n",
       "      <td>4.365251e-01</td>\n",
       "    </tr>\n",
       "    <tr>\n",
       "      <th>2</th>\n",
       "      <td>1.403632e-02</td>\n",
       "      <td>1.403539e-02</td>\n",
       "    </tr>\n",
       "    <tr>\n",
       "      <th>3</th>\n",
       "      <td>3.632095e-10</td>\n",
       "      <td>3.632095e-10</td>\n",
       "    </tr>\n",
       "    <tr>\n",
       "      <th>4</th>\n",
       "      <td>0.000000e+00</td>\n",
       "      <td>0.000000e+00</td>\n",
       "    </tr>\n",
       "  </tbody>\n",
       "</table>\n",
       "</div>"
      ],
      "text/plain": [
       "            x_n        f(x_n)\n",
       "n                            \n",
       "0  1.000000e+00  7.853982e-01\n",
       "1  4.665424e-01  4.365251e-01\n",
       "2  1.403632e-02  1.403539e-02\n",
       "3  3.632095e-10  3.632095e-10\n",
       "4  0.000000e+00  0.000000e+00"
      ]
     },
     "metadata": {},
     "output_type": "display_data"
    },
    {
     "data": {
      "image/png": "[encoded data removed]",
      "text/plain": [
       "<Figure size 504x360 with 1 Axes>"
      ]
     },
     "metadata": {
      "needs_background": "light"
     },
     "output_type": "display_data"
    },
    {
     "name": "stdout",
     "output_type": "stream",
     "text": [
      "f3 = 0 usando shamanskii con m = 2\n",
      "Reached epsilon limit.\n"
     ]
    },
    {
     "data": {
      "text/html": [
       "<div>\n",
       "<style scoped>\n",
       "    .dataframe tbody tr th:only-of-type {\n",
       "        vertical-align: middle;\n",
       "    }\n",
       "\n",
       "    .dataframe tbody tr th {\n",
       "        vertical-align: top;\n",
       "    }\n",
       "\n",
       "    .dataframe thead th {\n",
       "        text-align: right;\n",
       "    }\n",
       "</style>\n",
       "<table border=\"1\" class=\"dataframe\">\n",
       "  <thead>\n",
       "    <tr style=\"text-align: right;\">\n",
       "      <th></th>\n",
       "      <th>x_n</th>\n",
       "      <th>f(x_n)</th>\n",
       "    </tr>\n",
       "    <tr>\n",
       "      <th>n</th>\n",
       "      <th></th>\n",
       "      <th></th>\n",
       "    </tr>\n",
       "  </thead>\n",
       "  <tbody>\n",
       "    <tr>\n",
       "      <th>0</th>\n",
       "      <td>3.000000</td>\n",
       "      <td>1.411200e-01</td>\n",
       "    </tr>\n",
       "    <tr>\n",
       "      <th>1</th>\n",
       "      <td>3.141583</td>\n",
       "      <td>9.642404e-06</td>\n",
       "    </tr>\n",
       "    <tr>\n",
       "      <th>2</th>\n",
       "      <td>3.141593</td>\n",
       "      <td>1.224647e-16</td>\n",
       "    </tr>\n",
       "  </tbody>\n",
       "</table>\n",
       "</div>"
      ],
      "text/plain": [
       "        x_n        f(x_n)\n",
       "n                        \n",
       "0  3.000000  1.411200e-01\n",
       "1  3.141583  9.642404e-06\n",
       "2  3.141593  1.224647e-16"
      ]
     },
     "metadata": {},
     "output_type": "display_data"
    },
    {
     "data": {
      "image/png": "[encoded data removed]",
      "text/plain": [
       "<Figure size 504x360 with 1 Axes>"
      ]
     },
     "metadata": {
      "needs_background": "light"
     },
     "output_type": "display_data"
    },
    {
     "name": "stdout",
     "output_type": "stream",
     "text": [
      "f4 = 0 usando shamanskii con m = 2\n",
      "Maximum iteration reached.\n"
     ]
    },
    {
     "data": {
      "text/html": [
       "<div>\n",
       "<style scoped>\n",
       "    .dataframe tbody tr th:only-of-type {\n",
       "        vertical-align: middle;\n",
       "    }\n",
       "\n",
       "    .dataframe tbody tr th {\n",
       "        vertical-align: top;\n",
       "    }\n",
       "\n",
       "    .dataframe thead th {\n",
       "        text-align: right;\n",
       "    }\n",
       "</style>\n",
       "<table border=\"1\" class=\"dataframe\">\n",
       "  <thead>\n",
       "    <tr style=\"text-align: right;\">\n",
       "      <th></th>\n",
       "      <th>x_n</th>\n",
       "      <th>f(x_n)</th>\n",
       "    </tr>\n",
       "    <tr>\n",
       "      <th>n</th>\n",
       "      <th></th>\n",
       "      <th></th>\n",
       "    </tr>\n",
       "  </thead>\n",
       "  <tbody>\n",
       "    <tr>\n",
       "      <th>0</th>\n",
       "      <td>0.500000</td>\n",
       "      <td>2.500000e-01</td>\n",
       "    </tr>\n",
       "    <tr>\n",
       "      <th>1</th>\n",
       "      <td>0.187500</td>\n",
       "      <td>3.515625e-02</td>\n",
       "    </tr>\n",
       "    <tr>\n",
       "      <th>2</th>\n",
       "      <td>0.070312</td>\n",
       "      <td>4.943848e-03</td>\n",
       "    </tr>\n",
       "    <tr>\n",
       "      <th>3</th>\n",
       "      <td>0.026367</td>\n",
       "      <td>6.952286e-04</td>\n",
       "    </tr>\n",
       "    <tr>\n",
       "      <th>4</th>\n",
       "      <td>0.009888</td>\n",
       "      <td>9.776652e-05</td>\n",
       "    </tr>\n",
       "    <tr>\n",
       "      <th>5</th>\n",
       "      <td>0.003708</td>\n",
       "      <td>1.374842e-05</td>\n",
       "    </tr>\n",
       "    <tr>\n",
       "      <th>6</th>\n",
       "      <td>0.001390</td>\n",
       "      <td>1.933371e-06</td>\n",
       "    </tr>\n",
       "    <tr>\n",
       "      <th>7</th>\n",
       "      <td>0.000521</td>\n",
       "      <td>2.718803e-07</td>\n",
       "    </tr>\n",
       "    <tr>\n",
       "      <th>8</th>\n",
       "      <td>0.000196</td>\n",
       "      <td>3.823317e-08</td>\n",
       "    </tr>\n",
       "    <tr>\n",
       "      <th>9</th>\n",
       "      <td>0.000073</td>\n",
       "      <td>5.376539e-09</td>\n",
       "    </tr>\n",
       "    <tr>\n",
       "      <th>10</th>\n",
       "      <td>0.000027</td>\n",
       "      <td>7.560758e-10</td>\n",
       "    </tr>\n",
       "  </tbody>\n",
       "</table>\n",
       "</div>"
      ],
      "text/plain": [
       "         x_n        f(x_n)\n",
       "n                         \n",
       "0   0.500000  2.500000e-01\n",
       "1   0.187500  3.515625e-02\n",
       "2   0.070312  4.943848e-03\n",
       "3   0.026367  6.952286e-04\n",
       "4   0.009888  9.776652e-05\n",
       "5   0.003708  1.374842e-05\n",
       "6   0.001390  1.933371e-06\n",
       "7   0.000521  2.718803e-07\n",
       "8   0.000196  3.823317e-08\n",
       "9   0.000073  5.376539e-09\n",
       "10  0.000027  7.560758e-10"
      ]
     },
     "metadata": {},
     "output_type": "display_data"
    },
    {
     "data": {
      "image/png": "[encoded data removed]",
      "text/plain": [
       "<Figure size 504x360 with 1 Axes>"
      ]
     },
     "metadata": {
      "needs_background": "light"
     },
     "output_type": "display_data"
    },
    {
     "name": "stdout",
     "output_type": "stream",
     "text": [
      "f5 = 0 usando shamanskii con m = 2\n",
      "Maximum iteration reached.\n"
     ]
    },
    {
     "data": {
      "text/html": [
       "<div>\n",
       "<style scoped>\n",
       "    .dataframe tbody tr th:only-of-type {\n",
       "        vertical-align: middle;\n",
       "    }\n",
       "\n",
       "    .dataframe tbody tr th {\n",
       "        vertical-align: top;\n",
       "    }\n",
       "\n",
       "    .dataframe thead th {\n",
       "        text-align: right;\n",
       "    }\n",
       "</style>\n",
       "<table border=\"1\" class=\"dataframe\">\n",
       "  <thead>\n",
       "    <tr style=\"text-align: right;\">\n",
       "      <th></th>\n",
       "      <th>x_n</th>\n",
       "      <th>f(x_n)</th>\n",
       "    </tr>\n",
       "    <tr>\n",
       "      <th>n</th>\n",
       "      <th></th>\n",
       "      <th></th>\n",
       "    </tr>\n",
       "  </thead>\n",
       "  <tbody>\n",
       "    <tr>\n",
       "      <th>0</th>\n",
       "      <td>10.000000</td>\n",
       "      <td>101.000000</td>\n",
       "    </tr>\n",
       "    <tr>\n",
       "      <th>1</th>\n",
       "      <td>3.674875</td>\n",
       "      <td>14.504706</td>\n",
       "    </tr>\n",
       "    <tr>\n",
       "      <th>2</th>\n",
       "      <td>1.171471</td>\n",
       "      <td>2.372344</td>\n",
       "    </tr>\n",
       "    <tr>\n",
       "      <th>3</th>\n",
       "      <td>-0.278672</td>\n",
       "      <td>1.077658</td>\n",
       "    </tr>\n",
       "    <tr>\n",
       "      <th>4</th>\n",
       "      <td>8.362873</td>\n",
       "      <td>70.937648</td>\n",
       "    </tr>\n",
       "    <tr>\n",
       "      <th>5</th>\n",
       "      <td>3.046182</td>\n",
       "      <td>10.279223</td>\n",
       "    </tr>\n",
       "    <tr>\n",
       "      <th>6</th>\n",
       "      <td>0.891686</td>\n",
       "      <td>1.795104</td>\n",
       "    </tr>\n",
       "    <tr>\n",
       "      <th>7</th>\n",
       "      <td>-0.683030</td>\n",
       "      <td>1.466530</td>\n",
       "    </tr>\n",
       "    <tr>\n",
       "      <th>8</th>\n",
       "      <td>1.234188</td>\n",
       "      <td>2.523219</td>\n",
       "    </tr>\n",
       "    <tr>\n",
       "      <th>9</th>\n",
       "      <td>-0.211358</td>\n",
       "      <td>1.044672</td>\n",
       "    </tr>\n",
       "    <tr>\n",
       "      <th>10</th>\n",
       "      <td>16.708105</td>\n",
       "      <td>280.160761</td>\n",
       "    </tr>\n",
       "  </tbody>\n",
       "</table>\n",
       "</div>"
      ],
      "text/plain": [
       "          x_n      f(x_n)\n",
       "n                        \n",
       "0   10.000000  101.000000\n",
       "1    3.674875   14.504706\n",
       "2    1.171471    2.372344\n",
       "3   -0.278672    1.077658\n",
       "4    8.362873   70.937648\n",
       "5    3.046182   10.279223\n",
       "6    0.891686    1.795104\n",
       "7   -0.683030    1.466530\n",
       "8    1.234188    2.523219\n",
       "9   -0.211358    1.044672\n",
       "10  16.708105  280.160761"
      ]
     },
     "metadata": {},
     "output_type": "display_data"
    },
    {
     "data": {
      "image/png": "[encoded data removed]",
      "text/plain": [
       "<Figure size 504x360 with 1 Axes>"
      ]
     },
     "metadata": {
      "needs_background": "light"
     },
     "output_type": "display_data"
    }
   ],
   "source": [
    "for idx, (f, fp, x0) in enumerate(zip(fs, fps, x0s)):\n",
    "    print(f\"f{idx+1} = 0 usando shamanskii con m = 2\")\n",
    "    shamanskii_values = shamanskii(f, fp, x0, epsilon, delta, 10, 2)\n",
    "    display(\n",
    "        pd.DataFrame(\n",
    "            {\"x_n\": shamanskii_values, \"f(x_n)\": f(shamanskii_values)}\n",
    "        ).rename_axis(\"n\")\n",
    "    )\n",
    "    plot_fun(f, shamanskii_values)\n"
   ]
  },
  {
   "cell_type": "markdown",
   "id": "d001fd84",
   "metadata": {},
   "source": [
    "Para el metodo de Shamanskii con $m = 2$ vemos que los resultados son muy similares a Newton, quizas un poco mas imprecisos. Tambien podemos ver que para la ultima función las aproximaciones empiezan a tomar valores muy grandes."
   ]
  },
  {
   "cell_type": "markdown",
   "id": "9aa48bc0",
   "metadata": {},
   "source": [
    "Usando el metodo de Shamanskii con $m = 3$:"
   ]
  },
  {
   "cell_type": "code",
   "execution_count": 11,
   "id": "e969ba3b",
   "metadata": {},
   "outputs": [
    {
     "name": "stdout",
     "output_type": "stream",
     "text": [
      "f1 = 0 usando shamanskii con m = 3\n",
      "Reached epsilon limit.\n"
     ]
    },
    {
     "data": {
      "text/html": [
       "<div>\n",
       "<style scoped>\n",
       "    .dataframe tbody tr th:only-of-type {\n",
       "        vertical-align: middle;\n",
       "    }\n",
       "\n",
       "    .dataframe tbody tr th {\n",
       "        vertical-align: top;\n",
       "    }\n",
       "\n",
       "    .dataframe thead th {\n",
       "        text-align: right;\n",
       "    }\n",
       "</style>\n",
       "<table border=\"1\" class=\"dataframe\">\n",
       "  <thead>\n",
       "    <tr style=\"text-align: right;\">\n",
       "      <th></th>\n",
       "      <th>x_n</th>\n",
       "      <th>f(x_n)</th>\n",
       "    </tr>\n",
       "    <tr>\n",
       "      <th>n</th>\n",
       "      <th></th>\n",
       "      <th></th>\n",
       "    </tr>\n",
       "  </thead>\n",
       "  <tbody>\n",
       "    <tr>\n",
       "      <th>0</th>\n",
       "      <td>0.500000</td>\n",
       "      <td>3.775826e-01</td>\n",
       "    </tr>\n",
       "    <tr>\n",
       "      <th>1</th>\n",
       "      <td>0.739370</td>\n",
       "      <td>-4.775601e-04</td>\n",
       "    </tr>\n",
       "    <tr>\n",
       "      <th>2</th>\n",
       "      <td>0.739085</td>\n",
       "      <td>-5.551115e-16</td>\n",
       "    </tr>\n",
       "  </tbody>\n",
       "</table>\n",
       "</div>"
      ],
      "text/plain": [
       "        x_n        f(x_n)\n",
       "n                        \n",
       "0  0.500000  3.775826e-01\n",
       "1  0.739370 -4.775601e-04\n",
       "2  0.739085 -5.551115e-16"
      ]
     },
     "metadata": {},
     "output_type": "display_data"
    },
    {
     "data": {
      "image/png": "[encoded data removed]",
      "text/plain": [
       "<Figure size 504x360 with 1 Axes>"
      ]
     },
     "metadata": {
      "needs_background": "light"
     },
     "output_type": "display_data"
    },
    {
     "name": "stdout",
     "output_type": "stream",
     "text": [
      "f2 = 0 usando shamanskii con m = 3\n",
      "Reached epsilon limit.\n"
     ]
    },
    {
     "data": {
      "text/html": [
       "<div>\n",
       "<style scoped>\n",
       "    .dataframe tbody tr th:only-of-type {\n",
       "        vertical-align: middle;\n",
       "    }\n",
       "\n",
       "    .dataframe tbody tr th {\n",
       "        vertical-align: top;\n",
       "    }\n",
       "\n",
       "    .dataframe thead th {\n",
       "        text-align: right;\n",
       "    }\n",
       "</style>\n",
       "<table border=\"1\" class=\"dataframe\">\n",
       "  <thead>\n",
       "    <tr style=\"text-align: right;\">\n",
       "      <th></th>\n",
       "      <th>x_n</th>\n",
       "      <th>f(x_n)</th>\n",
       "    </tr>\n",
       "    <tr>\n",
       "      <th>n</th>\n",
       "      <th></th>\n",
       "      <th></th>\n",
       "    </tr>\n",
       "  </thead>\n",
       "  <tbody>\n",
       "    <tr>\n",
       "      <th>0</th>\n",
       "      <td>1.000000e+00</td>\n",
       "      <td>7.853982e-01</td>\n",
       "    </tr>\n",
       "    <tr>\n",
       "      <th>1</th>\n",
       "      <td>-4.065078e-01</td>\n",
       "      <td>-3.861040e-01</td>\n",
       "    </tr>\n",
       "    <tr>\n",
       "      <th>2</th>\n",
       "      <td>1.179726e-03</td>\n",
       "      <td>1.179726e-03</td>\n",
       "    </tr>\n",
       "    <tr>\n",
       "      <th>3</th>\n",
       "      <td>-2.120203e-21</td>\n",
       "      <td>-2.120203e-21</td>\n",
       "    </tr>\n",
       "  </tbody>\n",
       "</table>\n",
       "</div>"
      ],
      "text/plain": [
       "            x_n        f(x_n)\n",
       "n                            \n",
       "0  1.000000e+00  7.853982e-01\n",
       "1 -4.065078e-01 -3.861040e-01\n",
       "2  1.179726e-03  1.179726e-03\n",
       "3 -2.120203e-21 -2.120203e-21"
      ]
     },
     "metadata": {},
     "output_type": "display_data"
    },
    {
     "data": {
      "image/png": "[encoded data removed]",
      "text/plain": [
       "<Figure size 504x360 with 1 Axes>"
      ]
     },
     "metadata": {
      "needs_background": "light"
     },
     "output_type": "display_data"
    },
    {
     "name": "stdout",
     "output_type": "stream",
     "text": [
      "f3 = 0 usando shamanskii con m = 3\n",
      "Reached epsilon limit.\n"
     ]
    },
    {
     "data": {
      "text/html": [
       "<div>\n",
       "<style scoped>\n",
       "    .dataframe tbody tr th:only-of-type {\n",
       "        vertical-align: middle;\n",
       "    }\n",
       "\n",
       "    .dataframe tbody tr th {\n",
       "        vertical-align: top;\n",
       "    }\n",
       "\n",
       "    .dataframe thead th {\n",
       "        text-align: right;\n",
       "    }\n",
       "</style>\n",
       "<table border=\"1\" class=\"dataframe\">\n",
       "  <thead>\n",
       "    <tr style=\"text-align: right;\">\n",
       "      <th></th>\n",
       "      <th>x_n</th>\n",
       "      <th>f(x_n)</th>\n",
       "    </tr>\n",
       "    <tr>\n",
       "      <th>n</th>\n",
       "      <th></th>\n",
       "      <th></th>\n",
       "    </tr>\n",
       "  </thead>\n",
       "  <tbody>\n",
       "    <tr>\n",
       "      <th>0</th>\n",
       "      <td>3.000000</td>\n",
       "      <td>1.411200e-01</td>\n",
       "    </tr>\n",
       "    <tr>\n",
       "      <th>1</th>\n",
       "      <td>3.141593</td>\n",
       "      <td>-9.747184e-08</td>\n",
       "    </tr>\n",
       "    <tr>\n",
       "      <th>2</th>\n",
       "      <td>3.141593</td>\n",
       "      <td>1.224647e-16</td>\n",
       "    </tr>\n",
       "  </tbody>\n",
       "</table>\n",
       "</div>"
      ],
      "text/plain": [
       "        x_n        f(x_n)\n",
       "n                        \n",
       "0  3.000000  1.411200e-01\n",
       "1  3.141593 -9.747184e-08\n",
       "2  3.141593  1.224647e-16"
      ]
     },
     "metadata": {},
     "output_type": "display_data"
    },
    {
     "data": {
      "image/png": "[encoded data removed]",
      "text/plain": [
       "<Figure size 504x360 with 1 Axes>"
      ]
     },
     "metadata": {
      "needs_background": "light"
     },
     "output_type": "display_data"
    },
    {
     "name": "stdout",
     "output_type": "stream",
     "text": [
      "f4 = 0 usando shamanskii con m = 3\n",
      "Maximum iteration reached.\n"
     ]
    },
    {
     "data": {
      "text/html": [
       "<div>\n",
       "<style scoped>\n",
       "    .dataframe tbody tr th:only-of-type {\n",
       "        vertical-align: middle;\n",
       "    }\n",
       "\n",
       "    .dataframe tbody tr th {\n",
       "        vertical-align: top;\n",
       "    }\n",
       "\n",
       "    .dataframe thead th {\n",
       "        text-align: right;\n",
       "    }\n",
       "</style>\n",
       "<table border=\"1\" class=\"dataframe\">\n",
       "  <thead>\n",
       "    <tr style=\"text-align: right;\">\n",
       "      <th></th>\n",
       "      <th>x_n</th>\n",
       "      <th>f(x_n)</th>\n",
       "    </tr>\n",
       "    <tr>\n",
       "      <th>n</th>\n",
       "      <th></th>\n",
       "      <th></th>\n",
       "    </tr>\n",
       "  </thead>\n",
       "  <tbody>\n",
       "    <tr>\n",
       "      <th>0</th>\n",
       "      <td>0.500000</td>\n",
       "      <td>2.500000e-01</td>\n",
       "    </tr>\n",
       "    <tr>\n",
       "      <th>1</th>\n",
       "      <td>0.152344</td>\n",
       "      <td>2.320862e-02</td>\n",
       "    </tr>\n",
       "    <tr>\n",
       "      <th>2</th>\n",
       "      <td>0.046417</td>\n",
       "      <td>2.154560e-03</td>\n",
       "    </tr>\n",
       "    <tr>\n",
       "      <th>3</th>\n",
       "      <td>0.014143</td>\n",
       "      <td>2.000174e-04</td>\n",
       "    </tr>\n",
       "    <tr>\n",
       "      <th>4</th>\n",
       "      <td>0.004309</td>\n",
       "      <td>1.856851e-05</td>\n",
       "    </tr>\n",
       "    <tr>\n",
       "      <th>5</th>\n",
       "      <td>0.001313</td>\n",
       "      <td>1.723798e-06</td>\n",
       "    </tr>\n",
       "    <tr>\n",
       "      <th>6</th>\n",
       "      <td>0.000400</td>\n",
       "      <td>1.600279e-07</td>\n",
       "    </tr>\n",
       "    <tr>\n",
       "      <th>7</th>\n",
       "      <td>0.000122</td>\n",
       "      <td>1.485610e-08</td>\n",
       "    </tr>\n",
       "    <tr>\n",
       "      <th>8</th>\n",
       "      <td>0.000037</td>\n",
       "      <td>1.379159e-09</td>\n",
       "    </tr>\n",
       "    <tr>\n",
       "      <th>9</th>\n",
       "      <td>0.000011</td>\n",
       "      <td>1.280335e-10</td>\n",
       "    </tr>\n",
       "    <tr>\n",
       "      <th>10</th>\n",
       "      <td>0.000003</td>\n",
       "      <td>1.188592e-11</td>\n",
       "    </tr>\n",
       "  </tbody>\n",
       "</table>\n",
       "</div>"
      ],
      "text/plain": [
       "         x_n        f(x_n)\n",
       "n                         \n",
       "0   0.500000  2.500000e-01\n",
       "1   0.152344  2.320862e-02\n",
       "2   0.046417  2.154560e-03\n",
       "3   0.014143  2.000174e-04\n",
       "4   0.004309  1.856851e-05\n",
       "5   0.001313  1.723798e-06\n",
       "6   0.000400  1.600279e-07\n",
       "7   0.000122  1.485610e-08\n",
       "8   0.000037  1.379159e-09\n",
       "9   0.000011  1.280335e-10\n",
       "10  0.000003  1.188592e-11"
      ]
     },
     "metadata": {},
     "output_type": "display_data"
    },
    {
     "data": {
      "image/png": "[encoded data removed]",
      "text/plain": [
       "<Figure size 504x360 with 1 Axes>"
      ]
     },
     "metadata": {
      "needs_background": "light"
     },
     "output_type": "display_data"
    },
    {
     "name": "stdout",
     "output_type": "stream",
     "text": [
      "f5 = 0 usando shamanskii con m = 3\n",
      "Maximum iteration reached.\n"
     ]
    },
    {
     "data": {
      "text/html": [
       "<div>\n",
       "<style scoped>\n",
       "    .dataframe tbody tr th:only-of-type {\n",
       "        vertical-align: middle;\n",
       "    }\n",
       "\n",
       "    .dataframe tbody tr th {\n",
       "        vertical-align: top;\n",
       "    }\n",
       "\n",
       "    .dataframe thead th {\n",
       "        text-align: right;\n",
       "    }\n",
       "</style>\n",
       "<table border=\"1\" class=\"dataframe\">\n",
       "  <thead>\n",
       "    <tr style=\"text-align: right;\">\n",
       "      <th></th>\n",
       "      <th>x_n</th>\n",
       "      <th>f(x_n)</th>\n",
       "    </tr>\n",
       "    <tr>\n",
       "      <th>n</th>\n",
       "      <th></th>\n",
       "      <th></th>\n",
       "    </tr>\n",
       "  </thead>\n",
       "  <tbody>\n",
       "    <tr>\n",
       "      <th>0</th>\n",
       "      <td>10.000000</td>\n",
       "      <td>1.010000e+02</td>\n",
       "    </tr>\n",
       "    <tr>\n",
       "      <th>1</th>\n",
       "      <td>2.949640</td>\n",
       "      <td>9.700374e+00</td>\n",
       "    </tr>\n",
       "    <tr>\n",
       "      <th>2</th>\n",
       "      <td>0.555861</td>\n",
       "      <td>1.308981e+00</td>\n",
       "    </tr>\n",
       "    <tr>\n",
       "      <th>3</th>\n",
       "      <td>-5.908924</td>\n",
       "      <td>3.591538e+01</td>\n",
       "    </tr>\n",
       "    <tr>\n",
       "      <th>4</th>\n",
       "      <td>-1.634673</td>\n",
       "      <td>3.672157e+00</td>\n",
       "    </tr>\n",
       "    <tr>\n",
       "      <th>5</th>\n",
       "      <td>0.185116</td>\n",
       "      <td>1.034268e+00</td>\n",
       "    </tr>\n",
       "    <tr>\n",
       "      <th>6</th>\n",
       "      <td>-1541.851273</td>\n",
       "      <td>2.377306e+06</td>\n",
       "    </tr>\n",
       "    <tr>\n",
       "      <th>7</th>\n",
       "      <td>-469.782181</td>\n",
       "      <td>2.206963e+05</td>\n",
       "    </tr>\n",
       "    <tr>\n",
       "      <th>8</th>\n",
       "      <td>-143.134696</td>\n",
       "      <td>2.048854e+04</td>\n",
       "    </tr>\n",
       "    <tr>\n",
       "      <th>9</th>\n",
       "      <td>-43.604585</td>\n",
       "      <td>1.902360e+03</td>\n",
       "    </tr>\n",
       "    <tr>\n",
       "      <th>10</th>\n",
       "      <td>-13.263551</td>\n",
       "      <td>1.769218e+02</td>\n",
       "    </tr>\n",
       "  </tbody>\n",
       "</table>\n",
       "</div>"
      ],
      "text/plain": [
       "            x_n        f(x_n)\n",
       "n                            \n",
       "0     10.000000  1.010000e+02\n",
       "1      2.949640  9.700374e+00\n",
       "2      0.555861  1.308981e+00\n",
       "3     -5.908924  3.591538e+01\n",
       "4     -1.634673  3.672157e+00\n",
       "5      0.185116  1.034268e+00\n",
       "6  -1541.851273  2.377306e+06\n",
       "7   -469.782181  2.206963e+05\n",
       "8   -143.134696  2.048854e+04\n",
       "9    -43.604585  1.902360e+03\n",
       "10   -13.263551  1.769218e+02"
      ]
     },
     "metadata": {},
     "output_type": "display_data"
    },
    {
     "data": {
      "image/png": "[encoded data removed]",
      "text/plain": [
       "<Figure size 504x360 with 1 Axes>"
      ]
     },
     "metadata": {
      "needs_background": "light"
     },
     "output_type": "display_data"
    }
   ],
   "source": [
    "for idx, (f, fp, x0) in enumerate(zip(fs, fps, x0s)):\n",
    "    print(f\"f{idx+1} = 0 usando shamanskii con m = 3\")\n",
    "    shamanskii_values = shamanskii(f, fp, x0, epsilon, delta, 10, 3)\n",
    "    display(\n",
    "        pd.DataFrame(\n",
    "            {\"x_n\": shamanskii_values, \"f(x_n)\": f(shamanskii_values)}\n",
    "        ).rename_axis(\"n\")\n",
    "    )\n",
    "    plot_fun(f, shamanskii_values)\n"
   ]
  },
  {
   "cell_type": "markdown",
   "id": "a00ae970",
   "metadata": {},
   "source": [
    "Usando el metodo de Shamanskii con $m = 4$:"
   ]
  },
  {
   "cell_type": "code",
   "execution_count": 12,
   "id": "a3c9cc2f",
   "metadata": {},
   "outputs": [
    {
     "name": "stdout",
     "output_type": "stream",
     "text": [
      "f1 = 0 usando shamanskii con m = 4\n",
      "Reached epsilon limit.\n"
     ]
    },
    {
     "data": {
      "text/html": [
       "<div>\n",
       "<style scoped>\n",
       "    .dataframe tbody tr th:only-of-type {\n",
       "        vertical-align: middle;\n",
       "    }\n",
       "\n",
       "    .dataframe tbody tr th {\n",
       "        vertical-align: top;\n",
       "    }\n",
       "\n",
       "    .dataframe thead th {\n",
       "        text-align: right;\n",
       "    }\n",
       "</style>\n",
       "<table border=\"1\" class=\"dataframe\">\n",
       "  <thead>\n",
       "    <tr style=\"text-align: right;\">\n",
       "      <th></th>\n",
       "      <th>x_n</th>\n",
       "      <th>f(x_n)</th>\n",
       "    </tr>\n",
       "    <tr>\n",
       "      <th>n</th>\n",
       "      <th></th>\n",
       "      <th></th>\n",
       "    </tr>\n",
       "  </thead>\n",
       "  <tbody>\n",
       "    <tr>\n",
       "      <th>0</th>\n",
       "      <td>0.500000</td>\n",
       "      <td>0.377583</td>\n",
       "    </tr>\n",
       "    <tr>\n",
       "      <th>1</th>\n",
       "      <td>0.739048</td>\n",
       "      <td>0.000063</td>\n",
       "    </tr>\n",
       "    <tr>\n",
       "      <th>2</th>\n",
       "      <td>0.739085</td>\n",
       "      <td>0.000000</td>\n",
       "    </tr>\n",
       "  </tbody>\n",
       "</table>\n",
       "</div>"
      ],
      "text/plain": [
       "        x_n    f(x_n)\n",
       "n                    \n",
       "0  0.500000  0.377583\n",
       "1  0.739048  0.000063\n",
       "2  0.739085  0.000000"
      ]
     },
     "metadata": {},
     "output_type": "display_data"
    },
    {
     "data": {
      "image/png": "[encoded data removed]",
      "text/plain": [
       "<Figure size 504x360 with 1 Axes>"
      ]
     },
     "metadata": {
      "needs_background": "light"
     },
     "output_type": "display_data"
    },
    {
     "name": "stdout",
     "output_type": "stream",
     "text": [
      "f2 = 0 usando shamanskii con m = 4\n",
      "Reached epsilon limit.\n"
     ]
    },
    {
     "data": {
      "text/html": [
       "<div>\n",
       "<style scoped>\n",
       "    .dataframe tbody tr th:only-of-type {\n",
       "        vertical-align: middle;\n",
       "    }\n",
       "\n",
       "    .dataframe tbody tr th {\n",
       "        vertical-align: top;\n",
       "    }\n",
       "\n",
       "    .dataframe thead th {\n",
       "        text-align: right;\n",
       "    }\n",
       "</style>\n",
       "<table border=\"1\" class=\"dataframe\">\n",
       "  <thead>\n",
       "    <tr style=\"text-align: right;\">\n",
       "      <th></th>\n",
       "      <th>x_n</th>\n",
       "      <th>f(x_n)</th>\n",
       "    </tr>\n",
       "    <tr>\n",
       "      <th>n</th>\n",
       "      <th></th>\n",
       "      <th></th>\n",
       "    </tr>\n",
       "  </thead>\n",
       "  <tbody>\n",
       "    <tr>\n",
       "      <th>0</th>\n",
       "      <td>1.000000e+00</td>\n",
       "      <td>7.853982e-01</td>\n",
       "    </tr>\n",
       "    <tr>\n",
       "      <th>1</th>\n",
       "      <td>3.657001e-01</td>\n",
       "      <td>3.505925e-01</td>\n",
       "    </tr>\n",
       "    <tr>\n",
       "      <th>2</th>\n",
       "      <td>7.579381e-05</td>\n",
       "      <td>7.579381e-05</td>\n",
       "    </tr>\n",
       "    <tr>\n",
       "      <th>3</th>\n",
       "      <td>5.503164e-38</td>\n",
       "      <td>5.503164e-38</td>\n",
       "    </tr>\n",
       "  </tbody>\n",
       "</table>\n",
       "</div>"
      ],
      "text/plain": [
       "            x_n        f(x_n)\n",
       "n                            \n",
       "0  1.000000e+00  7.853982e-01\n",
       "1  3.657001e-01  3.505925e-01\n",
       "2  7.579381e-05  7.579381e-05\n",
       "3  5.503164e-38  5.503164e-38"
      ]
     },
     "metadata": {},
     "output_type": "display_data"
    },
    {
     "data": {
      "image/png": "[encoded data removed]",
      "text/plain": [
       "<Figure size 504x360 with 1 Axes>"
      ]
     },
     "metadata": {
      "needs_background": "light"
     },
     "output_type": "display_data"
    },
    {
     "name": "stdout",
     "output_type": "stream",
     "text": [
      "f3 = 0 usando shamanskii con m = 4\n",
      "Reached epsilon limit.\n"
     ]
    },
    {
     "data": {
      "text/html": [
       "<div>\n",
       "<style scoped>\n",
       "    .dataframe tbody tr th:only-of-type {\n",
       "        vertical-align: middle;\n",
       "    }\n",
       "\n",
       "    .dataframe tbody tr th {\n",
       "        vertical-align: top;\n",
       "    }\n",
       "\n",
       "    .dataframe thead th {\n",
       "        text-align: right;\n",
       "    }\n",
       "</style>\n",
       "<table border=\"1\" class=\"dataframe\">\n",
       "  <thead>\n",
       "    <tr style=\"text-align: right;\">\n",
       "      <th></th>\n",
       "      <th>x_n</th>\n",
       "      <th>f(x_n)</th>\n",
       "    </tr>\n",
       "    <tr>\n",
       "      <th>n</th>\n",
       "      <th></th>\n",
       "      <th></th>\n",
       "    </tr>\n",
       "  </thead>\n",
       "  <tbody>\n",
       "    <tr>\n",
       "      <th>0</th>\n",
       "      <td>3.000000</td>\n",
       "      <td>1.411200e-01</td>\n",
       "    </tr>\n",
       "    <tr>\n",
       "      <th>1</th>\n",
       "      <td>3.141593</td>\n",
       "      <td>9.853102e-10</td>\n",
       "    </tr>\n",
       "    <tr>\n",
       "      <th>2</th>\n",
       "      <td>3.141593</td>\n",
       "      <td>1.224647e-16</td>\n",
       "    </tr>\n",
       "  </tbody>\n",
       "</table>\n",
       "</div>"
      ],
      "text/plain": [
       "        x_n        f(x_n)\n",
       "n                        \n",
       "0  3.000000  1.411200e-01\n",
       "1  3.141593  9.853102e-10\n",
       "2  3.141593  1.224647e-16"
      ]
     },
     "metadata": {},
     "output_type": "display_data"
    },
    {
     "data": {
      "image/png": "[encoded data removed]",
      "text/plain": [
       "<Figure size 504x360 with 1 Axes>"
      ]
     },
     "metadata": {
      "needs_background": "light"
     },
     "output_type": "display_data"
    },
    {
     "name": "stdout",
     "output_type": "stream",
     "text": [
      "f4 = 0 usando shamanskii con m = 4\n",
      "Maximum iteration reached.\n"
     ]
    },
    {
     "data": {
      "text/html": [
       "<div>\n",
       "<style scoped>\n",
       "    .dataframe tbody tr th:only-of-type {\n",
       "        vertical-align: middle;\n",
       "    }\n",
       "\n",
       "    .dataframe tbody tr th {\n",
       "        vertical-align: top;\n",
       "    }\n",
       "\n",
       "    .dataframe thead th {\n",
       "        text-align: right;\n",
       "    }\n",
       "</style>\n",
       "<table border=\"1\" class=\"dataframe\">\n",
       "  <thead>\n",
       "    <tr style=\"text-align: right;\">\n",
       "      <th></th>\n",
       "      <th>x_n</th>\n",
       "      <th>f(x_n)</th>\n",
       "    </tr>\n",
       "    <tr>\n",
       "      <th>n</th>\n",
       "      <th></th>\n",
       "      <th></th>\n",
       "    </tr>\n",
       "  </thead>\n",
       "  <tbody>\n",
       "    <tr>\n",
       "      <th>0</th>\n",
       "      <td>5.000000e-01</td>\n",
       "      <td>2.500000e-01</td>\n",
       "    </tr>\n",
       "    <tr>\n",
       "      <th>1</th>\n",
       "      <td>1.291351e-01</td>\n",
       "      <td>1.667588e-02</td>\n",
       "    </tr>\n",
       "    <tr>\n",
       "      <th>2</th>\n",
       "      <td>3.335176e-02</td>\n",
       "      <td>1.112340e-03</td>\n",
       "    </tr>\n",
       "    <tr>\n",
       "      <th>3</th>\n",
       "      <td>8.613769e-03</td>\n",
       "      <td>7.419702e-05</td>\n",
       "    </tr>\n",
       "    <tr>\n",
       "      <th>4</th>\n",
       "      <td>2.224680e-03</td>\n",
       "      <td>4.949203e-06</td>\n",
       "    </tr>\n",
       "    <tr>\n",
       "      <th>5</th>\n",
       "      <td>5.745688e-04</td>\n",
       "      <td>3.301293e-07</td>\n",
       "    </tr>\n",
       "    <tr>\n",
       "      <th>6</th>\n",
       "      <td>1.483940e-04</td>\n",
       "      <td>2.202079e-08</td>\n",
       "    </tr>\n",
       "    <tr>\n",
       "      <th>7</th>\n",
       "      <td>3.832577e-05</td>\n",
       "      <td>1.468864e-09</td>\n",
       "    </tr>\n",
       "    <tr>\n",
       "      <th>8</th>\n",
       "      <td>9.898406e-06</td>\n",
       "      <td>9.797844e-11</td>\n",
       "    </tr>\n",
       "    <tr>\n",
       "      <th>9</th>\n",
       "      <td>2.556464e-06</td>\n",
       "      <td>6.535507e-12</td>\n",
       "    </tr>\n",
       "    <tr>\n",
       "      <th>10</th>\n",
       "      <td>6.602586e-07</td>\n",
       "      <td>4.359414e-13</td>\n",
       "    </tr>\n",
       "  </tbody>\n",
       "</table>\n",
       "</div>"
      ],
      "text/plain": [
       "             x_n        f(x_n)\n",
       "n                             \n",
       "0   5.000000e-01  2.500000e-01\n",
       "1   1.291351e-01  1.667588e-02\n",
       "2   3.335176e-02  1.112340e-03\n",
       "3   8.613769e-03  7.419702e-05\n",
       "4   2.224680e-03  4.949203e-06\n",
       "5   5.745688e-04  3.301293e-07\n",
       "6   1.483940e-04  2.202079e-08\n",
       "7   3.832577e-05  1.468864e-09\n",
       "8   9.898406e-06  9.797844e-11\n",
       "9   2.556464e-06  6.535507e-12\n",
       "10  6.602586e-07  4.359414e-13"
      ]
     },
     "metadata": {},
     "output_type": "display_data"
    },
    {
     "data": {
      "image/png": "[encoded data removed]",
      "text/plain": [
       "<Figure size 504x360 with 1 Axes>"
      ]
     },
     "metadata": {
      "needs_background": "light"
     },
     "output_type": "display_data"
    },
    {
     "name": "stdout",
     "output_type": "stream",
     "text": [
      "f5 = 0 usando shamanskii con m = 4\n",
      "Maximum iteration reached.\n"
     ]
    },
    {
     "data": {
      "text/html": [
       "<div>\n",
       "<style scoped>\n",
       "    .dataframe tbody tr th:only-of-type {\n",
       "        vertical-align: middle;\n",
       "    }\n",
       "\n",
       "    .dataframe tbody tr th {\n",
       "        vertical-align: top;\n",
       "    }\n",
       "\n",
       "    .dataframe thead th {\n",
       "        text-align: right;\n",
       "    }\n",
       "</style>\n",
       "<table border=\"1\" class=\"dataframe\">\n",
       "  <thead>\n",
       "    <tr style=\"text-align: right;\">\n",
       "      <th></th>\n",
       "      <th>x_n</th>\n",
       "      <th>f(x_n)</th>\n",
       "    </tr>\n",
       "    <tr>\n",
       "      <th>n</th>\n",
       "      <th></th>\n",
       "      <th></th>\n",
       "    </tr>\n",
       "  </thead>\n",
       "  <tbody>\n",
       "    <tr>\n",
       "      <th>0</th>\n",
       "      <td>1.000000e+01</td>\n",
       "      <td>1.010000e+02</td>\n",
       "    </tr>\n",
       "    <tr>\n",
       "      <th>1</th>\n",
       "      <td>2.464621e+00</td>\n",
       "      <td>7.074357e+00</td>\n",
       "    </tr>\n",
       "    <tr>\n",
       "      <th>2</th>\n",
       "      <td>1.074832e-01</td>\n",
       "      <td>1.011553e+00</td>\n",
       "    </tr>\n",
       "    <tr>\n",
       "      <th>3</th>\n",
       "      <td>-1.355268e+10</td>\n",
       "      <td>1.836752e+20</td>\n",
       "    </tr>\n",
       "    <tr>\n",
       "      <th>4</th>\n",
       "      <td>-3.500255e+09</td>\n",
       "      <td>1.225179e+19</td>\n",
       "    </tr>\n",
       "    <tr>\n",
       "      <th>5</th>\n",
       "      <td>-9.040118e+08</td>\n",
       "      <td>8.172373e+17</td>\n",
       "    </tr>\n",
       "    <tr>\n",
       "      <th>6</th>\n",
       "      <td>-2.334794e+08</td>\n",
       "      <td>5.451261e+16</td>\n",
       "    </tr>\n",
       "    <tr>\n",
       "      <th>7</th>\n",
       "      <td>-6.030078e+07</td>\n",
       "      <td>3.636184e+15</td>\n",
       "    </tr>\n",
       "    <tr>\n",
       "      <th>8</th>\n",
       "      <td>-1.557390e+07</td>\n",
       "      <td>2.425463e+14</td>\n",
       "    </tr>\n",
       "    <tr>\n",
       "      <th>9</th>\n",
       "      <td>-4.022275e+06</td>\n",
       "      <td>1.617869e+13</td>\n",
       "    </tr>\n",
       "    <tr>\n",
       "      <th>10</th>\n",
       "      <td>-1.038834e+06</td>\n",
       "      <td>1.079176e+12</td>\n",
       "    </tr>\n",
       "  </tbody>\n",
       "</table>\n",
       "</div>"
      ],
      "text/plain": [
       "             x_n        f(x_n)\n",
       "n                             \n",
       "0   1.000000e+01  1.010000e+02\n",
       "1   2.464621e+00  7.074357e+00\n",
       "2   1.074832e-01  1.011553e+00\n",
       "3  -1.355268e+10  1.836752e+20\n",
       "4  -3.500255e+09  1.225179e+19\n",
       "5  -9.040118e+08  8.172373e+17\n",
       "6  -2.334794e+08  5.451261e+16\n",
       "7  -6.030078e+07  3.636184e+15\n",
       "8  -1.557390e+07  2.425463e+14\n",
       "9  -4.022275e+06  1.617869e+13\n",
       "10 -1.038834e+06  1.079176e+12"
      ]
     },
     "metadata": {},
     "output_type": "display_data"
    },
    {
     "data": {
      "image/png": "[encoded data removed]",
      "text/plain": [
       "<Figure size 504x360 with 1 Axes>"
      ]
     },
     "metadata": {
      "needs_background": "light"
     },
     "output_type": "display_data"
    }
   ],
   "source": [
    "for idx, (f, fp, x0) in enumerate(zip(fs, fps, x0s)):\n",
    "    print(f\"f{idx+1} = 0 usando shamanskii con m = 4\")\n",
    "    shamanskii_values = shamanskii(f, fp, x0, epsilon, delta, 10, 4)\n",
    "    display(\n",
    "        pd.DataFrame(\n",
    "            {\"x_n\": shamanskii_values, \"f(x_n)\": f(shamanskii_values)}\n",
    "        ).rename_axis(\"n\")\n",
    "    )\n",
    "    plot_fun(f, shamanskii_values)\n"
   ]
  },
  {
   "cell_type": "markdown",
   "id": "2dfd21d4",
   "metadata": {},
   "source": [
    "Los resultados del metodo de Shamanskii para $m=3$ y $m=4$ son muy similares a los anteriores, sin embargo podemos identificar algunas diferencias, por ejemplo, para la función $f(x) = x^2$ estamos obteniendo resultados un poco mas precisos, y la funcion $f(x) = x^2 + 1$ obtenemos aproximaciones cada vez mas grandes en magnitud."
   ]
  },
  {
   "cell_type": "markdown",
   "id": "3be40d8b",
   "metadata": {},
   "source": [
    "Usando el metodo de la secante:"
   ]
  },
  {
   "cell_type": "code",
   "execution_count": 13,
   "id": "42dfc558",
   "metadata": {},
   "outputs": [
    {
     "name": "stdout",
     "output_type": "stream",
     "text": [
      "f1 = 0 usando el metodo de la secante\n",
      "Reached epsilon limit.\n"
     ]
    },
    {
     "data": {
      "text/html": [
       "<div>\n",
       "<style scoped>\n",
       "    .dataframe tbody tr th:only-of-type {\n",
       "        vertical-align: middle;\n",
       "    }\n",
       "\n",
       "    .dataframe tbody tr th {\n",
       "        vertical-align: top;\n",
       "    }\n",
       "\n",
       "    .dataframe thead th {\n",
       "        text-align: right;\n",
       "    }\n",
       "</style>\n",
       "<table border=\"1\" class=\"dataframe\">\n",
       "  <thead>\n",
       "    <tr style=\"text-align: right;\">\n",
       "      <th></th>\n",
       "      <th>x_n</th>\n",
       "      <th>f(x_n)</th>\n",
       "    </tr>\n",
       "    <tr>\n",
       "      <th>n</th>\n",
       "      <th></th>\n",
       "      <th></th>\n",
       "    </tr>\n",
       "  </thead>\n",
       "  <tbody>\n",
       "    <tr>\n",
       "      <th>0</th>\n",
       "      <td>0.495000</td>\n",
       "      <td>3.849687e-01</td>\n",
       "    </tr>\n",
       "    <tr>\n",
       "      <th>1</th>\n",
       "      <td>0.500000</td>\n",
       "      <td>3.775826e-01</td>\n",
       "    </tr>\n",
       "    <tr>\n",
       "      <th>2</th>\n",
       "      <td>0.755602</td>\n",
       "      <td>-2.774282e-02</td>\n",
       "    </tr>\n",
       "    <tr>\n",
       "      <th>3</th>\n",
       "      <td>0.738107</td>\n",
       "      <td>1.636756e-03</td>\n",
       "    </tr>\n",
       "    <tr>\n",
       "      <th>4</th>\n",
       "      <td>0.739082</td>\n",
       "      <td>5.921959e-06</td>\n",
       "    </tr>\n",
       "    <tr>\n",
       "      <th>5</th>\n",
       "      <td>0.739085</td>\n",
       "      <td>-1.279741e-09</td>\n",
       "    </tr>\n",
       "    <tr>\n",
       "      <th>6</th>\n",
       "      <td>0.739085</td>\n",
       "      <td>8.881784e-16</td>\n",
       "    </tr>\n",
       "  </tbody>\n",
       "</table>\n",
       "</div>"
      ],
      "text/plain": [
       "        x_n        f(x_n)\n",
       "n                        \n",
       "0  0.495000  3.849687e-01\n",
       "1  0.500000  3.775826e-01\n",
       "2  0.755602 -2.774282e-02\n",
       "3  0.738107  1.636756e-03\n",
       "4  0.739082  5.921959e-06\n",
       "5  0.739085 -1.279741e-09\n",
       "6  0.739085  8.881784e-16"
      ]
     },
     "metadata": {},
     "output_type": "display_data"
    },
    {
     "data": {
      "image/png": "[encoded data removed]",
      "text/plain": [
       "<Figure size 504x360 with 1 Axes>"
      ]
     },
     "metadata": {
      "needs_background": "light"
     },
     "output_type": "display_data"
    },
    {
     "name": "stdout",
     "output_type": "stream",
     "text": [
      "f2 = 0 usando el metodo de la secante\n",
      "Reached epsilon limit.\n"
     ]
    },
    {
     "data": {
      "text/html": [
       "<div>\n",
       "<style scoped>\n",
       "    .dataframe tbody tr th:only-of-type {\n",
       "        vertical-align: middle;\n",
       "    }\n",
       "\n",
       "    .dataframe tbody tr th {\n",
       "        vertical-align: top;\n",
       "    }\n",
       "\n",
       "    .dataframe thead th {\n",
       "        text-align: right;\n",
       "    }\n",
       "</style>\n",
       "<table border=\"1\" class=\"dataframe\">\n",
       "  <thead>\n",
       "    <tr style=\"text-align: right;\">\n",
       "      <th></th>\n",
       "      <th>x_n</th>\n",
       "      <th>f(x_n)</th>\n",
       "    </tr>\n",
       "    <tr>\n",
       "      <th>n</th>\n",
       "      <th></th>\n",
       "      <th></th>\n",
       "    </tr>\n",
       "  </thead>\n",
       "  <tbody>\n",
       "    <tr>\n",
       "      <th>0</th>\n",
       "      <td>9.900000e-01</td>\n",
       "      <td>7.803731e-01</td>\n",
       "    </tr>\n",
       "    <tr>\n",
       "      <th>1</th>\n",
       "      <td>1.000000e+00</td>\n",
       "      <td>7.853982e-01</td>\n",
       "    </tr>\n",
       "    <tr>\n",
       "      <th>2</th>\n",
       "      <td>-5.629555e-01</td>\n",
       "      <td>-5.127354e-01</td>\n",
       "    </tr>\n",
       "    <tr>\n",
       "      <th>3</th>\n",
       "      <td>5.437899e-02</td>\n",
       "      <td>5.432549e-02</td>\n",
       "    </tr>\n",
       "    <tr>\n",
       "      <th>4</th>\n",
       "      <td>-4.762798e-03</td>\n",
       "      <td>-4.762762e-03</td>\n",
       "    </tr>\n",
       "    <tr>\n",
       "      <th>5</th>\n",
       "      <td>4.279700e-06</td>\n",
       "      <td>4.279700e-06</td>\n",
       "    </tr>\n",
       "    <tr>\n",
       "      <th>6</th>\n",
       "      <td>-3.233131e-11</td>\n",
       "      <td>-3.233131e-11</td>\n",
       "    </tr>\n",
       "    <tr>\n",
       "      <th>7</th>\n",
       "      <td>1.973860e-22</td>\n",
       "      <td>1.973860e-22</td>\n",
       "    </tr>\n",
       "  </tbody>\n",
       "</table>\n",
       "</div>"
      ],
      "text/plain": [
       "            x_n        f(x_n)\n",
       "n                            \n",
       "0  9.900000e-01  7.803731e-01\n",
       "1  1.000000e+00  7.853982e-01\n",
       "2 -5.629555e-01 -5.127354e-01\n",
       "3  5.437899e-02  5.432549e-02\n",
       "4 -4.762798e-03 -4.762762e-03\n",
       "5  4.279700e-06  4.279700e-06\n",
       "6 -3.233131e-11 -3.233131e-11\n",
       "7  1.973860e-22  1.973860e-22"
      ]
     },
     "metadata": {},
     "output_type": "display_data"
    },
    {
     "data": {
      "image/png": "[encoded data removed]",
      "text/plain": [
       "<Figure size 504x360 with 1 Axes>"
      ]
     },
     "metadata": {
      "needs_background": "light"
     },
     "output_type": "display_data"
    },
    {
     "name": "stdout",
     "output_type": "stream",
     "text": [
      "f3 = 0 usando el metodo de la secante\n",
      "Reached epsilon limit.\n"
     ]
    },
    {
     "data": {
      "text/html": [
       "<div>\n",
       "<style scoped>\n",
       "    .dataframe tbody tr th:only-of-type {\n",
       "        vertical-align: middle;\n",
       "    }\n",
       "\n",
       "    .dataframe tbody tr th {\n",
       "        vertical-align: top;\n",
       "    }\n",
       "\n",
       "    .dataframe thead th {\n",
       "        text-align: right;\n",
       "    }\n",
       "</style>\n",
       "<table border=\"1\" class=\"dataframe\">\n",
       "  <thead>\n",
       "    <tr style=\"text-align: right;\">\n",
       "      <th></th>\n",
       "      <th>x_n</th>\n",
       "      <th>f(x_n)</th>\n",
       "    </tr>\n",
       "    <tr>\n",
       "      <th>n</th>\n",
       "      <th></th>\n",
       "      <th></th>\n",
       "    </tr>\n",
       "  </thead>\n",
       "  <tbody>\n",
       "    <tr>\n",
       "      <th>0</th>\n",
       "      <td>2.970000</td>\n",
       "      <td>1.707518e-01</td>\n",
       "    </tr>\n",
       "    <tr>\n",
       "      <th>1</th>\n",
       "      <td>3.000000</td>\n",
       "      <td>1.411200e-01</td>\n",
       "    </tr>\n",
       "    <tr>\n",
       "      <th>2</th>\n",
       "      <td>3.142873</td>\n",
       "      <td>-1.280788e-03</td>\n",
       "    </tr>\n",
       "    <tr>\n",
       "      <th>3</th>\n",
       "      <td>3.141588</td>\n",
       "      <td>4.250744e-06</td>\n",
       "    </tr>\n",
       "    <tr>\n",
       "      <th>4</th>\n",
       "      <td>3.141593</td>\n",
       "      <td>-1.158506e-12</td>\n",
       "    </tr>\n",
       "    <tr>\n",
       "      <th>5</th>\n",
       "      <td>3.141593</td>\n",
       "      <td>1.224647e-16</td>\n",
       "    </tr>\n",
       "  </tbody>\n",
       "</table>\n",
       "</div>"
      ],
      "text/plain": [
       "        x_n        f(x_n)\n",
       "n                        \n",
       "0  2.970000  1.707518e-01\n",
       "1  3.000000  1.411200e-01\n",
       "2  3.142873 -1.280788e-03\n",
       "3  3.141588  4.250744e-06\n",
       "4  3.141593 -1.158506e-12\n",
       "5  3.141593  1.224647e-16"
      ]
     },
     "metadata": {},
     "output_type": "display_data"
    },
    {
     "data": {
      "image/png": "[encoded data removed]",
      "text/plain": [
       "<Figure size 504x360 with 1 Axes>"
      ]
     },
     "metadata": {
      "needs_background": "light"
     },
     "output_type": "display_data"
    },
    {
     "name": "stdout",
     "output_type": "stream",
     "text": [
      "f4 = 0 usando el metodo de la secante\n",
      "Maximum iteration reached.\n"
     ]
    },
    {
     "data": {
      "text/html": [
       "<div>\n",
       "<style scoped>\n",
       "    .dataframe tbody tr th:only-of-type {\n",
       "        vertical-align: middle;\n",
       "    }\n",
       "\n",
       "    .dataframe tbody tr th {\n",
       "        vertical-align: top;\n",
       "    }\n",
       "\n",
       "    .dataframe thead th {\n",
       "        text-align: right;\n",
       "    }\n",
       "</style>\n",
       "<table border=\"1\" class=\"dataframe\">\n",
       "  <thead>\n",
       "    <tr style=\"text-align: right;\">\n",
       "      <th></th>\n",
       "      <th>x_n</th>\n",
       "      <th>f(x_n)</th>\n",
       "    </tr>\n",
       "    <tr>\n",
       "      <th>n</th>\n",
       "      <th></th>\n",
       "      <th></th>\n",
       "    </tr>\n",
       "  </thead>\n",
       "  <tbody>\n",
       "    <tr>\n",
       "      <th>0</th>\n",
       "      <td>0.495000</td>\n",
       "      <td>0.245025</td>\n",
       "    </tr>\n",
       "    <tr>\n",
       "      <th>1</th>\n",
       "      <td>0.500000</td>\n",
       "      <td>0.250000</td>\n",
       "    </tr>\n",
       "    <tr>\n",
       "      <th>2</th>\n",
       "      <td>0.248744</td>\n",
       "      <td>0.061873</td>\n",
       "    </tr>\n",
       "    <tr>\n",
       "      <th>3</th>\n",
       "      <td>0.166107</td>\n",
       "      <td>0.027592</td>\n",
       "    </tr>\n",
       "    <tr>\n",
       "      <th>4</th>\n",
       "      <td>0.099598</td>\n",
       "      <td>0.009920</td>\n",
       "    </tr>\n",
       "    <tr>\n",
       "      <th>5</th>\n",
       "      <td>0.062264</td>\n",
       "      <td>0.003877</td>\n",
       "    </tr>\n",
       "    <tr>\n",
       "      <th>6</th>\n",
       "      <td>0.038313</td>\n",
       "      <td>0.001468</td>\n",
       "    </tr>\n",
       "    <tr>\n",
       "      <th>7</th>\n",
       "      <td>0.023718</td>\n",
       "      <td>0.000563</td>\n",
       "    </tr>\n",
       "    <tr>\n",
       "      <th>8</th>\n",
       "      <td>0.014649</td>\n",
       "      <td>0.000215</td>\n",
       "    </tr>\n",
       "    <tr>\n",
       "      <th>9</th>\n",
       "      <td>0.009056</td>\n",
       "      <td>0.000082</td>\n",
       "    </tr>\n",
       "    <tr>\n",
       "      <th>10</th>\n",
       "      <td>0.005596</td>\n",
       "      <td>0.000031</td>\n",
       "    </tr>\n",
       "    <tr>\n",
       "      <th>11</th>\n",
       "      <td>0.003459</td>\n",
       "      <td>0.000012</td>\n",
       "    </tr>\n",
       "  </tbody>\n",
       "</table>\n",
       "</div>"
      ],
      "text/plain": [
       "         x_n    f(x_n)\n",
       "n                     \n",
       "0   0.495000  0.245025\n",
       "1   0.500000  0.250000\n",
       "2   0.248744  0.061873\n",
       "3   0.166107  0.027592\n",
       "4   0.099598  0.009920\n",
       "5   0.062264  0.003877\n",
       "6   0.038313  0.001468\n",
       "7   0.023718  0.000563\n",
       "8   0.014649  0.000215\n",
       "9   0.009056  0.000082\n",
       "10  0.005596  0.000031\n",
       "11  0.003459  0.000012"
      ]
     },
     "metadata": {},
     "output_type": "display_data"
    },
    {
     "data": {
      "image/png": "[encoded data removed]",
      "text/plain": [
       "<Figure size 504x360 with 1 Axes>"
      ]
     },
     "metadata": {
      "needs_background": "light"
     },
     "output_type": "display_data"
    },
    {
     "name": "stdout",
     "output_type": "stream",
     "text": [
      "f5 = 0 usando el metodo de la secante\n",
      "Maximum iteration reached.\n"
     ]
    },
    {
     "data": {
      "text/html": [
       "<div>\n",
       "<style scoped>\n",
       "    .dataframe tbody tr th:only-of-type {\n",
       "        vertical-align: middle;\n",
       "    }\n",
       "\n",
       "    .dataframe tbody tr th {\n",
       "        vertical-align: top;\n",
       "    }\n",
       "\n",
       "    .dataframe thead th {\n",
       "        text-align: right;\n",
       "    }\n",
       "</style>\n",
       "<table border=\"1\" class=\"dataframe\">\n",
       "  <thead>\n",
       "    <tr style=\"text-align: right;\">\n",
       "      <th></th>\n",
       "      <th>x_n</th>\n",
       "      <th>f(x_n)</th>\n",
       "    </tr>\n",
       "    <tr>\n",
       "      <th>n</th>\n",
       "      <th></th>\n",
       "      <th></th>\n",
       "    </tr>\n",
       "  </thead>\n",
       "  <tbody>\n",
       "    <tr>\n",
       "      <th>0</th>\n",
       "      <td>9.900000</td>\n",
       "      <td>99.010000</td>\n",
       "    </tr>\n",
       "    <tr>\n",
       "      <th>1</th>\n",
       "      <td>10.000000</td>\n",
       "      <td>101.000000</td>\n",
       "    </tr>\n",
       "    <tr>\n",
       "      <th>2</th>\n",
       "      <td>4.924623</td>\n",
       "      <td>25.251913</td>\n",
       "    </tr>\n",
       "    <tr>\n",
       "      <th>3</th>\n",
       "      <td>3.232660</td>\n",
       "      <td>11.450090</td>\n",
       "    </tr>\n",
       "    <tr>\n",
       "      <th>4</th>\n",
       "      <td>1.828995</td>\n",
       "      <td>4.345224</td>\n",
       "    </tr>\n",
       "    <tr>\n",
       "      <th>5</th>\n",
       "      <td>0.970536</td>\n",
       "      <td>1.941941</td>\n",
       "    </tr>\n",
       "    <tr>\n",
       "      <th>6</th>\n",
       "      <td>0.276870</td>\n",
       "      <td>1.076657</td>\n",
       "    </tr>\n",
       "    <tr>\n",
       "      <th>7</th>\n",
       "      <td>-0.586247</td>\n",
       "      <td>1.343685</td>\n",
       "    </tr>\n",
       "    <tr>\n",
       "      <th>8</th>\n",
       "      <td>3.756954</td>\n",
       "      <td>15.114702</td>\n",
       "    </tr>\n",
       "    <tr>\n",
       "      <th>9</th>\n",
       "      <td>-1.010028</td>\n",
       "      <td>2.020156</td>\n",
       "    </tr>\n",
       "    <tr>\n",
       "      <th>10</th>\n",
       "      <td>-1.745452</td>\n",
       "      <td>4.046602</td>\n",
       "    </tr>\n",
       "    <tr>\n",
       "      <th>11</th>\n",
       "      <td>-0.276886</td>\n",
       "      <td>1.076666</td>\n",
       "    </tr>\n",
       "  </tbody>\n",
       "</table>\n",
       "</div>"
      ],
      "text/plain": [
       "          x_n      f(x_n)\n",
       "n                        \n",
       "0    9.900000   99.010000\n",
       "1   10.000000  101.000000\n",
       "2    4.924623   25.251913\n",
       "3    3.232660   11.450090\n",
       "4    1.828995    4.345224\n",
       "5    0.970536    1.941941\n",
       "6    0.276870    1.076657\n",
       "7   -0.586247    1.343685\n",
       "8    3.756954   15.114702\n",
       "9   -1.010028    2.020156\n",
       "10  -1.745452    4.046602\n",
       "11  -0.276886    1.076666"
      ]
     },
     "metadata": {},
     "output_type": "display_data"
    },
    {
     "data": {
      "image/png": "[encoded data removed]",
      "text/plain": [
       "<Figure size 504x360 with 1 Axes>"
      ]
     },
     "metadata": {
      "needs_background": "light"
     },
     "output_type": "display_data"
    }
   ],
   "source": [
    "for idx, (f, fp, x0) in enumerate(zip(fs, fps, x0s)):\n",
    "    print(f\"f{idx+1} = 0 usando el metodo de la secante\")\n",
    "    secante_values = secante(f, x0, epsilon, delta, 10)\n",
    "    display(\n",
    "        pd.DataFrame({\"x_n\": secante_values, \"f(x_n)\": f(secante_values)}).rename_axis(\n",
    "            \"n\"\n",
    "        )\n",
    "    )\n",
    "    plot_fun(f, secante_values)\n"
   ]
  },
  {
   "cell_type": "markdown",
   "id": "2b0422cd",
   "metadata": {},
   "source": [
    "El metodo de la secante obtuvo resultados similares a Newton, pero con menos precision, en la funcion $f(x) = x^2$ podemos ver que tenemos muy pocos digitos correctos, por lo que la velocidad de convergencia es claramente menor a Newton."
   ]
  },
  {
   "cell_type": "markdown",
   "id": "40e5592f",
   "metadata": {},
   "source": [
    "### Problema 3. (Quarteroni, Saleri, Gervasio)\n",
    "Considere un plano cuya pendiente varía con tasa constante $\\omega$ y un punto de masa quieto en el tiempo $t=0$. En el tiempo $t>0$ su posición es dada por\n",
    "$$s(t,\\omega)= \\frac{g}{2\\omega^2}\\Big[ \\sinh(\\omega t)-\\sin(\\omega t) \\Big] $$\n",
    "donde $g=9.8 \\frac{m}{s^2}$. Suponga que el objeto se ha movido 1 metro en un segundo, calcule el valor correspondiente de $\\omega$ con 12 decimales exactos. "
   ]
  },
  {
   "cell_type": "markdown",
   "id": "5a1a8368",
   "metadata": {},
   "source": [
    "**Solución**\n",
    "\n",
    "Remplazando los datos obtenemos la siguiente ecuación:\n",
    "$$0 = \\frac{g}{2\\omega^2}\\Big[ \\sinh(\\omega)-\\sin(\\omega) \\Big] - 1$$\n",
    "A continuación planteamos la función y hallamos una raiz mediante el metodo de la secante, empezando endo en el punto $x_1 = 5$ y tomando $x_0 = 5 \\cdot 0.99$. Ademas tomamos a epsilon y delta como 1e-13 con el fin de tener aproximadamente 12 decimales exactos."
   ]
  },
  {
   "cell_type": "code",
   "execution_count": 14,
   "id": "0ad6eb50",
   "metadata": {},
   "outputs": [
    {
     "name": "stdout",
     "output_type": "stream",
     "text": [
      "Reached epsilon limit.\n"
     ]
    },
    {
     "data": {
      "text/plain": [
       "[4.95,\n",
       " 5,\n",
       " 3.3732816388284848,\n",
       " 2.3276544632521645,\n",
       " 1.0686568404195973,\n",
       " 0.637948228169016,\n",
       " 0.6122107546218392,\n",
       " 0.6121425757110833,\n",
       " 0.6121425707030951]"
      ]
     },
     "execution_count": 14,
     "metadata": {},
     "output_type": "execute_result"
    }
   ],
   "source": [
    "g = 9.8\n",
    "f = lambda w: g / (2 * np.power(w, 2)) * (np.sinh(w) - np.sin(w)) - 1\n",
    "\n",
    "secante(f, 5, 1e-13, 1e-13, 15)\n"
   ]
  },
  {
   "cell_type": "markdown",
   "id": "cbbbb109",
   "metadata": {},
   "source": [
    "El metodo concluyo debido a que se cumplio el criterio del epsilon, por lo tanto podemos estar seguros que $f(x_n) < 10^{-12}$. Por lo tanto la constante $w = 0.612142570703$."
   ]
  },
  {
   "cell_type": "markdown",
   "id": "2d2a2ff4",
   "metadata": {},
   "source": [
    "### Problema 4. (Quarteroni, Saleri, Gervasio) \n",
    "La longitud maxima de una varilla que se puede arrastrar de un extremo a otro deslizandola por un pasillo como el de la figura es \n",
    "$$L=\\frac{l_2}{\\sin(\\pi-\\gamma-\\alpha)}+\\frac{l_1}{\\sin(\\alpha)}$$\n",
    "donde $\\alpha$ es la solución de la ecuación\n",
    "$$ l_2 \\frac{\\cos(\\pi-\\gamma-\\alpha)}{\\sin^2(\\pi-\\gamma-\\alpha)}-l_1\\frac{\\cos(\\alpha)}{\\sin^2(\\alpha)}=0.$$\n",
    "Calcule $\\alpha$ cuando $l_2=10$, $l_1=8$ y $\\gamma=\\frac{3\\pi}{5}$. ¿Cuántos decimales puede garantizar para $\\alpha$ y $L$?"
   ]
  },
  {
   "cell_type": "markdown",
   "id": "91b40b68",
   "metadata": {},
   "source": [
    "![Captura de pantalla de 2021-03-20 13-54-08.png](data:image/png;base64,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)"
   ]
  },
  {
   "cell_type": "markdown",
   "id": "776f4f99",
   "metadata": {},
   "source": [
    "Primero vamos a hallar el vamos de $\\alpha$, para ello vamos a usar el metodo de la secante que fue implementado anteriormente, ya que la derivada de la función de $\\alpha$ no parece poder ser calculada trivialmente. Incialmente tomamos los puntos $x_0 = 0.99, x_1 = 1$ y obtenemos lo siguiente:"
   ]
  },
  {
   "cell_type": "code",
   "execution_count": 15,
   "id": "db704ede",
   "metadata": {},
   "outputs": [
    {
     "name": "stdout",
     "output_type": "stream",
     "text": [
      "Reached delta limit.\n"
     ]
    },
    {
     "data": {
      "text/plain": [
       "[0.99,\n",
       " 1,\n",
       " 0.873153226264636,\n",
       " 0.7888681116393422,\n",
       " 0.677659317289854,\n",
       " 0.6123344447005424,\n",
       " 0.5966270670253618,\n",
       " 0.5962791575907744,\n",
       " 0.5962799275239845,\n",
       " 0.5962799274654735,\n",
       " 0.5962799274654734,\n",
       " 0.5962799274654735,\n",
       " 0.5962799274654735]"
      ]
     },
     "execution_count": 15,
     "metadata": {},
     "output_type": "execute_result"
    }
   ],
   "source": [
    "gamma = 3 * np.pi / 5\n",
    "l2 = 10\n",
    "l1 = 8\n",
    "f_alpha = lambda alpha: l2 * np.cos(np.pi - gamma - alpha) / np.power(\n",
    "    np.sin(np.pi - gamma - alpha), 2\n",
    ") - l1 * np.cos(alpha) / np.power(np.sin(alpha), 2)\n",
    "\n",
    "secante(f_alpha, 1, 1e-16, 1e-16, 30)\n"
   ]
  },
  {
   "cell_type": "markdown",
   "id": "d2b7b731",
   "metadata": {},
   "source": [
    "Podemos ver que la raiz calculada es $0.5962799274654735$. Vamos a repetir el metodo de la secante, esta vez iniciando en $x_0 = 0.6 \\cdot 0.99, x_1 = 0.6$ para ver si los resultados son distintos."
   ]
  },
  {
   "cell_type": "code",
   "execution_count": 16,
   "id": "a26636fa",
   "metadata": {},
   "outputs": [
    {
     "name": "stdout",
     "output_type": "stream",
     "text": [
      "Reached delta limit.\n"
     ]
    },
    {
     "data": {
      "text/plain": [
       "[0.594,\n",
       " 0.6,\n",
       " 0.5962817377550756,\n",
       " 0.5962799261054281,\n",
       " 0.596279927465474,\n",
       " 0.5962799274654734,\n",
       " 0.5962799274654735,\n",
       " 0.5962799274654735]"
      ]
     },
     "execution_count": 16,
     "metadata": {},
     "output_type": "execute_result"
    }
   ],
   "source": [
    "secante(f_alpha, 0.6, 1e-16, 1e-16, 30)\n"
   ]
  },
  {
   "cell_type": "markdown",
   "id": "8dae6679",
   "metadata": {},
   "source": [
    "El metodo concluyo debido a que se alcanzo el limite de error de la aproximacion, por lo que podemos estar seguros que $\\alpha = 0.5962799274654735$ ha sido calculado con aproximadamente 15 digitos correctos."
   ]
  },
  {
   "cell_type": "code",
   "execution_count": 17,
   "id": "9245509d",
   "metadata": {},
   "outputs": [
    {
     "name": "stdout",
     "output_type": "stream",
     "text": [
      "Reached delta limit.\n"
     ]
    }
   ],
   "source": [
    "alpha = secante(f_alpha, 0.6, 1e-16, 1e-16, 30)[-1]\n"
   ]
  },
  {
   "cell_type": "markdown",
   "id": "29fe072a",
   "metadata": {},
   "source": [
    "Ahora procedemos a calcular la longitud maxima $L$, usando el metodo de la secante:"
   ]
  },
  {
   "cell_type": "code",
   "execution_count": 18,
   "id": "fcaca6b5",
   "metadata": {},
   "outputs": [
    {
     "name": "stdout",
     "output_type": "stream",
     "text": [
      "Reached epsilon limit.\n"
     ]
    },
    {
     "data": {
      "text/plain": [
       "[0.99, 1, 30.548423069368926, 30.54842306937352]"
      ]
     },
     "execution_count": 18,
     "metadata": {},
     "output_type": "execute_result"
    }
   ],
   "source": [
    "f_L = lambda L: 10 / np.sin(np.pi - gamma - alpha) + 8 / np.sin(alpha) - L\n",
    "\n",
    "secante(f_L, 1, 1e-16, 1e-16, 30)\n"
   ]
  },
  {
   "cell_type": "markdown",
   "id": "9898ae17",
   "metadata": {},
   "source": [
    "El metodo converge muy rapido, por lo que podemos estar seguros que tenemos una precision bastante alta, en este caso tenemos aproximadamente 14 digitos correctos. Por lo tanto la longitud maxima de la varilla es de $30.54842306937352$ aproximadamente."
   ]
  },
  {
   "cell_type": "markdown",
   "id": "3ff25d27",
   "metadata": {},
   "source": [
    "### Problema 5. \n",
    "Selecciones dos de los métodos en https://docs.scipy.org/doc/scipy-0.13.0/reference/optimize.html en la sección Root finding, diga cual es el método numerico implementado (e.g, similar a newton, usa derivadas, no usa derivadas, combina varios métodos, llama alguna otra subrutina conocida encontrada en netlib, cuales son las toleracias por defecto, etc)  y para cada uno de los métodos seleccionados implementar un ejemplo numérico con una ecuación escalar o una ecuación vectorial según sea el caso. Imprima la solución calculada asi como alguna informacion adicional (residuo, cantidad de iteraciones, etc). \n",
    "\n",
    "Si usa MatLab seleccione dos de entre los métodos como fsolve, froot, fzero, roots, o similares (https://la.mathworks.com/help/optim/systems-of-nonlinear-equations.html). Análogamente para octave (https://octave.org/doc/v4.2.0/Solvers.html), julia, etc."
   ]
  },
  {
   "cell_type": "markdown",
   "id": "dd19c118",
   "metadata": {},
   "source": [
    "[**`scipy.optimize.brentq`**](https://docs.scipy.org/doc/scipy/reference/generated/scipy.optimize.brentq.html#scipy.optimize.brentq)\n",
    "\n",
    "Utiliza el algoritmo conocido como _Brent's method_(Metodo de Brent), el cual es un algoritmo para encontrar las raices de una función escalar real continua que combina el metodo de la bisección, el metodo de la secante e interpolación cuadratica inversa. Este metodo no utiliza derivadas pero necesita de un intervalo inicial con cambio de signo como parametro. Asimismo, tiene una convergencia de orden lineal garantizada y posiblemente de orden $\\approx 1.8$ debido a la inverpolación cuadrativa inversa. Por defecto usa una tolerancia de 8.881784197001252e-16. \n",
    "Esta función al parece usa una subrutina escrita en [C](https://docs.scipy.org/doc/scipy/reference/optimize.cython_optimize.html#module-scipy.optimize.cython_optimize).\n",
    "\n",
    "Ejemplo:"
   ]
  },
  {
   "cell_type": "markdown",
   "id": "6bd3cfc5",
   "metadata": {},
   "source": [
    "Vamos a resolver la ecuación $\\cos(x) - x = 0$ la cual sabemos por el ejercicio dos que tiene una raiz en 0.73 aproximadamente, por lo tanto vamos a tomar el intervalo inicial $(0, 2)$."
   ]
  },
  {
   "cell_type": "code",
   "execution_count": 19,
   "id": "16e45e73",
   "metadata": {},
   "outputs": [
    {
     "data": {
      "text/plain": [
       "(0.7390851332151607,\n",
       "       converged: True\n",
       "            flag: 'converged'\n",
       "  function_calls: 8\n",
       "      iterations: 7\n",
       "            root: 0.7390851332151607)"
      ]
     },
     "execution_count": 19,
     "metadata": {},
     "output_type": "execute_result"
    }
   ],
   "source": [
    "from scipy.optimize import brentq\n",
    "\n",
    "\n",
    "f = lambda x: np.cos(x) - x\n",
    "brentq(f, 0, 2, full_output=True)\n"
   ]
  },
  {
   "cell_type": "markdown",
   "id": "80273071",
   "metadata": {},
   "source": [
    "En la informacion adicional proporcionada se puede ver que la raiz calculada es 0.7390851332151607, se corrieron 7 iteraciones del algoritmo y 8 llamadas a la función."
   ]
  },
  {
   "cell_type": "markdown",
   "id": "5030d72b",
   "metadata": {},
   "source": [
    "**`scipy.optimize.ridder`**\n",
    "\n",
    "Utiliza el algoritmo conocido como _Ridders' method_(Metodo de Ridders), el cual es un algoritmo para calcular las raices de una función real escalar continua que esta basado en el metodo de la regla falsa, que a su vez combina el metodo de bisección y el metodo de la secante, y usa la exponencial para aproximar sucesivamenete la raiz de la función. Este metodo no usa derivadas y usa una tolerancia por defecto de 8.881784197001252e-16. Es mas rapido que el metodo de la bisección pero en general mas lento que el metodo de Brent. En su implementacion parece que usa una subrutina escrita en [C](https://docs.scipy.org/doc/scipy/reference/optimize.cython_optimize.html#module-scipy.optimize.cython_optimize).\n"
   ]
  },
  {
   "cell_type": "markdown",
   "id": "f1f00582",
   "metadata": {},
   "source": [
    "Ejemplo:\n",
    "Vamos a resolver la ecuación escalar $x^5 + e^x = 0$, la función graficamente se ve asi:"
   ]
  },
  {
   "cell_type": "code",
   "execution_count": 20,
   "id": "2936d55f",
   "metadata": {},
   "outputs": [
    {
     "data": {
      "image/png": "[encoded data removed]",
      "text/plain": [
       "<Figure size 504x360 with 1 Axes>"
      ]
     },
     "metadata": {
      "needs_background": "light"
     },
     "output_type": "display_data"
    }
   ],
   "source": [
    "f = lambda x: np.power(x, 5) + np.exp(x)\n",
    "plot_fun(f, [-1])\n"
   ]
  },
  {
   "cell_type": "markdown",
   "id": "8282e55e",
   "metadata": {},
   "source": [
    "Por lo tanto, sabemos que tiene una raiz cerca de -1. Ahora, usando el metodo re Ridders:"
   ]
  },
  {
   "cell_type": "code",
   "execution_count": 21,
   "id": "a8c409d9",
   "metadata": {},
   "outputs": [
    {
     "data": {
      "text/plain": [
       "(-0.8445798674965475,\n",
       "       converged: True\n",
       "            flag: 'converged'\n",
       "  function_calls: 14\n",
       "      iterations: 6\n",
       "            root: -0.8445798674965475)"
      ]
     },
     "execution_count": 21,
     "metadata": {},
     "output_type": "execute_result"
    }
   ],
   "source": [
    "from scipy.optimize import ridder\n",
    "\n",
    "\n",
    "ridder(f, -2, 0, full_output=True)\n"
   ]
  },
  {
   "cell_type": "markdown",
   "id": "52977b9e",
   "metadata": {},
   "source": [
    "Efectivamente la raiz calculada mediante el metodo de Ridders es -0.8445798674965475, se usaron 6 iteaciones del algoritmo y se llamó a la función un total de 14 veces."
   ]
  }
 ],
 "metadata": {
  "kernelspec": {
   "display_name": "sci-comp",
   "language": "python",
   "name": "sci-comp"
  },
  "language_info": {
   "codemirror_mode": {
    "name": "ipython",
    "version": 3
   },
   "file_extension": ".py",
   "mimetype": "text/x-python",
   "name": "python",
   "nbconvert_exporter": "python",
   "pygments_lexer": "ipython3",
   "version": "3.8.8"
  }
 },
 "nbformat": 4,
 "nbformat_minor": 5
}
