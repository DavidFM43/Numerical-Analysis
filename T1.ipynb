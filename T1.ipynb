{
 "cells": [
  {
   "cell_type": "markdown",
   "id": "5848ca0b",
   "metadata": {},
   "source": [
    "#### David Felipe Mora - Ciencias de la computación\n",
    "# Problemas\n",
    "\n",
    "\n",
    "**PROBLEMA 1.** ¿Cuánta memoria requiere guardar 100.000 números de punto flotante de precisión doble?¿Cuánta memoria requiere guardar una matriz de números de punto flotante dimensión 100.000 x 100.000?.\n",
    "\n",
    "**PROBLEMA 2.** Los números de punto flotante en python son implementados usando la clase float. Es decir, además de la descripción en bits del número tenemos asociados a la una instancia de variable tipo float los siguientes métodos y atributos para un dato float: as_integer_ratio, conjugate, fromhex, imag, is_integer, real .\n",
    "\n",
    "Describa cada uno de estos métodos y atributos con ejemplos simples. \n",
    "\n",
    "La implementación del tipo de dato float en lenguaje C corresponde solo a la descripción en bits del número y no corresponde a una estructura u objeto. ¿Cuáles son las ventajas y desventajas de usar objetos?. \n",
    "\n",
    "\n",
    "**PROBLEMA 3.(Sullivan)** Con $x_0=1/10$, considere la sucesión,  \n",
    "$$\n",
    "x_{n+1}=\\left\\{\\begin{array}{ll}\n",
    "2x_n & \\mbox{ si } x_n\\in \\left[0,\\frac{1}{2}\\right] \\\\\n",
    "2x_n-1 &  \\mbox{ si } x_n\\in \\left(\\frac{1}{2},1\\right].\n",
    "\\end{array}\\right.\n",
    "$$\n",
    "para $n=1,2,\\dots$. Calcule $x_1,x_2,x_3,\\dots,x_{50}$ de forma análitica y despues usandoun código en python. Compare y explique.\n",
    "\n",
    "Repetir pero ahora iniciando con $x_0=1/8$. Compare y explique. \n",
    "\n",
    "**PROBLEMA 4.** Explique la falla del Ariane. Muestre cálculos numéricos para soportar su explicación. \n",
    "\n",
    "**PROBLEMA 5.**  Explicar la falla del American Patriot. Muestre cálculos numéricos para soportar su explicación.\n",
    "\n",
    "**PROBLEMA 6.** Ensaye calcular las funciones $$f(x)=\\sqrt{x^2+1}-1 \\quad g(x)=\\frac{x^2}{\\sqrt{x^2+1}+1}$$\n",
    "Use valores pequeños como $x=8^{-1},8^{-2},8^{-3},\\dots$. Explique los resultados. Note que, análiticamete,  $f(x)=g(x)$.\n",
    "\n",
    "**PROBLEMA 7.(Quarteroni,Saleri,Gervasio)** El lector puede implementar el calculo de la siguiente recurrencia que aproxima $\\pi$ (formula de Franc,ois Viète) y estudiar su estabilidad/inestabilidad numérica, \n",
    "$$z_1=2, \\,\\,z_{n+1}=2^{n-1/2}\\sqrt{1-\\sqrt{1-4^{1-n}z_n^2}},\\,\\,n=2,3,\\dots. $$\n",
    "\n",
    "\n",
    "\n",
    "**PROBLEMA 8.(Stewart)** Repita el experimento arriba con la recurrencia $x_1=\\frac{1}{3}, x_2=\\frac{1}{12}$,  $x_{k+1}=2.25x_k-0.5x_{k-1}$.\n",
    "\n",
    "**PROBLEMA 9.** Presente un ejemplo, adicional  a los presentados en clase, de algoritmos inestables o problemas mal condicionados. \n",
    "\n",
    "**PROBLEMA 10.** Repita el experimento de arriba con $P(x)=(x-1)^7$. Agregue el siguiente método \n",
    "$$  P(x)= ((((((x-7)x+21)x-35)x+35)x-21)x+7)x-1 $$\n",
    "Verifique esta formula. Implemente y comente los resultados. Esta forma de calcular polinomios es conocida como el esquema de Horner.\n",
    "\n",
    "**PROBLEMA 11.(Stoer)** Considere los siguientes algoritmos. Algoritmo 1\n",
    "$$s=p^2,\\quad t=s+q,\\quad u=\\sqrt{t},\\quad y=-p+u  $$\n",
    "y el algoritmo 2, \n",
    "$$s=p^2,\\quad t=s+q,\\quad u=\\sqrt{t}, \\quad v=p+u,\\quad y=q/v $$\n",
    "Escriba $y$ como función de $p$ y $q$. Compare los resutados de estos dos algoritmos cuando $p=1000$,  $q=0.0018000000081$. Explique los resultados. ¿Cuál es mas confiable para estos valores de $p$ y $q$?\n",
    "\n",
    "**PROBLEMA 12.** Considere el siguiente codigo\n",
    "```\n",
    "x=np.sqrt(1/9)\n",
    "print(\"x={0:.60f}\".format(x))\n",
    "```\n",
    "que dá como resultado \n",
    "x=0.333333333333333314829616256247390992939472198486328125000000.\n",
    "\n",
    "Explique, tan detalladamente como le sea posible, lo que  está pasando. \n",
    "Compare con el siguiente código para el cual es más dificil saber la respuesta exacta. \n",
    "```\n",
    "x=np.sqrt(0.1)\n",
    "print(\"x={0:.60f}\".format(x))\n",
    "```\n",
    "¿Cuántos decimales puede garantizar este cálculo?\n",
    "\n",
    "**PROBLEMA 13.** Describa los siguientes tipos de datos :numpy.half,   numpy.float16, numpy.single, numpy.double, numpy.longdouble, numpy.csingle, numpy.cdouble, numpy.clongdouble."
   ]
  },
  {
   "cell_type": "markdown",
   "id": "07ae94e9",
   "metadata": {},
   "source": [
    "# Soluciones"
   ]
  },
  {
   "cell_type": "markdown",
   "id": "8cb44b6e",
   "metadata": {},
   "source": [
    "Las librerias que se van a usar son:"
   ]
  },
  {
   "cell_type": "code",
   "execution_count": 1,
   "id": "ba0f982b",
   "metadata": {},
   "outputs": [],
   "source": [
    "import math\n",
    "import numpy as np"
   ]
  },
  {
   "cell_type": "markdown",
   "id": "80965662",
   "metadata": {},
   "source": [
    "#### Problema 1."
   ]
  },
  {
   "cell_type": "markdown",
   "id": "5bfcb933",
   "metadata": {},
   "source": [
    "Cualquier número de punto flotante en el formato de precision doble requiere 64 bits, o lo que es lo mismo, 8 Byte, luego guardar 100.000 de estos requiere 800 Kilobytes. Una matriz de 100.000 x 100.000 tiene $10^{10}$ números de punto flotante, luego ocuparía 80 Megabytes."
   ]
  },
  {
   "cell_type": "markdown",
   "id": "c5cc426f",
   "metadata": {},
   "source": [
    "#### Problema 2.  "
   ]
  },
  {
   "cell_type": "markdown",
   "id": "3c9bfe9e",
   "metadata": {},
   "source": [
    "`x.as_integer_ratio()` retorna una tupla `(a, b)` donde $x = \\frac{a}{b}$."
   ]
  },
  {
   "cell_type": "code",
   "execution_count": 2,
   "id": "29292714",
   "metadata": {},
   "outputs": [
    {
     "name": "stdout",
     "output_type": "stream",
     "text": [
      "a = 884279719003555\n",
      "b = 281474976710656\n",
      "a/b = 3.141592653589793\n"
     ]
    }
   ],
   "source": [
    "pi = math.pi\n",
    "a, b = pi.as_integer_ratio()\n",
    "rat = a / b\n",
    "print(f\"a = {a}\")\n",
    "print(f\"b = {b}\")\n",
    "print(f\"a/b = {rat}\")"
   ]
  },
  {
   "cell_type": "markdown",
   "id": "a0c6ff71",
   "metadata": {},
   "source": [
    "`x.conjugate()` retorna el conjugado de `x`."
   ]
  },
  {
   "cell_type": "code",
   "execution_count": 3,
   "id": "71bce07f",
   "metadata": {},
   "outputs": [
    {
     "name": "stdout",
     "output_type": "stream",
     "text": [
      "Conjugado de 5.0: 5.0\n",
      "Conjugado de 3 + 6j: (3-6j)\n"
     ]
    }
   ],
   "source": [
    "r = 5.0 # número real\n",
    "print(f\"Conjugado de 5.0: {r.conjugate()}\")\n",
    "c = 3 + 6j # número complejo \n",
    "print(f\"Conjugado de 3 + 6j: {c.conjugate()}\")"
   ]
  },
  {
   "cell_type": "markdown",
   "id": "9256f922",
   "metadata": {},
   "source": [
    "`x.is_integer()` retorna `True` si `x` es entero."
   ]
  },
  {
   "cell_type": "code",
   "execution_count": 4,
   "id": "7b0fdbe7",
   "metadata": {},
   "outputs": [
    {
     "name": "stdout",
     "output_type": "stream",
     "text": [
      "¿Es pi entero?: False\n",
      "¿Es 2.0 entero?: True\n"
     ]
    }
   ],
   "source": [
    "print(f\"¿Es pi entero?: {pi.is_integer()}\")\n",
    "print(f\"¿Es 2.0 entero?: {2.0.is_integer()}\")"
   ]
  },
  {
   "cell_type": "markdown",
   "id": "e47a043f",
   "metadata": {},
   "source": [
    "`x.real` es la parte real de `x`."
   ]
  },
  {
   "cell_type": "code",
   "execution_count": 5,
   "id": "81650f5f",
   "metadata": {},
   "outputs": [
    {
     "name": "stdout",
     "output_type": "stream",
     "text": [
      "(3+6j)\n",
      "3.0\n"
     ]
    }
   ],
   "source": [
    "print(c)\n",
    "print(c.real)"
   ]
  },
  {
   "cell_type": "markdown",
   "id": "220c4c66",
   "metadata": {},
   "source": [
    "`x.imag` es la parte compleja de `x`."
   ]
  },
  {
   "cell_type": "code",
   "execution_count": 6,
   "id": "4eefa81d",
   "metadata": {},
   "outputs": [
    {
     "name": "stdout",
     "output_type": "stream",
     "text": [
      "(3+6j)\n",
      "6.0\n"
     ]
    }
   ],
   "source": [
    "print(c)\n",
    "print(c.imag)"
   ]
  },
  {
   "cell_type": "markdown",
   "id": "82a39054",
   "metadata": {},
   "source": [
    "`float.fromhex(x)` donde `x` es un numero hexadecimal, retorna la representación decimal de `x` como `float`."
   ]
  },
  {
   "cell_type": "code",
   "execution_count": 7,
   "id": "64686293",
   "metadata": {},
   "outputs": [
    {
     "name": "stdout",
     "output_type": "stream",
     "text": [
      "3740.0\n"
     ]
    }
   ],
   "source": [
    "print(float.fromhex('0x3.a7p10'))"
   ]
  },
  {
   "cell_type": "markdown",
   "id": "016217d3",
   "metadata": {},
   "source": [
    "El hecho que Python implementa en tipo de dato float mediante objetos permite proporcionar al usuario muchas funcionalidades como se ejemplificó anteriormente, sin embargo esta implementación mediante objetos podria tener penalizaciones en cuestiones de rendimiento en comparación a lenguajes como C ya que es una representación extra por la que se debe de pasar antes de hacer lo calculos."
   ]
  },
  {
   "cell_type": "markdown",
   "id": "c12fd67c",
   "metadata": {},
   "source": [
    "#### Problema 3."
   ]
  },
  {
   "cell_type": "code",
   "execution_count": 8,
   "id": "32ee22dc",
   "metadata": {
    "scrolled": true
   },
   "outputs": [
    {
     "name": "stdout",
     "output_type": "stream",
     "text": [
      "x_0 = 0.1\n",
      "x_1 = 0.2\n",
      "x_2 = 0.4\n",
      "x_3 = 0.8\n",
      "x_4 = 0.6000000000000001\n",
      "x_5 = 0.20000000000000018\n",
      "x_6 = 0.40000000000000036\n",
      "x_7 = 0.8000000000000007\n",
      "x_8 = 0.6000000000000014\n",
      "x_9 = 0.20000000000000284\n",
      "x_10 = 0.4000000000000057\n",
      "x_11 = 0.8000000000000114\n",
      "x_12 = 0.6000000000000227\n",
      "x_13 = 0.20000000000004547\n",
      "x_14 = 0.40000000000009095\n",
      "x_15 = 0.8000000000001819\n",
      "x_16 = 0.6000000000003638\n",
      "x_17 = 0.2000000000007276\n",
      "x_18 = 0.4000000000014552\n",
      "x_19 = 0.8000000000029104\n",
      "x_20 = 0.6000000000058208\n",
      "x_21 = 0.20000000001164153\n",
      "x_22 = 0.40000000002328306\n",
      "x_23 = 0.8000000000465661\n",
      "x_24 = 0.6000000000931323\n",
      "x_25 = 0.20000000018626451\n",
      "x_26 = 0.40000000037252903\n",
      "x_27 = 0.8000000007450581\n",
      "x_28 = 0.6000000014901161\n",
      "x_29 = 0.20000000298023224\n",
      "x_30 = 0.4000000059604645\n",
      "x_31 = 0.800000011920929\n",
      "x_32 = 0.6000000238418579\n",
      "x_33 = 0.20000004768371582\n",
      "x_34 = 0.40000009536743164\n",
      "x_35 = 0.8000001907348633\n",
      "x_36 = 0.6000003814697266\n",
      "x_37 = 0.20000076293945312\n",
      "x_38 = 0.40000152587890625\n",
      "x_39 = 0.8000030517578125\n",
      "x_40 = 0.600006103515625\n",
      "x_41 = 0.20001220703125\n",
      "x_42 = 0.4000244140625\n",
      "x_43 = 0.800048828125\n",
      "x_44 = 0.60009765625\n",
      "x_45 = 0.2001953125\n",
      "x_46 = 0.400390625\n",
      "x_47 = 0.80078125\n",
      "x_48 = 0.6015625\n",
      "x_49 = 0.203125\n",
      "x_50 = 0.40625\n"
     ]
    }
   ],
   "source": [
    "x_0 = 1/10\n",
    "def f(x_n):\n",
    "    if 0 <= x_n <= 1/2:\n",
    "        return 2*x_n\n",
    "    elif 1/2 < x_n <= 1:\n",
    "        return 2*x_n - 1\n",
    "    \n",
    "x_n = x_0\n",
    "\n",
    "for i in range(51):\n",
    "    print(f\"x_{i} = {x_n}\")\n",
    "    x_n = f(x_n)"
   ]
  },
  {
   "cell_type": "markdown",
   "id": "4e37bae7",
   "metadata": {},
   "source": [
    "Analiticamente es claro que esta sucesion tiene un periodo de 4 despues del primer termino, por lo tanto es de la siguiente forma: \n",
    "$$(0.1, 0.2, 0.4, 0.8, 0.6, 0.2, 0.4, 0.8, 0.6, 0.2, 0.4, 0.8, 0.6, ...)$$"
   ]
  },
  {
   "cell_type": "markdown",
   "id": "b2847e5b",
   "metadata": {},
   "source": [
    "Comparando los resultados numericos contra los analiticos no damos cuenta que los numericos son cada vez mas imprecisos, esto posiblemente se debe a el error de redondedo que acarrea componer operaciones aritmeticas."
   ]
  },
  {
   "cell_type": "code",
   "execution_count": 9,
   "id": "b574cefc",
   "metadata": {
    "scrolled": true
   },
   "outputs": [
    {
     "name": "stdout",
     "output_type": "stream",
     "text": [
      "x_0 = 0.125\n",
      "x_1 = 0.25\n",
      "x_2 = 0.5\n",
      "x_3 = 1.0\n",
      "x_4 = 1.0\n",
      "x_5 = 1.0\n",
      "x_6 = 1.0\n",
      "x_7 = 1.0\n",
      "x_8 = 1.0\n",
      "x_9 = 1.0\n",
      "x_10 = 1.0\n",
      "x_11 = 1.0\n",
      "x_12 = 1.0\n",
      "x_13 = 1.0\n",
      "x_14 = 1.0\n",
      "x_15 = 1.0\n",
      "x_16 = 1.0\n",
      "x_17 = 1.0\n",
      "x_18 = 1.0\n",
      "x_19 = 1.0\n",
      "x_20 = 1.0\n",
      "x_21 = 1.0\n",
      "x_22 = 1.0\n",
      "x_23 = 1.0\n",
      "x_24 = 1.0\n",
      "x_25 = 1.0\n",
      "x_26 = 1.0\n",
      "x_27 = 1.0\n",
      "x_28 = 1.0\n",
      "x_29 = 1.0\n",
      "x_30 = 1.0\n",
      "x_31 = 1.0\n",
      "x_32 = 1.0\n",
      "x_33 = 1.0\n",
      "x_34 = 1.0\n",
      "x_35 = 1.0\n",
      "x_36 = 1.0\n",
      "x_37 = 1.0\n",
      "x_38 = 1.0\n",
      "x_39 = 1.0\n",
      "x_40 = 1.0\n",
      "x_41 = 1.0\n",
      "x_42 = 1.0\n",
      "x_43 = 1.0\n",
      "x_44 = 1.0\n",
      "x_45 = 1.0\n",
      "x_46 = 1.0\n",
      "x_47 = 1.0\n",
      "x_48 = 1.0\n",
      "x_49 = 1.0\n"
     ]
    }
   ],
   "source": [
    "x_0 = 1/8\n",
    "    \n",
    "x_n = x_0\n",
    "for i in range(50):\n",
    "    print(f\"x_{i} = {x_n}\")\n",
    "    x_n = f(x_n)"
   ]
  },
  {
   "cell_type": "markdown",
   "id": "28973a9a",
   "metadata": {},
   "source": [
    "Analiticamente, es facil ver que los primeros 3 terminos son $0.125, 0.25, 0.5$ y lo que resta de la sucesion son $1.0$s.\n",
    "\n",
    "En este caso los resultados numericos coinciden con los analiticos, esto es debido a que los terminos de la sucesion son todos numericos de maquina."
   ]
  },
  {
   "cell_type": "markdown",
   "id": "8dac6d7c",
   "metadata": {
    "heading_collapsed": true
   },
   "source": [
    "#### Problema 4."
   ]
  },
  {
   "cell_type": "markdown",
   "id": "711a1992",
   "metadata": {
    "hidden": true
   },
   "source": [
    "El 4 de Junio de 1996, el lanzamiento del cohete **Ariane 5** explotó tan solo 40 segundos depues del despegue. Segun el reporte de la _Agencia Espacial Europea_, la principal causa del accidente fue una falla en el **sistema de control y orientación** de la aeronave, falla provocada por errores en el **diseño y especificaciones del software del sistema de referencia inercial**. En el [reporte de la mesa de investigación de la AEE](https://esamultimedia.esa.int/docs/esa-x-1819eng.pdf) se menciona especificamente que el error se dio al momento de convertir un número de punto flotante de **64 bits** a un entero de **16 bits**, el número que se estaba convirtiendo era demasiado grande y se produjo un **error por desbordamiento** en la forma de **_OPERAND ERROR_** que no había sido protegido en el codigo. \n",
    "\n",
    "Podemos mostrar la situación ocurrida mediante este simple ejemplo de codigo, donde aunque no se produce ningun error de conversión, las conversiones pierden sentido a partir de cierto punto:"
   ]
  },
  {
   "cell_type": "code",
   "execution_count": 10,
   "id": "b966bb92",
   "metadata": {
    "hidden": true
   },
   "outputs": [
    {
     "name": "stdout",
     "output_type": "stream",
     "text": [
      "float64:            1.0 -> int16: 1\n",
      "float64:           10.0 -> int16: 10\n",
      "float64:          100.0 -> int16: 100\n",
      "float64:         1000.0 -> int16: 1000\n",
      "float64:        10000.0 -> int16: 10000\n",
      "float64:       100000.0 -> int16: -31072\n",
      "float64:      1000000.0 -> int16: 16960\n",
      "float64:     10000000.0 -> int16: -27008\n",
      "float64:    100000000.0 -> int16: -7936\n",
      "float64:   1000000000.0 -> int16: -13824\n",
      "float64:  10000000000.0 -> int16: 0\n",
      "float64: 100000000000.0 -> int16: 0\n",
      "float64:1000000000000.0 -> int16: 0\n"
     ]
    }
   ],
   "source": [
    "for i in range(13):\n",
    "    x = np.float64(10**i) # float64\n",
    "    y = np.short(x) # int16\n",
    "    print(f\"float64:{x:15.1f} -> int16: {y}\")"
   ]
  },
  {
   "cell_type": "markdown",
   "id": "0656691e",
   "metadata": {
    "heading_collapsed": true
   },
   "source": [
    "#### Problema 5."
   ]
  },
  {
   "cell_type": "markdown",
   "id": "c6e6526b",
   "metadata": {
    "hidden": true
   },
   "source": [
    "El 25 de Febrero de 1991, una **sistema antimisiles _Patriot_** en Dhahran falló al momento de **seguir e interceptar** un misil _Scud_ debido a un problema del software del sistema de control que resultaba en **imprecisiones en los calculos de seguimiento** los cuales aumentaban a medida que lo hacia el tiempo de operacion del sistema. El sistema intentaba predecir la posición futura de un misil dada la velocidad y el tiempo de la ultima detección del mismo, el tiempo se guardaba internamente en números enteros que representan **decenas de segundos**. No obstante, a la hora de efecutar las predicciones el sistema requería el tiempo en segundos, por lo cual se debía escalar el tiempo por un factor de $\\frac{1}{10}$. Los registros del sistema contaban con una capacidad de **24 bits**(No es claro en que formato), por lo que se **truncaban** los numeros pasados esta longitud de bits y se producia un **error de truncamiento**, teniendo en cuenta que el sistema llevaba unas **100 horas** en operación, se produjo un error de 0.34 segundos, lo suficiente para que el sistema no sea capaz de ubicar la posicion futura del misil con exactitud. Para mas información, consultar [IMTEC-92-26 Patriot Missile Defense: Software Problem Led to System Failure at Dhahran, Saudi Arabia](https://www.gao.gov/assets/imtec-92-26.pdf). A continuación se muestra el calculo de este error suponiendo que el formato usaba 20 bits para la mantisa para que los calculos sean conformes a los reales:"
   ]
  },
  {
   "cell_type": "code",
   "execution_count": 11,
   "id": "62910929",
   "metadata": {
    "hidden": true
   },
   "outputs": [
    {
     "name": "stdout",
     "output_type": "stream",
     "text": [
      "Error absoluto por truncamiento: 9.5367431640625e-08\n",
      "Error en segundos: 0.34332275390625\n"
     ]
    }
   ],
   "source": [
    "system_time = 100*60*60\n",
    "time_in_sec = system_time * 10 # 100 horas en segundos \n",
    "\n",
    "error = 0.1/2**20\n",
    "\n",
    "dec_error = \"{:.9f}\".format(error)\n",
    "total_error = time_in_sec * error\n",
    "print(f\"Error absoluto por truncamiento: {error}\")\n",
    "print(f\"Error en segundos: {total_error}\")\n"
   ]
  },
  {
   "cell_type": "markdown",
   "id": "192c0396",
   "metadata": {
    "heading_collapsed": true
   },
   "source": [
    "#### Problema 6."
   ]
  },
  {
   "cell_type": "code",
   "execution_count": 12,
   "id": "4fc9da52",
   "metadata": {
    "hidden": true
   },
   "outputs": [
    {
     "name": "stdout",
     "output_type": "stream",
     "text": [
      "x = 1/8^1 \t f(x) = 7.7822185373e-03 \t g(x) = 7.7822185373e-03\n",
      "x = 1/8^2 \t f(x) = 1.2206286283e-04 \t g(x) = 1.2206286283e-04\n",
      "x = 1/8^3 \t f(x) = 1.9073468138e-06 \t g(x) = 1.9073468138e-06\n",
      "x = 1/8^4 \t f(x) = 2.9802321944e-08 \t g(x) = 2.9802321944e-08\n",
      "x = 1/8^5 \t f(x) = 4.6566128731e-10 \t g(x) = 4.6566128720e-10\n",
      "x = 1/8^6 \t f(x) = 7.2759576142e-12 \t g(x) = 7.2759576142e-12\n",
      "x = 1/8^7 \t f(x) = 1.1368683772e-13 \t g(x) = 1.1368683772e-13\n",
      "x = 1/8^8 \t f(x) = 1.7763568394e-15 \t g(x) = 1.7763568394e-15\n",
      "x = 1/8^9 \t f(x) = 0.0000000000e+00 \t g(x) = 2.7755575616e-17\n",
      "x = 1/8^10 \t f(x) = 0.0000000000e+00 \t g(x) = 4.3368086899e-19\n",
      "x = 1/8^11 \t f(x) = 0.0000000000e+00 \t g(x) = 6.7762635780e-21\n",
      "x = 1/8^12 \t f(x) = 0.0000000000e+00 \t g(x) = 1.0587911841e-22\n",
      "x = 1/8^13 \t f(x) = 0.0000000000e+00 \t g(x) = 1.6543612251e-24\n",
      "x = 1/8^14 \t f(x) = 0.0000000000e+00 \t g(x) = 2.5849394142e-26\n"
     ]
    }
   ],
   "source": [
    "def f(x):\n",
    "    return math.sqrt(x**2 + 1) - 1\n",
    "\n",
    "def g(x):\n",
    "    return (x**2) / (math.sqrt(x**2 + 1) + 1)\n",
    "\n",
    "for i in range(1, 15):\n",
    "    x = 8**(-i)\n",
    "    print(f\"x = 1/8^{i} \\t f(x) = {f(x):15.10e} \\t g(x) = {g(x):15.10e}\")"
   ]
  },
  {
   "cell_type": "markdown",
   "id": "008e8a09",
   "metadata": {
    "hidden": true
   },
   "source": [
    "Se pude ver que los resultados de evaluar ambas funciones son aproximadamente los mismos hasta $8^{-8}$, despues de este punto los resultados de `f` son `0.0`, esto es debido a que hubo una perdida de digitos significativos mayor al numero de digitos de la mantisa provocado por restar dos digitos muy cercanos."
   ]
  },
  {
   "cell_type": "markdown",
   "id": "b7add975",
   "metadata": {
    "heading_collapsed": true
   },
   "source": [
    "#### Problema 7."
   ]
  },
  {
   "cell_type": "code",
   "execution_count": 13,
   "id": "173e3cf0",
   "metadata": {
    "hidden": true
   },
   "outputs": [
    {
     "name": "stdout",
     "output_type": "stream",
     "text": [
      "z_1 = 2\n",
      "z_2 = 2.8284271247461903\n",
      "z_3 = 3.0614674589207187\n",
      "z_4 = 3.121445152258053\n",
      "z_5 = 3.136548490545941\n",
      "z_6 = 3.140331156954739\n",
      "z_7 = 3.141277250932757\n",
      "z_8 = 3.1415138011441455\n",
      "z_9 = 3.1415729403678827\n",
      "z_10 = 3.141587725279961\n",
      "z_11 = 3.141591421504635\n",
      "z_12 = 3.141592345611077\n",
      "z_13 = 3.141592576545005\n",
      "z_14 = 3.1415926334632487\n",
      "z_15 = 3.1415926548075896\n",
      "z_16 = 3.1415926832667105\n",
      "z_17 = 3.1415927591577\n",
      "z_18 = 3.1415929109396727\n",
      "z_19 = 3.141594125195191\n",
      "z_20 = 3.1415965537048196\n",
      "z_21 = 3.1415965537048196\n",
      "z_22 = 3.1416742650217575\n",
      "z_23 = 3.141829681889201\n",
      "z_24 = 3.142451272494134\n",
      "z_25 = 3.142451272494134\n",
      "z_26 = 3.1622776601683795\n",
      "z_27 = 3.1622776601683795\n",
      "z_28 = 3.4641016151377544\n",
      "z_29 = 4.000000000000001\n",
      "z_30 = 8.000000000000002\n"
     ]
    }
   ],
   "source": [
    "z_1 = 2\n",
    "def f(n, z_n):\n",
    "    return 2**(n - 1/2) * math.sqrt(1 - math.sqrt(1 - (4**(1-n)) * (z_n**2)))\n",
    "                                    \n",
    "z_n = 2\n",
    "print(f\"z_1 = 2\")\n",
    "for n in range(2, 31):\n",
    "    z_n = f(n, z_n)\n",
    "    print(f\"z_{n} = {z_n}\")"
   ]
  },
  {
   "cell_type": "markdown",
   "id": "78cf18dd",
   "metadata": {
    "hidden": true
   },
   "source": [
    "Este algorimo es bastante inestable ya que aunque hasta las primeras 15 iteraciones el error disminuye, despues de este punto el error empieza a aumentar bastante rapido, esto posiblemente debido a el crecimiento del error de rendodeo producto de la composición de operaciones."
   ]
  },
  {
   "cell_type": "markdown",
   "id": "7dabaed0",
   "metadata": {
    "heading_collapsed": true
   },
   "source": [
    "#### Problema 8."
   ]
  },
  {
   "cell_type": "code",
   "execution_count": 14,
   "id": "b87adf93",
   "metadata": {
    "hidden": true
   },
   "outputs": [
    {
     "name": "stdout",
     "output_type": "stream",
     "text": [
      "x_1 = 0.3333333333333333\n",
      "x_2 = 0.08333333333333333\n",
      "x_3 = 0.020833333333333343\n",
      "x_4 = -0.11979166666666663\n",
      "x_5 = -0.4361979166666665\n",
      "x_6 = -1.1481119791666663\n",
      "x_7 = -2.7499186197916656\n",
      "x_8 = -6.353983561197914\n",
      "x_9 = -14.463129679361973\n",
      "x_10 = -32.7087084452311\n",
      "x_11 = -73.76126066843665\n",
      "x_12 = -166.12950317064912\n"
     ]
    }
   ],
   "source": [
    "x_1 = 1/3\n",
    "x_2 = 1/12\n",
    "\n",
    "def f(x_k, x_k_minus1):\n",
    "    return 2.25*x_k - 0.5*x_k_minus1\n",
    "\n",
    "x_3 = f(x_2, x_1)\n",
    "\n",
    "x_k, x_k_minus1 = x_2, x_1\n",
    "\n",
    "print(f\"x_1 = {x_1}\")\n",
    "print(f\"x_2 = {x_2}\")\n",
    "for i in range(10):\n",
    "    x_k, x_k_minus_1 = f(x_k, x_k_minus1), x_k\n",
    "    print(f\"x_{i+3} = {x_k}\")\n",
    "    "
   ]
  },
  {
   "cell_type": "markdown",
   "id": "de792c73",
   "metadata": {},
   "source": [
    "#### Problema 9."
   ]
  },
  {
   "cell_type": "markdown",
   "id": "57111de8",
   "metadata": {},
   "source": [
    "Un ejemplo de un problema mal condicionado es el calculo de soluciones de sistemas de ecuaciones lineales que involucran la matriz: $$A^{T}A$$\n",
    "Un ejemplo de este tipo de problemas son las ecuaciones normales que se usan para resolver problemas de optimización por minimos cuadrados: $$A^{T}Ax = A^{T}b$$ \n",
    "Debido a que el número de condición de $A^{T}A$ es aproximadamente el cuadrado del número de condición de $A$ se puede producir una aplimifacion importante el en error. Es por esto, que normalmente se opta por solucionar el sistema usando descomposición ortogonal como por ejemplo, descomposición QR."
   ]
  },
  {
   "cell_type": "markdown",
   "id": "31816fbc",
   "metadata": {},
   "source": [
    "#### Problema 10."
   ]
  },
  {
   "cell_type": "code",
   "execution_count": 15,
   "id": "c753cd63",
   "metadata": {},
   "outputs": [],
   "source": [
    "def f(x):\n",
    "    return ((((((x-7)*x + 21)*x - 35)*x + 35)*x - 21)*x + 7)*x - 1\n"
   ]
  },
  {
   "cell_type": "markdown",
   "id": "e21c72f0",
   "metadata": {},
   "source": [
    "#### Problema 11. "
   ]
  },
  {
   "cell_type": "markdown",
   "id": "3615e849",
   "metadata": {},
   "source": [
    "Las funciones para el algortimo 1 y 2 son respectivamente:\n",
    "$$y_1(p, q) = \\sqrt{p^2 + q} - p$$\n",
    "$$y_2(p, q) = \\frac{q}{\\sqrt{p^2 + q} + p}$$\n"
   ]
  },
  {
   "cell_type": "code",
   "execution_count": 16,
   "id": "0fa0f9e1",
   "metadata": {},
   "outputs": [
    {
     "name": "stdout",
     "output_type": "stream",
     "text": [
      "y_1 = 999.9982008999191\n",
      "y_2 = 0.000000900000040\n"
     ]
    }
   ],
   "source": [
    "def y_1(p, q):\n",
    "    return math.sqrt(p**2 + q) - q\n",
    "\n",
    "def y_2(p, q):\n",
    "    return q / (math.sqrt(p**2 + q) + p)\n",
    "\n",
    "p = 1000\n",
    "q = 0.001800000081\n",
    "print(f'y_1 = {y_1(p,q)}')\n",
    "print(f'y_2 = {y_2(p,q):.15f}')"
   ]
  },
  {
   "cell_type": "markdown",
   "id": "308709d7",
   "metadata": {},
   "source": [
    "En la primera formula que cuando $q \\approx 0$:\n",
    "$$y_1(p, q) \\approx |p| - p$$\n",
    "Por lo tanto tenemos una resta de numeros cercanos y por lo tanto se produce un error por perdida de digitos. Por lo tanto para los valores dados, es mejor utilizar el segundo algoritmo."
   ]
  }
 ],
 "metadata": {
  "kernelspec": {
   "display_name": "sci-comp",
   "language": "python",
   "name": "sci-comp"
  },
  "language_info": {
   "codemirror_mode": {
    "name": "ipython",
    "version": 3
   },
   "file_extension": ".py",
   "mimetype": "text/x-python",
   "name": "python",
   "nbconvert_exporter": "python",
   "pygments_lexer": "ipython3",
   "version": "3.8.8"
  }
 },
 "nbformat": 4,
 "nbformat_minor": 5
}
