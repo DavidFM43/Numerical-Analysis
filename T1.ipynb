{
 "cells": [
  {
   "cell_type": "markdown",
   "id": "5848ca0b",
   "metadata": {},
   "source": [
    "# Enunciados\n",
    "\n",
    "**PROBLEMA 1.**  ¿Cuánta memoria requiere guardar 100.000 números de punto flotante de precisión doble?¿Cuánta memoria requiere guardar una matriz de números de punto flotante dimensión 100.000 x 100.000?\n",
    "\n",
    "**PROBLEMA 2.** Los números de punto flotante en python son implementados usando la clase float. Es decir, además de la descripción en bits del número tenemos asociados a la una instancia de variable tipo float los los siguientes métodos y atributos para un dato float: as_integer_ratio, conjugate, fromhex, imag, is_integer, real .\n",
    "\n",
    "Describa cada uno de estos métodos y atributos con ejemplos simples. \n",
    "\n",
    "La implementación del tipo de dato float en lenguaje C corresponde solo a la descripción en bits del número y no corresponde a una estructura u objeto. ¿Cuáles son las ventajas y desventajas de usar objetos?. \n",
    "\n",
    "\n",
    "**PROBLEMA 3.(Sullivan)** Con $x_0=1/10$, considere la sucesión,  \n",
    "$$\n",
    "x_{n+1}=\\left\\{\\begin{array}{ll}\n",
    "2x_n & \\mbox{ si } x_n\\in \\left[0,\\frac{1}{2}\\right] \\\\\n",
    "2x_n-1 &  \\mbox{ si } x_n\\in \\left(\\frac{1}{2},1\\right].\n",
    "\\end{array}\\right.\n",
    "$$\n",
    "para $n=1,2,\\dots$. Calcule $x_1,x_2,x_3,\\dots,x_{50}$ de forma análitica y despues usandoun código en python. Compare y explique.\n",
    "\n",
    "Repetir pero ahora iniciando con $x_0=1/8$. Compare y explique. \n",
    "\n",
    "**PROBLEMA 4.** Explique la falla del Ariane. Muestre cálculos numéricos para soportar su explicación. \n",
    "\n",
    "**PROBLEMA 5.**  Explicar la falla del American Patriot. Muestre cálculos numéricos para soportar su explicación.\n",
    "\n",
    "**PROBLEMA 6.** Ensaye calcular las funciones $$f(x)=\\sqrt{x^2+1}-1 \\quad g(x)=\\frac{x^2}{\\sqrt{x^2+1}+1}$$\n",
    "Use valores pequeños como $x=8^{-1},8^{-2},8^{-3},\\dots$. Explique los resultados. Note que, análiticamete,  $f(x)=g(x)$.\n",
    "\n",
    "**PROBLEMA 7.(Quarteroni,Saleri,Gervasio)** El lector puede implementar el calculo de la siguiente recurrencia que approxima $\\pi$ (formula de Franc,ois Viète) y estudiar su estabilidad/instabilidad numérica, \n",
    "$$z_1=2, \\,\\,z_{n+1}=2^{n-1/2}\\sqrt{1-\\sqrt{1-4^{1-n}z_n^2}},\\,\\,n=2,3,\\dots. $$\n",
    "\n",
    "\n",
    "\n",
    "**PROBLEMA 8.(Stewart)** Repita el experimento arriba con la recurrencia $x_1=\\frac{1}{3}, x_2=\\frac{1}{12}$,  $x_{k+1}=2.25x_k-0.5x_{k-1}$.\n",
    "\n",
    "**PROBLEMA 9.** Presente un ejemplo, adicional  a los presentados en clase, de algortimos inestables o problemas mal condicionados. \n",
    "\n",
    "**PROBLEMA 10.** Repita el experimento arriba con $P(x)=(x-1)^7$. Agrege el siguiente método \n",
    "$$  P(x)= ((((((x-7)x+21)x-35)x+35)x-21)x+7)x-1 $$\n",
    "Verifique esta formula. Implemente y comente los resultados. Esta forma de calcular polinimios es conocida como el esquema de Horner.\n",
    "\n",
    "**PROBLEMA 11.(Stoer)** Considere los siguientes algoritmos. Algoritmo 1\n",
    "$$s=p^2,\\quad t=s+q,\\quad u=\\sqrt{t},\\quad y=-p+u  $$\n",
    "y el altoritmo 2, \n",
    "$$s=p^2,\\quad t=s+q,\\quad u=\\sqrt{t}, \\quad v=p+u,\\quad y=q/v $$\n",
    "Escriba $y$ como función de $p$ y $q$. Compare los resutados de estos dos algoritmos cuando $p=1000$,  $q=0.0018000000081$. Explique los resultados. ¿Cuál es mas confiable para estos valores de $p$ y $q$?\n",
    "\n",
    "**PROBLEMA 12.** Considere el siguiente codigo\n",
    "```\n",
    "x=np.sqrt(1/9)\n",
    "print(\"x={0:.60f}\".format(x))\n",
    "```\n",
    "que dá como resultado \n",
    "x=0.333333333333333314829616256247390992939472198486328125000000.\n",
    "\n",
    "Explique, tan detalladamente como le sea posible, lo que  está pasando. \n",
    "Compare con el siguiente código para el cual es más dificil saber la respuesta exacta. \n",
    "```\n",
    "x=np.sqrt(0.1)\n",
    "print(\"x={0:.60f}\".format(x))\n",
    "```\n",
    "¿Cuántos decimales puede garantizar este cálculo?\n",
    "\n",
    "**PROBLEMA 13.** Describa los siguientes tipos de datos :numpy.half,   numpy.float16, numpy.single, numpy.double, numpy.longdouble, numpy.csingle, numpy.cdouble, numpy.clongdouble."
   ]
  },
  {
   "cell_type": "markdown",
   "id": "07ae94e9",
   "metadata": {},
   "source": [
    "# Solución"
   ]
  },
  {
   "cell_type": "markdown",
   "id": "8cb44b6e",
   "metadata": {},
   "source": [
    "**Imports**"
   ]
  },
  {
   "cell_type": "code",
   "execution_count": 4,
   "id": "ba0f982b",
   "metadata": {},
   "outputs": [],
   "source": [
    "import math\n",
    "from IPython.core.interactiveshell import InteractiveShell \n",
    "InteractiveShell.ast_node_interactivity = \"all\""
   ]
  },
  {
   "cell_type": "markdown",
   "id": "80965662",
   "metadata": {},
   "source": [
    "#### Problema 1."
   ]
  },
  {
   "cell_type": "markdown",
   "id": "c5cc426f",
   "metadata": {},
   "source": [
    "**Problema 2.**"
   ]
  },
  {
   "cell_type": "markdown",
   "id": "3c9bfe9e",
   "metadata": {},
   "source": [
    "`x.as_integer_ratio()` retorna una tupla `(a, b)` donde $x = \\frac{a}{b}$."
   ]
  },
  {
   "cell_type": "code",
   "execution_count": 5,
   "id": "29292714",
   "metadata": {},
   "outputs": [
    {
     "name": "stdout",
     "output_type": "stream",
     "text": [
      "a = 884279719003555\n",
      "b = 281474976710656\n",
      "a/b = 3.141592653589793\n"
     ]
    }
   ],
   "source": [
    "pi = math.pi\n",
    "a, b = pi.as_integer_ratio()\n",
    "rat = a / b\n",
    "print(f\"a = {a}\")\n",
    "print(f\"b = {b}\")\n",
    "print(f\"a/b = {rat}\")"
   ]
  },
  {
   "cell_type": "markdown",
   "id": "a0c6ff71",
   "metadata": {},
   "source": [
    "`x.conjugate()` retorna el conjugado de `x`."
   ]
  },
  {
   "cell_type": "code",
   "execution_count": 8,
   "id": "71bce07f",
   "metadata": {},
   "outputs": [
    {
     "name": "stdout",
     "output_type": "stream",
     "text": [
      "Conjugado de 5.0: 5.0\n",
      "Conjugado de 3 + 6j: (3-6j)\n"
     ]
    }
   ],
   "source": [
    "r = 5.0 # número real\n",
    "print(f\"Conjugado de 5.0: {r.conjugate()}\")\n",
    "c = 3 + 6j # número complejo \n",
    "print(f\"Conjugado de 3 + 6j: {c.conjugate()}\")"
   ]
  },
  {
   "cell_type": "markdown",
   "id": "9256f922",
   "metadata": {},
   "source": [
    "`x.is_integer()` retorna `True` si `x` es entero."
   ]
  },
  {
   "cell_type": "code",
   "execution_count": 6,
   "id": "7b0fdbe7",
   "metadata": {},
   "outputs": [
    {
     "name": "stdout",
     "output_type": "stream",
     "text": [
      "False\n",
      "True\n"
     ]
    }
   ],
   "source": [
    "print(pi.is_integer())\n",
    "print(2.0.is_integer())"
   ]
  },
  {
   "cell_type": "markdown",
   "id": "e47a043f",
   "metadata": {},
   "source": [
    "`x.real` es la parte real de `x`."
   ]
  },
  {
   "cell_type": "code",
   "execution_count": 9,
   "id": "81650f5f",
   "metadata": {},
   "outputs": [
    {
     "name": "stdout",
     "output_type": "stream",
     "text": [
      "(3+6j)\n",
      "3.0\n"
     ]
    }
   ],
   "source": [
    "print(c)\n",
    "print(c.real)"
   ]
  },
  {
   "cell_type": "markdown",
   "id": "220c4c66",
   "metadata": {},
   "source": [
    "`x.imag` es la parte compleja de `x`."
   ]
  },
  {
   "cell_type": "code",
   "execution_count": 12,
   "id": "4eefa81d",
   "metadata": {},
   "outputs": [
    {
     "name": "stdout",
     "output_type": "stream",
     "text": [
      "(3+6j)\n",
      "6.0\n"
     ]
    }
   ],
   "source": [
    "print(c)\n",
    "print(c.imag)"
   ]
  },
  {
   "cell_type": "markdown",
   "id": "82a39054",
   "metadata": {},
   "source": [
    "`float.fromhex(x)` donde `x` es un numero hexadecimal, retorna la representación decimal de `x` como `float`."
   ]
  },
  {
   "cell_type": "code",
   "execution_count": 10,
   "id": "64686293",
   "metadata": {},
   "outputs": [
    {
     "name": "stdout",
     "output_type": "stream",
     "text": [
      "3740.0\n"
     ]
    }
   ],
   "source": [
    "print(float.fromhex('0x3.a7p10'))"
   ]
  },
  {
   "cell_type": "markdown",
   "id": "c12fd67c",
   "metadata": {},
   "source": [
    "**Problema 3.**"
   ]
  },
  {
   "cell_type": "code",
   "execution_count": 13,
   "id": "32ee22dc",
   "metadata": {},
   "outputs": [
    {
     "name": "stdout",
     "output_type": "stream",
     "text": [
      "0.1\n",
      "0.2\n",
      "0.4\n",
      "0.8\n",
      "0.6000000000000001\n",
      "0.20000000000000018\n",
      "0.40000000000000036\n",
      "0.8000000000000007\n",
      "0.6000000000000014\n",
      "0.20000000000000284\n",
      "0.4000000000000057\n",
      "0.8000000000000114\n",
      "0.6000000000000227\n",
      "0.20000000000004547\n",
      "0.40000000000009095\n",
      "0.8000000000001819\n",
      "0.6000000000003638\n",
      "0.2000000000007276\n",
      "0.4000000000014552\n",
      "0.8000000000029104\n",
      "0.6000000000058208\n",
      "0.20000000001164153\n",
      "0.40000000002328306\n",
      "0.8000000000465661\n",
      "0.6000000000931323\n",
      "0.20000000018626451\n",
      "0.40000000037252903\n",
      "0.8000000007450581\n",
      "0.6000000014901161\n",
      "0.20000000298023224\n",
      "0.4000000059604645\n",
      "0.800000011920929\n",
      "0.6000000238418579\n",
      "0.20000004768371582\n",
      "0.40000009536743164\n",
      "0.8000001907348633\n",
      "0.6000003814697266\n",
      "0.20000076293945312\n",
      "0.40000152587890625\n",
      "0.8000030517578125\n",
      "0.600006103515625\n",
      "0.20001220703125\n",
      "0.4000244140625\n",
      "0.800048828125\n",
      "0.60009765625\n",
      "0.2001953125\n",
      "0.400390625\n",
      "0.80078125\n",
      "0.6015625\n",
      "0.203125\n"
     ]
    }
   ],
   "source": [
    "x_0 = 1 / 10\n",
    "def f(x_n):\n",
    "    if 0 <= x_n <= 1/2:\n",
    "        return 2*x_n\n",
    "    elif 1/2 < x_n <= 1:\n",
    "        return 2*x_n - 1\n",
    "    \n",
    "x_n = x_0\n",
    "\n",
    "for _ in range(50):\n",
    "    print(x_n)\n",
    "    x_n = f(x_n)"
   ]
  },
  {
   "cell_type": "code",
   "execution_count": 20,
   "id": "b574cefc",
   "metadata": {},
   "outputs": [
    {
     "name": "stdout",
     "output_type": "stream",
     "text": [
      "0.125\n",
      "0.25\n",
      "0.5\n",
      "1.0\n",
      "1.0\n",
      "1.0\n",
      "1.0\n",
      "1.0\n",
      "1.0\n",
      "1.0\n",
      "1.0\n",
      "1.0\n",
      "1.0\n",
      "1.0\n",
      "1.0\n",
      "1.0\n",
      "1.0\n",
      "1.0\n",
      "1.0\n",
      "1.0\n",
      "1.0\n",
      "1.0\n",
      "1.0\n",
      "1.0\n",
      "1.0\n",
      "1.0\n",
      "1.0\n",
      "1.0\n",
      "1.0\n",
      "1.0\n",
      "1.0\n",
      "1.0\n",
      "1.0\n",
      "1.0\n",
      "1.0\n",
      "1.0\n",
      "1.0\n",
      "1.0\n",
      "1.0\n",
      "1.0\n",
      "1.0\n",
      "1.0\n",
      "1.0\n",
      "1.0\n",
      "1.0\n",
      "1.0\n",
      "1.0\n",
      "1.0\n",
      "1.0\n",
      "1.0\n"
     ]
    }
   ],
   "source": [
    "x_0 = 1 / 8 \n",
    "def f(x_n):\n",
    "    if 0 <= x_n <= 1/2:\n",
    "        return 2*x_n\n",
    "    elif 1/2 < x_n <= 1:\n",
    "        return 2*x_n - 1\n",
    "    \n",
    "x_n = x_0\n",
    "for _ in range(50):\n",
    "    print(x_n)\n",
    "    x_n = f(x_n)"
   ]
  },
  {
   "cell_type": "markdown",
   "id": "192c0396",
   "metadata": {},
   "source": [
    "**Problema 6.**"
   ]
  },
  {
   "cell_type": "code",
   "execution_count": 49,
   "id": "4fc9da52",
   "metadata": {},
   "outputs": [
    {
     "name": "stdout",
     "output_type": "stream",
     "text": [
      "f(x) = 0.0077822185373186414 \t g(x) = 0.0077822185373187065\n",
      "f(x) = 0.00012206286282867573 \t g(x) = 0.00012206286282875901\n",
      "f(x) = 1.9073468138230965e-06 \t g(x) = 1.907346813826566e-06\n",
      "f(x) = 2.9802321943606103e-08 \t g(x) = 2.9802321943606116e-08\n",
      "f(x) = 4.656612873077393e-10 \t g(x) = 4.6566128719931904e-10\n",
      "f(x) = 7.275957614183426e-12 \t g(x) = 7.275957614156956e-12\n",
      "f(x) = 1.1368683772161603e-13 \t g(x) = 1.1368683772160957e-13\n",
      "f(x) = 1.7763568394002505e-15 \t g(x) = 1.7763568394002489e-15\n",
      "f(x) = 0.0 \t g(x) = 2.7755575615628914e-17\n"
     ]
    }
   ],
   "source": [
    "def f(x):\n",
    "    return math.sqrt(x**2 + 1) - 1\n",
    "\n",
    "def g(x):\n",
    "    return (x**2) / (math.sqrt(x**2 + 1) + 1)\n",
    "\n",
    "for i in range(1, 10):\n",
    "    x = 8**(-i)\n",
    "    print(f\"f(x) = {f(x)} \\t g(x) = {g(x)}\")"
   ]
  },
  {
   "cell_type": "markdown",
   "id": "b7add975",
   "metadata": {},
   "source": [
    "**Problema 7.**"
   ]
  },
  {
   "cell_type": "code",
   "execution_count": 70,
   "id": "173e3cf0",
   "metadata": {},
   "outputs": [
    {
     "name": "stdout",
     "output_type": "stream",
     "text": [
      "z_1 = 2\n",
      "z_2 = 2.8284271247461903\n",
      "z_3 = 3.0614674589207187\n",
      "z_4 = 3.121445152258053\n",
      "z_5 = 3.136548490545941\n",
      "z_6 = 3.140331156954739\n",
      "z_7 = 3.141277250932757\n",
      "z_8 = 3.1415138011441455\n",
      "z_9 = 3.1415729403678827\n",
      "z_10 = 3.141587725279961\n",
      "z_11 = 3.141591421504635\n",
      "z_12 = 3.141592345611077\n",
      "z_13 = 3.141592576545005\n",
      "z_14 = 3.1415926334632487\n",
      "z_15 = 3.1415926548075896\n"
     ]
    }
   ],
   "source": [
    "z_1 = 2\n",
    "def f(n, z_n):\n",
    "    return 2**(n - 1/2) * math.sqrt(1 - math.sqrt(1 - (4**(1-n)) * (z_n**2)))\n",
    "                                    \n",
    "z_n = 2\n",
    "print(f\"z_1 = 2\")\n",
    "for n in range(2, 16):\n",
    "    z_n = f(n, z_n)\n",
    "    print(f\"z_{n} = {z_n}\")"
   ]
  },
  {
   "cell_type": "markdown",
   "id": "7dabaed0",
   "metadata": {},
   "source": [
    "**Problema 8.**"
   ]
  },
  {
   "cell_type": "code",
   "execution_count": 13,
   "id": "b87adf93",
   "metadata": {},
   "outputs": [
    {
     "name": "stdout",
     "output_type": "stream",
     "text": [
      "x_1 = 0.3333333333333333\n",
      "x_2 = 0.08333333333333333\n",
      "x_3 = 0.020833333333333343\n",
      "x_4 = -0.11979166666666663\n",
      "x_5 = -0.4361979166666665\n",
      "x_6 = -1.1481119791666663\n",
      "x_7 = -2.7499186197916656\n"
     ]
    }
   ],
   "source": [
    "x_1 = 1/3\n",
    "x_2 = 1/12\n",
    "\n",
    "def f(x_k, x_k_minus1):\n",
    "    return 2.25*x_k - 0.5*x_k_minus1\n",
    "\n",
    "x_3 = f(x_2, x_1)\n",
    "\n",
    "x_k, x_k_minus1 = x_2, x_1\n",
    "\n",
    "print(f\"x_1 = {x_1}\")\n",
    "print(f\"x_2 = {x_2}\")\n",
    "for i in range(5):\n",
    "    x_k, x_k_minus_1 = f(x_k, x_k_minus1), x_k\n",
    "    print(f\"x_{i+3} = {x_k}\")\n",
    "    "
   ]
  }
 ],
 "metadata": {
  "kernelspec": {
   "display_name": "sci-comp",
   "language": "python",
   "name": "sci-comp"
  },
  "language_info": {
   "codemirror_mode": {
    "name": "ipython",
    "version": 3
   },
   "file_extension": ".py",
   "mimetype": "text/x-python",
   "name": "python",
   "nbconvert_exporter": "python",
   "pygments_lexer": "ipython3",
   "version": "3.8.8"
  }
 },
 "nbformat": 4,
 "nbformat_minor": 5
}
